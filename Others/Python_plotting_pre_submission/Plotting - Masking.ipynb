{
 "cells": [
  {
   "cell_type": "code",
   "execution_count": 2,
   "metadata": {},
   "outputs": [],
   "source": [
    "import numpy as np\n",
    "import matplotlib.pyplot as plt\n",
    "\n",
    "\n",
    "import pandas as pd\n",
    "import glob\n",
    "\n",
    "import matplotlib.patches as mpatches\n",
    "import matplotlib.colors as colors"
   ]
  },
  {
   "cell_type": "code",
   "execution_count": 3,
   "metadata": {},
   "outputs": [
    {
     "name": "stdout",
     "output_type": "stream",
     "text": [
      "1465\n",
      "0.2\n"
     ]
    }
   ],
   "source": [
    "# States\n",
    "t = 0\n",
    "S = 1\n",
    "A = 2\n",
    "P = 3\n",
    "MI= 4\n",
    "SI= 5\n",
    "R = 6\n",
    "H = 7\n",
    "\n",
    "n_pop = 10000\n",
    "\n",
    "beta015 = np.array(glob.glob('./MaskingData/beta0.15/T*.txt'))\n",
    "beta017 = np.array(glob.glob('./MaskingData/beta0.17/T*.txt'))\n",
    "beta019 = np.array(glob.glob('./MaskingData/beta0.19/T*.txt'))\n",
    "beta021 = np.array(glob.glob('./MaskingData/beta0.21/T*.txt'))\n",
    "beta023 = np.array(glob.glob('./MaskingData/beta0.23/T*.txt'))\n",
    "beta025 = np.array(glob.glob('./MaskingData/beta0.25/T*.txt'))\n",
    "\n",
    "print(len(beta025))\n",
    "\n",
    "print(beta025[0].split(\"_\")[4])"
   ]
  },
  {
   "cell_type": "code",
   "execution_count": 7,
   "metadata": {},
   "outputs": [],
   "source": [
    "def split_sensitivity(files, choice):\n",
    "    # split by sensitivities\n",
    "\n",
    "    point5 = []\n",
    "    point55 = []\n",
    "    point6 = []\n",
    "    point65 = []\n",
    "    point7 = []\n",
    "    point75 = []\n",
    "    point8 = []\n",
    "    point85 = []\n",
    "    point9 = []\n",
    "    point95 = []\n",
    "    point10= []\n",
    "    \n",
    "    for i in range(0,len(files)):\n",
    "        if(files[i].split(\"_\")[6] == \"0.5\"):\n",
    "            point5.append(files[i])\n",
    "        elif(files[i].split(\"_\")[6] == \"0.55\"):\n",
    "            point55.append(files[i])\n",
    "        elif(files[i].split(\"_\")[6] == \"0.6\"):\n",
    "            point6.append(files[i])\n",
    "        if(files[i].split(\"_\")[6] == \"0.65\"):\n",
    "            point65.append(files[i])\n",
    "        elif(files[i].split(\"_\")[6] == \"0.7\"):\n",
    "            point7.append(files[i])\n",
    "        elif(files[i].split(\"_\")[6] == \"0.75\"):\n",
    "            point75.append(files[i])\n",
    "        elif(files[i].split(\"_\")[6] == \"0.8\"):\n",
    "            point8.append(files[i])\n",
    "        elif(files[i].split(\"_\")[6] == \"0.85\"):\n",
    "            point85.append(files[i])\n",
    "        elif(files[i].split(\"_\")[6] == \"0.9\"):\n",
    "            point9.append(files[i])\n",
    "        elif(files[i].split(\"_\")[6] == \"0.95\"):\n",
    "            point95.append(files[i])\n",
    "        elif(files[i].split(\"_\")[6] == \"1.0\"):\n",
    "            point10.append(files[i])\n",
    "        \n",
    "#### Now all files are split into these different sensitivities.\n",
    "    \n",
    "    if(choice == 0.5):\n",
    "        return np.array(point5)\n",
    "    elif(choice == 0.55):\n",
    "        return np.array(point55)\n",
    "    elif(choice == 0.6):\n",
    "        return np.array(point6)\n",
    "    elif(choice == 0.65):\n",
    "        return np.array(point65)\n",
    "    elif(choice == 0.7):\n",
    "        return np.array(point7)\n",
    "    elif(choice == 0.75):\n",
    "        return np.array(point75)\n",
    "    elif(choice == 0.8):\n",
    "        return np.array(point8)\n",
    "    elif(choice == 0.85):\n",
    "        return np.array(point85)\n",
    "    elif(choice == 0.9):\n",
    "        return np.array(point9)\n",
    "    elif(choice == 0.95):\n",
    "        return np.array(point95)\n",
    "    elif(choice == 10.0):\n",
    "        return np.array(point10)\n",
    "    else:\n",
    "        print(\"Invalid choice\")"
   ]
  },
  {
   "cell_type": "code",
   "execution_count": 8,
   "metadata": {},
   "outputs": [],
   "source": [
    "def split_test_rate(files, choice):\n",
    "    # split by test-rates\n",
    "\n",
    "    zero = []\n",
    "    one  = []\n",
    "    two  = []\n",
    "    three= []\n",
    "    four = []\n",
    "    five = []\n",
    "    six  = []\n",
    "    eight= []\n",
    "    ten  = []\n",
    "    \n",
    "    for i in range(0,len(files)):\n",
    "        if(files[i].split(\"_\")[4] == \"0\"):\n",
    "            zero.append(files[i])\n",
    "        elif(files[i].split(\"_\")[4] == \"0.1\"):\n",
    "            one.append(files[i])\n",
    "        elif(files[i].split(\"_\")[4] == \"0.2\"):\n",
    "            two.append(files[i])\n",
    "        elif(files[i].split(\"_\")[4] == \"0.3\"):\n",
    "            three.append(files[i])\n",
    "        elif(files[i].split(\"_\")[4] == \"0.4\"):\n",
    "            four.append(files[i])\n",
    "        elif(files[i].split(\"_\")[4] == \"0.5\"):\n",
    "            five.append(files[i])\n",
    "            \n",
    "#### Now all files are split into these different daily test rates.\n",
    "    \n",
    "    if(choice == 0):\n",
    "        return np.array(zero)\n",
    "    elif(choice == 0.1):\n",
    "        return np.array(one)\n",
    "    elif(choice == 0.2):\n",
    "        return np.array(two)\n",
    "    elif(choice == 0.3):\n",
    "        return np.array(three)\n",
    "    elif(choice == 0.4):\n",
    "        return np.array(four)\n",
    "    elif(choice == 0.5):\n",
    "        return np.array(five)\n",
    "    else:\n",
    "        print(\"Invalid choice\")"
   ]
  },
  {
   "cell_type": "code",
   "execution_count": 9,
   "metadata": {},
   "outputs": [],
   "source": [
    "def split_start_at(files, choice):\n",
    "    # split by test-rates\n",
    "\n",
    "#     zero = []\n",
    "#     one  = []\n",
    "#     two  = []\n",
    "#     three= []\n",
    "#     four = []\n",
    "    five  = []\n",
    "    ten   = []\n",
    "    twenty= []\n",
    "#     ten  = []\n",
    "    \n",
    "    for i in range(0,len(files)):\n",
    "        if(files[i].split(\"_\")[2] == \"5\"):\n",
    "            five.append(files[i])\n",
    "        elif(files[i].split(\"_\")[2] == \"10\"):\n",
    "            ten.append(files[i])\n",
    "        elif(files[i].split(\"_\")[2] == \"20\"):\n",
    "            twenty.append(files[i])\n",
    "        \n",
    "            \n",
    "#### Now all files are split into these different daily test rates.\n",
    "    \n",
    "    if(choice == 5):\n",
    "        return np.array(five)\n",
    "    elif(choice == 10):\n",
    "        return np.array(ten)\n",
    "    elif(choice == 20):\n",
    "        return np.array(twenty)\n",
    "    else:\n",
    "        print(\"Invalid choice\")"
   ]
  },
  {
   "cell_type": "code",
   "execution_count": null,
   "metadata": {},
   "outputs": [],
   "source": []
  },
  {
   "cell_type": "code",
   "execution_count": 10,
   "metadata": {},
   "outputs": [],
   "source": [
    "betafiles = [beta015,beta017,beta019,beta021,beta023,beta025]\n",
    "betas = np.array([0.15, 0.17, 0.19, 0.21, 0.23, 0.25])\n",
    "\n",
    "results_no_testing = []\n",
    "    \n",
    "    "
   ]
  },
  {
   "cell_type": "code",
   "execution_count": 7,
   "metadata": {},
   "outputs": [
    {
     "data": {
      "image/png": "[encoded data removed]",
      "text/plain": [
       "<Figure size 432x288 with 1 Axes>"
      ]
     },
     "metadata": {
      "needs_background": "light"
     },
     "output_type": "display_data"
    }
   ],
   "source": [
    "def no_testing_masking():\n",
    "    \n",
    "    avg_at_end = []\n",
    "    std_at_end = []\n",
    "    \n",
    "    for beta in betafiles:  # For each beta \n",
    "        \n",
    "        many_runs = split_test_rate(split_start_at(beta,10),0)\n",
    "        \n",
    "        temp_file = np.genfromtxt(many_runs[0])\n",
    "        \n",
    "        avg = np.zeros(len(temp_file))\n",
    "        std = np.zeros((len(temp_file),len(many_runs)))\n",
    "        \n",
    "        for i in range(len(many_runs)):  # For each run\n",
    "            \n",
    "            file = np.genfromtxt(many_runs[i]) # Get data from file\n",
    "            \n",
    "            asym_infected = file[:,R] + file[:,A] + file[:,P] + file[:,MI] + file[:,SI] + file[:,H] # All recovered plus leftover infected at 365 days (ideally 0)\n",
    "            \n",
    "            avg += asym_infected       # Add it to an \"average\" array\n",
    "            std[:,i] = asym_infected   # Add a column to an std array\n",
    "            \n",
    "        avg = avg/len(many_runs)/n_pop # Make avg average again\n",
    "        \n",
    "        std_array = np.std(std,axis=1)/n_pop # also make it a fraction of n_pop\n",
    "        \n",
    "        avg_at_end.append(avg[-1])\n",
    "        std_at_end.append(std_array[-1])\n",
    "        \n",
    "    plt.plot(np.array(betas)/0.25,avg_at_end,'-o',color='firebrick')\n",
    "    plt.errorbar( np.array(betas)/0.25, avg_at_end , yerr=std_at_end,color='firebrick',solid_capstyle='projecting', capsize=5,alpha=0.5)\n",
    "    plt.xlabel(\"Fraction of beta = 0.25\")\n",
    "    plt.ylabel(\"Total Fraction Infected\")\n",
    "\n",
    "no_testing_masking()       "
   ]
  },
  {
   "cell_type": "code",
   "execution_count": 8,
   "metadata": {},
   "outputs": [],
   "source": [
    "def masking_with_testing(beta_val):\n",
    "    \n",
    "    if(len(betas[betas==beta_val])==0):\n",
    "        print(\"Invalid choice of beta!\")\n",
    "        return\n",
    "    \n",
    "    colors = [\"navy\", \"royalblue\",\"mediumorchid\",\"darkmagenta\",\"mediumvioletred\",\"crimson\"]\n",
    "    \n",
    "    avg_at_end = []\n",
    "    std_at_end = []\n",
    "    \n",
    "    b_index = np.where(betas==beta_val)[0][0]\n",
    "    \n",
    "    # betafiles[b_index]  are all runs with beta = beta_val\n",
    "    \n",
    "    dtrs = np.array([0,0.1,0.2,0.3,0.4,0.5])\n",
    "    \n",
    "    for dtr in dtrs:  # For each testing rate\n",
    "        \n",
    "        many_runs = split_test_rate(split_start_at(betafiles[b_index],10),dtr)\n",
    "        ## This could just be a function....\n",
    "        temp_file = np.genfromtxt(many_runs[0])\n",
    "        \n",
    "        avg = np.zeros(len(temp_file))\n",
    "        std = np.zeros((len(temp_file),len(many_runs)))\n",
    "        \n",
    "        for i in range(len(many_runs)):  # For each run\n",
    "            \n",
    "            file = np.genfromtxt(many_runs[i]) # Get data from file\n",
    "            \n",
    "            asym_infected = file[:,R] + file[:,A] + file[:,P] + file[:,MI] + file[:,SI] + file[:,H] # All recovered plus leftover infected at 365 days (ideally 0)\n",
    "            \n",
    "            if(dtr==0):\n",
    "                if(asym_infected[-1]<100):\n",
    "                    print(many_runs[i])\n",
    "            \n",
    "            avg += asym_infected       # Add it to an \"average\" array\n",
    "            std[:,i] = asym_infected   # Add a column to an std array\n",
    "            \n",
    "        avg = avg/len(many_runs)/n_pop # Make avg average again\n",
    "        \n",
    "        std_array = np.std(std,axis=1)/n_pop # also make it a fraction of n_pop\n",
    "        \n",
    "        avg_at_end.append(avg[-1])\n",
    "        std_at_end.append(std_array[-1])\n",
    "        \n",
    "        ## Up to here\n",
    "        \n",
    "    plt.plot(dtrs,avg_at_end,'-o',color=colors[b_index], label=str(100-int((beta_val/0.25)*100))+\"% reduction in transmission\")\n",
    "    plt.errorbar(dtrs, avg_at_end , yerr=std_at_end,color=colors[b_index],solid_capstyle='projecting', capsize=5,alpha=0.5)\n",
    "    plt.xlabel(\"Daily Testing Rates (% of population)\")\n",
    "    plt.ylabel(\"Total Fraction Infected\")\n",
    "        \n",
    "    "
   ]
  },
  {
   "cell_type": "code",
   "execution_count": 9,
   "metadata": {},
   "outputs": [
    {
     "data": {
      "text/plain": [
       "<matplotlib.legend.Legend at 0x7f92add17fa0>"
      ]
     },
     "execution_count": 9,
     "metadata": {},
     "output_type": "execute_result"
    },
    {
     "data": {
      "image/png": "[encoded data removed]",
      "text/plain": [
       "<Figure size 432x288 with 1 Axes>"
      ]
     },
     "metadata": {
      "needs_background": "light"
     },
     "output_type": "display_data"
    }
   ],
   "source": [
    "masking_with_testing(0.25)\n",
    "masking_with_testing(0.23)\n",
    "masking_with_testing(0.19)\n",
    "plt.legend()"
   ]
  },
  {
   "cell_type": "code",
   "execution_count": 10,
   "metadata": {},
   "outputs": [],
   "source": [
    "def testing_starting_later(start_at):\n",
    "    \n",
    "    starts = np.array([5,10,20])\n",
    "    \n",
    "    if(len(starts[starts==start_at])==0):\n",
    "        print(\"Invalid choice of start fraction!\")\n",
    "        return\n",
    "    \n",
    "    start_index = np.where(starts==start_at)[0][0]\n",
    "    \n",
    "#     colors = [\"forestgreen\", \"mediumseagreen\",\"mediumspringgreen\",\"turquoise\",\"palegreen\",\"greenyellow\"]\n",
    "    \n",
    "    colors = [\"forestgreen\",\"darkgoldenrod\",\"firebrick\"]\n",
    "    \n",
    "    avg_at_end = []\n",
    "    std_at_end = []\n",
    "    \n",
    "    b_index = np.where(betas==0.25)[0][0] # Get index when beta = 0.25\n",
    "    \n",
    "    # betafiles[b_index]  are all runs with beta = beta_val\n",
    "    \n",
    "    dtrs = np.array([0,0.1,0.2,0.3,0.4,0.5])\n",
    "    \n",
    "    for dtr in dtrs:  # For each testing rate\n",
    "        \n",
    "        many_runs = split_test_rate(split_start_at(betafiles[b_index],start_at),dtr)\n",
    "        ## This could just be a function....\n",
    "        temp_file = np.genfromtxt(many_runs[0])\n",
    "        \n",
    "        avg = np.zeros(len(temp_file))\n",
    "        std = np.zeros((len(temp_file),len(many_runs)))\n",
    "        \n",
    "        for i in range(len(many_runs)):  # For each run\n",
    "            \n",
    "            file = np.genfromtxt(many_runs[i]) # Get data from file\n",
    "            \n",
    "            asym_infected = file[:,R] + file[:,A] + file[:,P] + file[:,MI] + file[:,SI] + file[:,H] # All recovered plus leftover infected at 365 days (ideally 0)\n",
    "            \n",
    "            avg += asym_infected       # Add it to an \"average\" array\n",
    "            std[:,i] = asym_infected   # Add a column to an std array\n",
    "            \n",
    "        avg = avg/len(many_runs)/n_pop # Make avg average again\n",
    "        \n",
    "        std_array = np.std(std,axis=1)/n_pop # also make it a fraction of n_pop\n",
    "        \n",
    "        avg_at_end.append(avg[-1])\n",
    "        std_at_end.append(std_array[-1])\n",
    "        \n",
    "        ## Up to here\n",
    "        \n",
    "    plt.plot(dtrs,avg_at_end,'-o',color=colors[start_index], label=\"Testing starting at \"+str(start_at)+\"% rec\")\n",
    "    plt.errorbar(dtrs, avg_at_end , yerr=std_at_end,color=colors[start_index],solid_capstyle='projecting', capsize=5,alpha=0.5)\n",
    "    plt.xlabel(\"Daily Testing Rates (% of population)\")\n",
    "    plt.ylabel(\"Total Fraction Infected\")"
   ]
  },
  {
   "cell_type": "code",
   "execution_count": 18,
   "metadata": {
    "scrolled": true
   },
   "outputs": [
    {
     "data": {
      "image/png": "[encoded data removed]",
      "text/plain": [
       "<Figure size 432x288 with 1 Axes>"
      ]
     },
     "metadata": {
      "needs_background": "light"
     },
     "output_type": "display_data"
    }
   ],
   "source": [
    "# plt.title(\"Start testing at different fractions of recovered\")\n",
    "testing_starting_later(5)\n",
    "testing_starting_later(10)\n",
    "testing_starting_later(20)\n",
    "plt.legend()\n",
    "# plt.ylim(0,1)\n",
    "plt.savefig(\"comparing_starting_later.png\",dpi=500,facecolor='w')"
   ]
  },
  {
   "cell_type": "code",
   "execution_count": 22,
   "metadata": {},
   "outputs": [
    {
     "data": {
      "image/png": "[encoded data removed]",
      "text/plain": [
       "<Figure size 432x288 with 1 Axes>"
      ]
     },
     "metadata": {
      "needs_background": "light"
     },
     "output_type": "display_data"
    }
   ],
   "source": [
    "testing_starting_later_10(10)\n",
    "masking_with_testing_10(0.23)\n",
    "# testing_starting_later(5)\n",
    "\n",
    "# testing_starting_later(20)\n",
    "\n",
    "plt.title(\"Begin testing when \"+str(10)+\"% have recovered\")\n",
    "\n",
    "# plt.text(0.03, 0.65, \"No masking,\\n    no testing\")\n",
    "# plt.text(0.0, 0.5, \"Masking,\\n no testing\")\n",
    "\n",
    "# plt.text(0.1, 0.16, \"Masking and testing\")\n",
    "# plt.text(0.25, 0.45, \"No masking with testing\")\n",
    "\n",
    "plt.legend()\n",
    "plt.ylim(0.08,0.82)\n",
    "plt.savefig(\"NEW_comparing_effects_of_masking.png\",dpi=500,facecolor='w')"
   ]
  },
  {
   "cell_type": "code",
   "execution_count": null,
   "metadata": {},
   "outputs": [],
   "source": []
  },
  {
   "cell_type": "code",
   "execution_count": null,
   "metadata": {},
   "outputs": [],
   "source": []
  },
  {
   "cell_type": "code",
   "execution_count": null,
   "metadata": {},
   "outputs": [],
   "source": []
  },
  {
   "cell_type": "code",
   "execution_count": null,
   "metadata": {},
   "outputs": [],
   "source": []
  },
  {
   "cell_type": "code",
   "execution_count": null,
   "metadata": {},
   "outputs": [],
   "source": []
  },
  {
   "cell_type": "code",
   "execution_count": null,
   "metadata": {},
   "outputs": [],
   "source": []
  },
  {
   "cell_type": "code",
   "execution_count": null,
   "metadata": {},
   "outputs": [],
   "source": []
  },
  {
   "cell_type": "code",
   "execution_count": null,
   "metadata": {},
   "outputs": [],
   "source": []
  },
  {
   "cell_type": "code",
   "execution_count": null,
   "metadata": {},
   "outputs": [],
   "source": []
  },
  {
   "cell_type": "code",
   "execution_count": null,
   "metadata": {},
   "outputs": [],
   "source": []
  },
  {
   "cell_type": "code",
   "execution_count": null,
   "metadata": {},
   "outputs": [],
   "source": []
  },
  {
   "cell_type": "code",
   "execution_count": null,
   "metadata": {},
   "outputs": [],
   "source": []
  },
  {
   "cell_type": "code",
   "execution_count": null,
   "metadata": {},
   "outputs": [],
   "source": []
  },
  {
   "cell_type": "code",
   "execution_count": null,
   "metadata": {},
   "outputs": [],
   "source": []
  },
  {
   "cell_type": "code",
   "execution_count": null,
   "metadata": {},
   "outputs": [],
   "source": []
  },
  {
   "cell_type": "code",
   "execution_count": null,
   "metadata": {},
   "outputs": [],
   "source": []
  },
  {
   "cell_type": "code",
   "execution_count": null,
   "metadata": {},
   "outputs": [],
   "source": []
  },
  {
   "cell_type": "code",
   "execution_count": null,
   "metadata": {},
   "outputs": [],
   "source": []
  },
  {
   "cell_type": "code",
   "execution_count": null,
   "metadata": {},
   "outputs": [],
   "source": []
  },
  {
   "cell_type": "code",
   "execution_count": null,
   "metadata": {},
   "outputs": [],
   "source": []
  },
  {
   "cell_type": "code",
   "execution_count": 16,
   "metadata": {},
   "outputs": [],
   "source": [
    "# no_testing_masking()   "
   ]
  },
  {
   "cell_type": "code",
   "execution_count": 13,
   "metadata": {},
   "outputs": [],
   "source": [
    "def testing_starting_later_10(start_at):\n",
    "    \n",
    "    starts = np.array([5,10,20])\n",
    "    \n",
    "    if(len(starts[starts==start_at])==0):\n",
    "        print(\"Invalid choice of start fraction!\")\n",
    "        return\n",
    "    \n",
    "    start_index = np.where(starts==start_at)[0][0]\n",
    "    \n",
    "#     colors = [\"forestgreen\", \"mediumseagreen\",\"mediumspringgreen\",\"turquoise\",\"palegreen\",\"greenyellow\"]\n",
    "    \n",
    "    colors = [\"forestgreen\",\"darkgoldenrod\",\"firebrick\"]\n",
    "    \n",
    "    avg_at_end = []\n",
    "    std_at_end = []\n",
    "    \n",
    "    b_index = np.where(betas==0.25)[0][0] # Get index when beta = 0.25\n",
    "    \n",
    "    # betafiles[b_index]  are all runs with beta = beta_val\n",
    "    \n",
    "    dtrs = np.array([0,0.1,0.2,0.3,0.4,0.5])\n",
    "    \n",
    "    for dtr in dtrs:  # For each testing rate\n",
    "        \n",
    "        many_runs = split_test_rate(split_start_at(betafiles[b_index],start_at),dtr)\n",
    "        ## This could just be a function....\n",
    "        temp_file = np.genfromtxt(many_runs[0])\n",
    "        \n",
    "        avg = np.zeros(len(temp_file))\n",
    "        std = np.zeros((len(temp_file),len(many_runs)))\n",
    "        \n",
    "        for i in range(len(many_runs)):  # For each run\n",
    "            \n",
    "            file = np.genfromtxt(many_runs[i]) # Get data from file\n",
    "            \n",
    "            asym_infected = file[:,R] + file[:,A] + file[:,P] + file[:,MI] + file[:,SI] + file[:,H] # All recovered plus leftover infected at 365 days (ideally 0)\n",
    "            \n",
    "            avg += asym_infected       # Add it to an \"average\" array\n",
    "            std[:,i] = asym_infected   # Add a column to an std array\n",
    "            \n",
    "        avg = avg/len(many_runs)/n_pop # Make avg average again\n",
    "        \n",
    "        std_array = np.std(std,axis=1)/n_pop # also make it a fraction of n_pop\n",
    "        \n",
    "        avg_at_end.append(avg[-1])\n",
    "        std_at_end.append(std_array[-1])\n",
    "        \n",
    "        ## Up to here\n",
    "        \n",
    "    plt.plot(dtrs,avg_at_end,'-o',color=colors[start_index], label=\"Testing only\")\n",
    "    plt.errorbar(dtrs, avg_at_end , yerr=std_at_end,color=colors[start_index],solid_capstyle='projecting', capsize=5,alpha=0.5)\n",
    "    plt.xlabel(\"Daily Testing Rates (% of population)\")\n",
    "    plt.ylabel(\"Total Fraction Infected\")"
   ]
  },
  {
   "cell_type": "code",
   "execution_count": 14,
   "metadata": {},
   "outputs": [],
   "source": [
    "def masking_with_testing_10(beta_val):\n",
    "    \n",
    "    if(len(betas[betas==beta_val])==0):\n",
    "        print(\"Invalid choice of beta!\")\n",
    "        return\n",
    "    \n",
    "#     colors = [\"navy\", \"royalblue\",\"mediumorchid\",\"darkmagenta\",\"mediumvioletred\",\"crimson\"]\n",
    "    colors = [\"navy\", \"royalblue\",\"mediumorchid\",\"darkmagenta\",\"tab:blue\",\"crimson\"]\n",
    "    \n",
    "    avg_at_end = []\n",
    "    std_at_end = []\n",
    "    \n",
    "    b_index = np.where(betas==beta_val)[0][0]\n",
    "    \n",
    "    # betafiles[b_index]  are all runs with beta = beta_val\n",
    "    \n",
    "    dtrs = np.array([0,0.1,0.2,0.3,0.4,0.5])\n",
    "    \n",
    "    for dtr in dtrs:  # For each testing rate\n",
    "        \n",
    "        many_runs = split_test_rate(split_start_at(betafiles[b_index],10),dtr)\n",
    "        ## This could just be a function....\n",
    "        temp_file = np.genfromtxt(many_runs[0])\n",
    "        \n",
    "        avg = np.zeros(len(temp_file))\n",
    "        std = np.zeros((len(temp_file),len(many_runs)))\n",
    "        \n",
    "        for i in range(len(many_runs)):  # For each run\n",
    "            \n",
    "            file = np.genfromtxt(many_runs[i]) # Get data from file\n",
    "            \n",
    "            asym_infected = file[:,R] + file[:,A] + file[:,P] + file[:,MI] + file[:,SI] + file[:,H] # All recovered plus leftover infected at 365 days (ideally 0)\n",
    "            \n",
    "            if(dtr==0):\n",
    "                if(asym_infected[-1]<100):\n",
    "                    print(many_runs[i])\n",
    "            \n",
    "            avg += asym_infected       # Add it to an \"average\" array\n",
    "            std[:,i] = asym_infected   # Add a column to an std array\n",
    "            \n",
    "        avg = avg/len(many_runs)/n_pop # Make avg average again\n",
    "        \n",
    "        std_array = np.std(std,axis=1)/n_pop # also make it a fraction of n_pop\n",
    "        \n",
    "        avg_at_end.append(avg[-1])\n",
    "        std_at_end.append(std_array[-1])\n",
    "        \n",
    "        ## Up to here\n",
    "        \n",
    "    plt.plot(dtrs,avg_at_end,'-o',color=colors[b_index], label=\"Testing and Masking\")#str(100-int((beta_val/0.25)*100))+\"% reduction in transmission\")\n",
    "    plt.errorbar(dtrs, avg_at_end , yerr=std_at_end,color=colors[b_index],solid_capstyle='projecting', capsize=5,alpha=0.5)\n",
    "    plt.xlabel(\"Daily Testing Rates (% of population)\")\n",
    "    plt.ylabel(\"Total Fraction Infected\")\n",
    "        \n",
    "    "
   ]
  },
  {
   "cell_type": "code",
   "execution_count": 34,
   "metadata": {},
   "outputs": [],
   "source": [
    "## Plotting histogrms\n",
    "def histograms(beta_val):\n",
    "    \n",
    "    if(len(betas[betas==beta_val])==0):\n",
    "        print(\"Invalid choice of beta!\")\n",
    "        return\n",
    "    \n",
    "    colors = [\"navy\", \"royalblue\",\"mediumorchid\",\"darkmagenta\",\"mediumvioletred\",\"crimson\"]\n",
    "    \n",
    "    avg_at_end = []\n",
    "    std_at_end = []\n",
    "    \n",
    "    b_index = np.where(betas==beta_val)[0][0]\n",
    "    \n",
    "    # betafiles[b_index]  are all runs with beta = beta_val\n",
    "    \n",
    "#     dtrs = np.array([0,0.1,0.2,0.3,0.4,0.5])\n",
    "    dtrs = np.array([0])\n",
    "    \n",
    "    for dtr in dtrs:  # For each testing rate\n",
    "        \n",
    "        many_runs = split_test_rate(split_start_at(betafiles[b_index],10),dtr)\n",
    "        ## This could just be a function....\n",
    "        temp_file = np.genfromtxt(many_runs[0])\n",
    "        \n",
    "        avg = np.zeros(len(temp_file))\n",
    "        std = np.zeros((len(temp_file),len(many_runs)))\n",
    "        \n",
    "        for i in range(len(many_runs)):  # For each run\n",
    "            \n",
    "            file = np.genfromtxt(many_runs[i]) # Get data from file\n",
    "            \n",
    "            asym_infected = file[:,R] + file[:,A] + file[:,P] + file[:,MI] + file[:,SI] + file[:,H] # All recovered plus leftover infected at 365 days (ideally 0)\n",
    "            \n",
    "            if(dtr==0):\n",
    "                if(asym_infected[-1]<100):\n",
    "                    print(many_runs[i])\n",
    "            \n",
    "            avg += asym_infected       # Add it to an \"average\" array\n",
    "            std[:,i] = asym_infected   # Add a column to an std array\n",
    "            \n",
    "        avg = avg/len(many_runs)/n_pop # Make avg average again\n",
    "        \n",
    "#         std_array = np.std(std,axis=1)/n_pop # also make it a fraction of n_pop\n",
    "        \n",
    "#         avg_at_end.append(avg[-1])\n",
    "#         std_at_end.append(std_array[-1])\n",
    "        \n",
    "        ## Up to here\n",
    "        \n",
    "#     plt.plot(dtrs,avg_at_end,'-o',color=colors[b_index], label=str(100-int((beta_val/0.25)*100))+\"% reduction in transmission\")\n",
    "#     plt.errorbar(dtrs, avg_at_end , yerr=std_at_end,color=colors[b_index],solid_capstyle='projecting', capsize=5,alpha=0.5)\n",
    "#     plt.xlabel(\"Daily Testing Rates (% of population)\")\n",
    "#     plt.ylabel(\"Total Fraction Infected\")\n",
    "    \n",
    "    plt.hist(std[-1]/n_pop,alpha=0.5,label=r\"$\\beta$ = \"+str(beta_val)+\", Avg =\"+str(round(avg[-1],2)))\n",
    "        \n",
    "    "
   ]
  },
  {
   "cell_type": "code",
   "execution_count": 35,
   "metadata": {},
   "outputs": [
    {
     "data": {
      "text/plain": [
       "<matplotlib.legend.Legend at 0x7f9d76096d30>"
      ]
     },
     "execution_count": 35,
     "metadata": {},
     "output_type": "execute_result"
    },
    {
     "data": {
      "image/png": "[encoded data removed]",
      "text/plain": [
       "<Figure size 432x288 with 1 Axes>"
      ]
     },
     "metadata": {
      "needs_background": "light"
     },
     "output_type": "display_data"
    }
   ],
   "source": [
    "histograms(0.25)\n",
    "histograms(0.23)\n",
    "plt.legend()"
   ]
  },
  {
   "cell_type": "code",
   "execution_count": null,
   "metadata": {},
   "outputs": [],
   "source": []
  }
 ],
 "metadata": {
  "kernelspec": {
   "display_name": "Python 3",
   "language": "python",
   "name": "python3"
  },
  "language_info": {
   "codemirror_mode": {
    "name": "ipython",
    "version": 3
   },
   "file_extension": ".py",
   "mimetype": "text/x-python",
   "name": "python",
   "nbconvert_exporter": "python",
   "pygments_lexer": "ipython3",
   "version": "3.8.5"
  }
 },
 "nbformat": 4,
 "nbformat_minor": 4
}
