{
 "cells": [
  {
   "cell_type": "code",
   "execution_count": 1,
   "metadata": {},
   "outputs": [],
   "source": [
    "# Importing the necessary packages\n",
    "import numpy as np\n",
    "from scipy.integrate import odeint\n",
    "import matplotlib.pyplot as plt\n",
    "from datetime import datetime\n",
    "from matplotlib import dates as pltdates"
   ]
  },
  {
   "cell_type": "code",
   "execution_count": 2,
   "metadata": {},
   "outputs": [],
   "source": [
    "# Importing Data ########################\n",
    "\n",
    "# Global airline routes from OpenFlights\n",
    "airlineCode, airlineID, source, sourceID, destination, destinationID, codeshare, stops, equipment = np.loadtxt(\"../data/routes.csv\",delimiter=\",\",unpack=True,dtype='U',encoding='utf8')\n",
    "\n",
    "# Airport and location data from OpenFlights\n",
    "ap_city,ap_country,iata,icao = np.loadtxt(\"../data/airports.csv\",delimiter=\",\",usecols=[2,3,4,5],unpack=True,dtype='U',encoding='utf8')\n",
    "\n",
    "# List of Indian Airports\n",
    "ind_airports_iata = iata[(ap_country==\"India\")]  # List of all Indian airports\n",
    "\n",
    "# Removing quotation marks. (Some extra commas are causing trouble, should fix it)\n",
    "ind_airports_iata = np.array([w.replace('\"', '') for w in ind_airports_iata])\n",
    "ap_city = np.array([w.replace('\"', '') for w in ap_city])\n",
    "ap_country = np.array([w.replace('\"', '') for w in ap_country])\n",
    "iata = np.array([w.replace('\"', '') for w in iata])\n",
    "icao = np.array([w.replace('\"', '') for w in icao])\n",
    "\n",
    "\n",
    "# Getting Country-wise Ban Data\n",
    "ban_country, ban_date = np.loadtxt(\"../data/ban_data.csv\",delimiter=\",\",usecols=[0,1],unpack=True,dtype='U',encoding='utf8')\n",
    "\n",
    "# ### Today's date ###\n",
    "\n",
    "# today = datetime.now().strftime(\"%Y\")+now.strftime(\"%m\")+now.strftime(\"%d\")\n",
    "\n",
    "# print(today)\n",
    "\n",
    "\n",
    "\n",
    "## Collect the day-wise confirmed cases data #########\n",
    "\n",
    "# Finding the dates over which we collect data, and the total number of columns N\n",
    "\n",
    "with open(\"../data/infected_data.csv\", 'rb') as f:\n",
    "    line = next(f) # read 1 line\n",
    "    N = len(line.split(b','))\n",
    "\n",
    "dates = np.loadtxt(\"../data/infected_data.csv\",delimiter=\",\",usecols=np.arange(1,N-1),unpack=True,dtype='int64')[:,0]\n",
    "    \n",
    "# List of countries for infected data\n",
    "countries = np.loadtxt(\"../data/infected_data.csv\",delimiter=\",\",skiprows=1,usecols=(0),unpack=True,dtype='U')\n",
    "# List of infected per country as a function of time\n",
    "countrywise_infected = np.loadtxt(\"../data/infected_data.csv\",delimiter=\",\",skiprows=1,usecols=np.arange(1,N-1),unpack=True,dtype='U')\n",
    "# Population per country and the travelling population\n",
    "pop_country, pop_total, pop_urban, pop_travelling = np.loadtxt(\"../data/pop_data.csv\",delimiter=\",\",usecols=(0,2,3,4),unpack=True,dtype='U')\n",
    "\n",
    "\n",
    "tpc = 2 ## Choose 1: Total population ||  2: Urban population || 3: Flying population\n",
    "        ## I have chosen to use urban population in the denominator\n",
    "\n",
    "\n",
    "#######################################################\n"
   ]
  },
  {
   "cell_type": "code",
   "execution_count": 12,
   "metadata": {},
   "outputs": [],
   "source": [
    "# Input Parameters #######################\n",
    "\n",
    "ppl_per_flt = 200\n",
    "\n",
    "q_date = [20200131,20200229,20200331]\n",
    "q_prob = [0       ,0.25    ,0.50]\n"
   ]
  },
  {
   "cell_type": "code",
   "execution_count": 13,
   "metadata": {},
   "outputs": [],
   "source": [
    "list_iap = [] # List of Indian Airports\n",
    "\n",
    "for i in range(0,len(ind_airports_iata)):\n",
    "    if(ind_airports_iata[i]!=\"\\\\N\"):\n",
    "        list_iap.append(ind_airports_iata[i])\n",
    "\n",
    "\n",
    "# Finding Foreign Airports Feeding into each Indian Airport ###########\n",
    "        \n",
    "list_fap = [] # List of Foreign Airports feeding to Indian Airport i\n",
    "\n",
    "for i in range(0,len(list_iap)):\n",
    "    all_origins = source[(destination==list_iap[i])] # Find all flights to an Indian airport i\n",
    "    \n",
    "    temp_list=[]\n",
    "    \n",
    "    for o in all_origins:               # For every foreign airport to i\n",
    "        if (o not in list_iap):         # If the airport isn't an Indian airport\n",
    "            temp_list.append(o)         # Add it to a temporary list\n",
    "    \n",
    "    list_fap.append(temp_list)          # Append this list to list_fap\n",
    "\n",
    "\n",
    "list_fc = []  # List of Foreign countries feeding into Indian Airport i\n",
    "\n",
    "# Finding Foreign Countries Feeding into each Indian Airport ###########\n",
    "\n",
    "for i in range(0,len(list_fap)):\n",
    "    temp_list=[]\n",
    "    for j in range(0,len(list_fap[i])):\n",
    "        temp_name = ap_country[np.where(iata==list_fap[i][j])]\n",
    "        if(len(temp_name)== 0):\n",
    "            print(\"Airport with code\" + list_fap[i][j] + \" not found!\")\n",
    "        else:\n",
    "            temp_list.append(temp_name[0])\n",
    "    list_fc.append(temp_list)"
   ]
  },
  {
   "cell_type": "code",
   "execution_count": 14,
   "metadata": {},
   "outputs": [],
   "source": [
    "# D_ij: Number of passengers flying from airport j to Indian airport i on a day t #######################################\n",
    "\n",
    "def Dij(fcs,t):\n",
    "    temp_list = []\n",
    "    for j in range(0,len(fcs)):\n",
    "        if(fcs[j]==\"Hong Kong\"):\n",
    "            ctry = \"China\"\n",
    "        elif(fcs[j]==\"Yemen\" or fcs[j]==\"Burma\"  or fcs[j]==\"Turkmenistan\" or fcs[j]==\"Tajikistan\" or fcs[j]==\"Reunion\"):\n",
    "            ctry = \"Other\"\n",
    "        else:\n",
    "            ctry = fcs[j]\n",
    "        \n",
    "        ctry_ind = np.where(ban_country==ctry)\n",
    "        #print(ctry)\n",
    "\n",
    "        if(len(ctry_ind[0])==0):\n",
    "            print(\"Country \" + ctry + \" not found.\")\n",
    "            temp_list.append(\"-\")\n",
    "        else:\n",
    "            index = ctry_ind[0][0]\n",
    "            #temp_list.append(ban_date[index])\n",
    "            #print(int(ban_date[index]))\n",
    "            \n",
    "            if(int(ban_date[index])<t):\n",
    "                temp_list.append(int(ppl_per_flt))\n",
    "            else:\n",
    "                temp_list.append(int(0))\n",
    "    \n",
    "    return np.array(temp_list)\n",
    "##############################################################################        \n",
    "\n",
    "\n",
    "# pj: Fraction of the travellers from country j that are infected ############\n",
    "\n",
    "def pj(fcs, t):\n",
    "    temp_list = []\n",
    "    \n",
    "    try:\n",
    "        col = np.where(dates==t)[0][0]\n",
    "        \n",
    "        for j in range(0,len(fcs)):\n",
    "            if(fcs[j]==\"Hong Kong\"):\n",
    "                ctry = \"China\"\n",
    "            elif(fcs[j]==\"Yemen\" or fcs[j]==\"Burma\" or fcs[j]==\"Turkmenistan\"or fcs[j]==\"Tajikistan\" or fcs[j]==\"Maldives\"  or fcs[j]==\"Reunion\"):\n",
    "                ctry = \"Other\"\n",
    "            else:\n",
    "                ctry = fcs[j]\n",
    "        \n",
    "            try:\n",
    "                \n",
    "                row = np.where(countries==ctry)[0][0]\n",
    "                pop_ch = []\n",
    "                if(tpc == 1):\n",
    "                    pop_ch = pop_total\n",
    "                elif(tpc == 2):\n",
    "                    pop_ch = pop_urban\n",
    "                elif(tpc == 3):\n",
    "                    pop_ch = pop_travelling\n",
    "                else:\n",
    "                    print(\"Invalid choice of variable tpc\")\n",
    "                \n",
    "                total_pop_index = np.where(pop_country==ctry)[0][0]\n",
    "                total_pop = float(pop_ch[total_pop_index])\n",
    "                #print(total_pop)\n",
    "                \n",
    "                temp_list.append(float(countrywise_infected[col][row])/total_pop)\n",
    "            except IndexError:\n",
    "                print(\"Country \" + ctry + \" not found!\")\n",
    "            \n",
    "    except IndexError:\n",
    "        print(\"Date invalid!\")\n",
    "    \n",
    "    return np.array(temp_list)\n",
    "##################################################################################\n",
    "\n",
    "### q(t): Detection probability at Indian airports on day t ######################\n",
    "\n",
    "def q(t):\n",
    "    _i = 0\n",
    "    \n",
    "    if(t<=q_date[_i]):\n",
    "        return q_prob[0]                # Detection probability in Jan\n",
    "    \n",
    "    for _i in range (1,len(q_date)):\n",
    "        if(q_date[_i-1]<t<=q_date[_i]):\n",
    "            return q_prob[_i]             # Detection probability in Feb\n",
    "            break"
   ]
  },
  {
   "cell_type": "code",
   "execution_count": 15,
   "metadata": {
    "scrolled": false
   },
   "outputs": [
    {
     "data": {
      "image/png": "[encoded data removed]",
      "text/plain": [
       "<Figure size 432x288 with 1 Axes>"
      ]
     },
     "metadata": {
      "needs_background": "light"
     },
     "output_type": "display_data"
    }
   ],
   "source": [
    "\n",
    "# Plotting out the infected that have entered the country ######################\n",
    "\n",
    "inf_at_t = []\n",
    "\n",
    "for t in dates:\n",
    "    ans = 0.0                           # Sum over all airports i\n",
    "    for i in range(0,len(list_fc)):\n",
    "        if(len(list_fc[i])==0):         # If no international airports feed in, add 0 people\n",
    "            ans = ans + 0\n",
    "        else:\n",
    "            Dijpj = np.sum(Dij(list_fc[i],t)*pj(list_fc[i],t))  # Sum all individuals from airport j\n",
    "            ans = ans+Dijpj             # Sum over all Indian airports i\n",
    "            \n",
    "    inf_at_t.append(ans*(1-q(t)))       # Return the total number that escaped detection\n",
    "\n",
    "\n",
    "    \n",
    "# Format the graph to show dates on the x-axis ###################################################\n",
    "\n",
    "datelist=[]                             # List of all dates over which we're running this simulation\n",
    "\n",
    "for d in dates:\n",
    "    datelist.append(str(d))\n",
    "\n",
    "converted_dates = list(map(datetime.strptime, datelist, len(datelist)*['%Y%m%d']))\n",
    "x_axis = converted_dates\n",
    "y_axis = inf_at_t\n",
    "\n",
    "plt.plot(x_axis,y_axis,linestyle='--')\n",
    "plt.scatter(x_axis,y_axis)\n",
    "\n",
    "ax = plt.gcf().axes[0] \n",
    "formatter = pltdates.DateFormatter('%Y%m%d')\n",
    "ax.xaxis.set_major_formatter(formatter)\n",
    "plt.gcf().autofmt_xdate(rotation=25)\n",
    "#plt.savefig('../images/n_inf_at_t using flying_pop.png')\n",
    "plt.show()\n",
    "\n",
    "##################################################################################################"
   ]
  },
  {
   "cell_type": "code",
   "execution_count": 16,
   "metadata": {},
   "outputs": [],
   "source": [
    "def SIR(inf,t_in,t_fin):\n",
    "    \n",
    "    # Input parameters ####################\n",
    "    N = 1e9                      # int; Total population.\n",
    "    \n",
    "    I0, R0 = inf, 0             # float; float; Initial number of infected and recovered individuals\n",
    "    \n",
    "    S0 = N - I0 - R0            # float; Everyone else, S0, is susceptible to infection initially.\n",
    "    \n",
    "    beta, gamma = 2.4,1.0 # Contact rate, beta, and mean recovery rate, gamma, (in 1/days).\n",
    "    \n",
    "    t = np.linspace(t_in, t_fin, t_fin+1-t_in)# A grid of time points (in days)\n",
    "    \n",
    "    #########################################\n",
    "\n",
    "    # The SIR differential equations ########\n",
    "    \n",
    "    def deriv(y, t, N, beta, gamma):\n",
    "        S, I, R = y\n",
    "        dSdt = -beta * S * I / N\n",
    "        dIdt = beta * S * I / N - gamma * I\n",
    "        dRdt = gamma * I\n",
    "        return dSdt, dIdt, dRdt\n",
    "    \n",
    "    #########################################\n",
    "    \n",
    "    y0 = S0, I0, R0                                   # Initial conditions vector\n",
    "    \n",
    "    ret = odeint(deriv, y0, t, args=(N, beta, gamma)) # Integrate the SIR equations over the time grid, t.\n",
    "    \n",
    "    S, I, R = ret.T                                   # Return the transpose of the matrix\n",
    "    return I/N\n",
    "\n",
    "#     plt.plot(t,S)\n",
    "#     plt.plot(t,I)\n",
    "#     plt.plot(t,R)"
   ]
  },
  {
   "cell_type": "code",
   "execution_count": 17,
   "metadata": {},
   "outputs": [
    {
     "data": {
      "image/png": "[encoded data removed]",
      "text/plain": [
       "<Figure size 432x288 with 1 Axes>"
      ]
     },
     "metadata": {
      "needs_background": "light"
     },
     "output_type": "display_data"
    },
    {
     "data": {
      "image/png": "[encoded data removed]",
      "text/plain": [
       "<Figure size 432x288 with 1 Axes>"
      ]
     },
     "metadata": {
      "needs_background": "light"
     },
     "output_type": "display_data"
    }
   ],
   "source": [
    "\n",
    "T =  int(1.5*len(dates))                        # Total number days over which we're looking (till present)\n",
    "\n",
    "# 2D array to store data?\n",
    "\n",
    "dat = np.zeros((len(dates),T+1),float)\n",
    "\n",
    "# For every day i, run the simulation from i until day T (present) with inf_at_t[i] as 'initial' infected \n",
    "\n",
    "for i in range(0,len(dates)):\n",
    "    I_from_t = SIR(inf_at_t[i],i,T)\n",
    "    \n",
    "    for j in range(i,T+1):\n",
    "        dat[i][j] = I_from_t[j-i]\n",
    "\n",
    "\n",
    "#print(dat)\n",
    "\n",
    "t_plot = np.linspace(0,T,T+1)\n",
    "inf_plot=np.sum(dat,axis=0)\n",
    "\n",
    "plt.plot(t_plot,inf_plot)\n",
    "plt.xlabel('Time (days)')\n",
    "plt.ylabel('Fraction of population')\n",
    "plt.savefig('../images/total_infected_after_T.png')\n",
    "plt.show()\n",
    "for i in range(0,60):\n",
    "    if(i%5==0):\n",
    "        plt.plot(np.linspace(0,T,T+1),dat[i,:])\n",
    "plt.xlabel('Time (days)')\n",
    "plt.ylabel('Fraction of population')\n",
    "plt.savefig('../images/individual_infected_after_T.png')\n",
    "plt.show()"
   ]
  },
  {
   "cell_type": "code",
   "execution_count": 18,
   "metadata": {},
   "outputs": [
    {
     "data": {
      "image/png": "[encoded data removed]",
      "text/plain": [
       "<Figure size 432x288 with 1 Axes>"
      ]
     },
     "metadata": {
      "needs_background": "light"
     },
     "output_type": "display_data"
    }
   ],
   "source": [
    "dates = [1,2,3,4,5]\n",
    "T =  70 #len(dates)                        # Total number days over which we're looking (till present)\n",
    "\n",
    "# 2D array to store data?\n",
    "\n",
    "dat = np.zeros((len(dates),T+1),float)\n",
    "\n",
    "# For every day i, run the simulation from i until day T (present) with inf_at_t[i] as 'initial' infected \n",
    "\n",
    "for i in range(0,len(dates)):\n",
    "    I_from_t = SIR(i,i,T)\n",
    "    \n",
    "    for j in range(i,T+1):\n",
    "        dat[i][j] = I_from_t[j-i]\n",
    "\n",
    "\n",
    "#print(np.sum(dat,axis=0))\n",
    "\n",
    "tit = np.linspace(0,T,T+1)\n",
    "\n",
    "# print(dat)\n",
    "# print()\n",
    "# print(\"The combined number is:\")\n",
    "# print(np.sum(dat,axis=0))\n",
    "\n",
    "\n",
    "plt.plot(tit,np.sum(dat,axis=0))\n",
    "\n",
    "I_from_t = SIR(inf_at_t[0],0,T)"
   ]
  },
  {
   "cell_type": "code",
   "execution_count": null,
   "metadata": {},
   "outputs": [],
   "source": [
    "fin = 200\n",
    "plt.plot(np.linspace(0,fin,fin+1),SIR(10,0,fin))"
   ]
  },
  {
   "cell_type": "code",
   "execution_count": null,
   "metadata": {},
   "outputs": [],
   "source": [
    "cntry_pop, t_pop, u_pop, a_pop = np.genfromtxt(\"../data/pop_data.csv\",delimiter=\",\",usecols=[0,2,3,4],unpack=True,dtype='U')"
   ]
  },
  {
   "cell_type": "code",
   "execution_count": null,
   "metadata": {},
   "outputs": [],
   "source": []
  },
  {
   "cell_type": "code",
   "execution_count": null,
   "metadata": {},
   "outputs": [],
   "source": []
  },
  {
   "cell_type": "code",
   "execution_count": 24,
   "metadata": {},
   "outputs": [
    {
     "data": {
      "text/plain": [
       "[<matplotlib.lines.Line2D at 0x7ff3d03f97b8>]"
      ]
     },
     "execution_count": 24,
     "metadata": {},
     "output_type": "execute_result"
    },
    {
     "data": {
      "image/png": "[encoded data removed]",
      "text/plain": [
       "<Figure size 432x288 with 1 Axes>"
      ]
     },
     "metadata": {
      "needs_background": "light"
     },
     "output_type": "display_data"
    }
   ],
   "source": [
    "plt.plot(np.linspace(0,20,21),SIR(0.1,0,20))"
   ]
  },
  {
   "cell_type": "code",
   "execution_count": null,
   "metadata": {},
   "outputs": [],
   "source": []
  }
 ],
 "metadata": {
  "kernelspec": {
   "display_name": "Python 3",
   "language": "python",
   "name": "python3"
  },
  "language_info": {
   "codemirror_mode": {
    "name": "ipython",
    "version": 3
   },
   "file_extension": ".py",
   "mimetype": "text/x-python",
   "name": "python",
   "nbconvert_exporter": "python",
   "pygments_lexer": "ipython3",
   "version": "3.6.9"
  }
 },
 "nbformat": 4,
 "nbformat_minor": 4
}
