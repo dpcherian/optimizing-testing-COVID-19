{
 "cells": [
  {
   "cell_type": "code",
   "execution_count": 1,
   "metadata": {},
   "outputs": [],
   "source": [
    "import numpy as np\n",
    "import matplotlib.pyplot as plt\n",
    "from math import erf, gamma\n",
    "import scipy.optimize as scp\n",
    "from scipy.integrate import quad"
   ]
  },
  {
   "cell_type": "markdown",
   "metadata": {},
   "source": [
    "## Sampling from a Gaussian\n",
    "\n",
    "Let's suppose that we have a distribution $$P(x) = \\frac{1}{\\sqrt{2\\pi\\sigma^2}}e^{-\\frac{x^2}{2\\sigma}}$$\n",
    "\n",
    "that we want to sample from. What we need to do is choose a random number $r$ in $[0,1)$, and then solve $P(x) = r$."
   ]
  },
  {
   "cell_type": "code",
   "execution_count": null,
   "metadata": {},
   "outputs": [],
   "source": [
    "def get_p():\n",
    "    r = np.random.random()\n",
    "    mu=0\n",
    "    sigma=1\n",
    "    \n",
    "    def P(x):\n",
    "        y = (x - mu)/(np.sqrt(2)*sigma)    \n",
    "        return 1/2 * ( 1 + erf(y) )\n",
    "    def dP(x):\n",
    "        y = (x - mu)/(np.sqrt(2)*sigma)    \n",
    "        return 1/np.sqrt(2*np.pi*sigma**2)*np.exp(-y**2)\n",
    "    eps=1\n",
    "    x=mu\n",
    "    while(abs(eps)>0.000001):\n",
    "        old_x = x\n",
    "        x = x - (P(x)-r)/dP(x)\n",
    "        \n",
    "        eps = old_x-x\n",
    "    \n",
    "    return x"
   ]
  },
  {
   "cell_type": "code",
   "execution_count": null,
   "metadata": {},
   "outputs": [],
   "source": [
    "num = []\n",
    "for i in range(0,100000):\n",
    "    num.append(get_p())\n",
    "\n",
    "num = np.array(num)\n",
    "\n",
    "hist,bins = np.histogram(num)\n",
    "\n",
    "plt.hist(num,bins=np.linspace(-4,4,100))\n",
    "plt.show()"
   ]
  },
  {
   "cell_type": "markdown",
   "metadata": {},
   "source": [
    "## Sampling from a Gamma Distribution\n",
    "\n",
    "A gamma distribution has a CDF:\n",
    "\n",
    "$$P(x) = \\frac{\\beta^\\alpha}{\\Gamma(\\alpha)} x^{\\alpha-1} e^{-\\beta x} $$\n",
    "\n",
    "and a PDF:\n",
    "\n",
    "$$\\rho(x) = \\frac{\\beta^\\alpha}{\\Gamma(\\alpha)} x^{\\alpha-1} e^{-\\beta x} $$\n",
    "\n",
    "\n",
    "# Integrating functions"
   ]
  },
  {
   "cell_type": "code",
   "execution_count": 37,
   "metadata": {},
   "outputs": [],
   "source": [
    "mu=1\n",
    "sigma=1\n",
    "def rho(x):\n",
    "    y = (x - mu)/(np.sqrt(2)*sigma)    \n",
    "    return 1/np.sqrt(2*np.pi*sigma**2)*np.exp(-y**2)\n",
    "    #return np.exp(-x**2)\n",
    "\n",
    "\n",
    "def P(x):\n",
    "    return quad(rho,-100,x)"
   ]
  },
  {
   "cell_type": "code",
   "execution_count": 38,
   "metadata": {},
   "outputs": [
    {
     "data": {
      "text/plain": [
       "array([0.15865525])"
      ]
     },
     "execution_count": 38,
     "metadata": {},
     "output_type": "execute_result"
    },
    {
     "data": {
      "image/png": "[encoded data removed]",
      "text/plain": [
       "<Figure size 432x288 with 1 Axes>"
      ]
     },
     "metadata": {
      "needs_background": "light"
     },
     "output_type": "display_data"
    }
   ],
   "source": [
    "x = np.linspace(0,10,100)\n",
    "Px=[]\n",
    "for i in x:\n",
    "    Px.append(P(i)[0])\n",
    "\n",
    "Px = np.array(Px)\n",
    "\n",
    "plt.plot(x,Px)\n",
    "plt.plot(x,rho(x))\n",
    "\n",
    "Px[x<0.1]"
   ]
  },
  {
   "cell_type": "code",
   "execution_count": null,
   "metadata": {},
   "outputs": [],
   "source": []
  },
  {
   "cell_type": "code",
   "execution_count": null,
   "metadata": {},
   "outputs": [],
   "source": []
  }
 ],
 "metadata": {
  "kernelspec": {
   "display_name": "Python 3",
   "language": "python",
   "name": "python3"
  },
  "language_info": {
   "codemirror_mode": {
    "name": "ipython",
    "version": 3
   },
   "file_extension": ".py",
   "mimetype": "text/x-python",
   "name": "python",
   "nbconvert_exporter": "python",
   "pygments_lexer": "ipython3",
   "version": "3.8.2"
  }
 },
 "nbformat": 4,
 "nbformat_minor": 2
}
