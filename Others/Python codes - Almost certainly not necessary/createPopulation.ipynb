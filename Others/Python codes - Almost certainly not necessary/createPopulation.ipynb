{
 "cells": [
  {
   "cell_type": "markdown",
   "metadata": {},
   "source": [
    "# Create a Population of Individuals\n",
    "\n",
    "Creates a random network of individuals based on certain parameters contained in the `params.py` file. The `params.ipynb` notebook is not called, obviously, but it contains all the data too."
   ]
  },
  {
   "cell_type": "code",
   "execution_count": 1,
   "metadata": {},
   "outputs": [],
   "source": [
    "import numpy as np\n",
    "from numpy.random import randint,uniform,choice\n",
    "from params import *"
   ]
  },
  {
   "cell_type": "code",
   "execution_count": 2,
   "metadata": {},
   "outputs": [],
   "source": [
    "## CREATE POPULATION #####\n",
    "\n",
    "def create_person(state, home):                  # Function to create a person with certain attributes\n",
    "    net = randint(0,n_net)                       # Assign a random network from 0 to n_net (here, 200)\n",
    "    return np.array([state, home , net , home ]) # Create a person in state 'state', initially at home\n",
    "\n",
    "\n",
    "pop = np.zeros((n_pop,person_attr),int)          # Empty population\n",
    "link_weight = np.zeros(n_pop,float)              # Array for link weights\n",
    "n_per_location=np.zeros((n_loc,len(labels)),int) # Array to hold total number of individuals per state \n",
    "                                                 # for all locations: both homes and networks\n",
    "\n",
    "for i in range(0,n_pop):\n",
    "    home = randint(n_overlap-1,n_loc)              # Assign random homes for remainder with random network\n",
    "    pop[i] = create_person(0,home)\n",
    "\n",
    "    n_per_location[  pop[i][3] ][0] +=  1          # Increment susceptibles in each person's location\n",
    "\n",
    "    link_weight[i] = 2                             # This number must be between 0 and 1 (probability of shifting along link)\n",
    "\n",
    "        \n",
    "r = choice(n_pop,size=n_asym,replace=False)        # Generate n_inf random numbers (r) from the total population without replacement\n",
    "\n",
    "np.put_along_axis(pop[:,0],r,1,axis=0)             # Set population members at r to infected (1)\n",
    "\n",
    "i_locs = pop[r][:,3]                               # Find locations of infected individuals (with repetition), eg. [1,2,1,1,3,1,2,3..] etc\n",
    "\n",
    "np.add.at(n_per_location[:,0],i_locs,-1)           # Decrement number of infected at these locations (repetition increments twice)\n",
    "np.add.at(n_per_location[:,1],i_locs,+1)           # Increment number of susceptible at these locations (idem)\n",
    "\n",
    "if(np.sum(n_per_location) != n_pop):\n",
    "    print(\"Error: Problem with assigning infected individuals to location. Mismatch in total population number.\")"
   ]
  },
  {
   "cell_type": "code",
   "execution_count": 3,
   "metadata": {},
   "outputs": [],
   "source": [
    "np.savetxt(\"./quenched_pop.txt\",pop, delimiter=\" \",fmt='%i')\n",
    "np.savetxt(\"./quenched_n_per_location.txt\",n_per_location, delimiter=\" \",fmt='%i')\n",
    "np.savetxt(\"./quenched_linkweight.txt\",link_weight, delimiter=\" \",fmt='%i')"
   ]
  },
  {
   "cell_type": "code",
   "execution_count": 4,
   "metadata": {},
   "outputs": [
    {
     "name": "stdout",
     "output_type": "stream",
     "text": [
      "10\n"
     ]
    }
   ],
   "source": [
    "print(np.count_nonzero(np.where(pop[:,0]==1)))"
   ]
  },
  {
   "cell_type": "code",
   "execution_count": 5,
   "metadata": {},
   "outputs": [
    {
     "name": "stdout",
     "output_type": "stream",
     "text": [
      "[   0 1461   45 1461]\n"
     ]
    }
   ],
   "source": [
    "print(pop[0])"
   ]
  },
  {
   "cell_type": "code",
   "execution_count": 6,
   "metadata": {},
   "outputs": [
    {
     "name": "stdout",
     "output_type": "stream",
     "text": [
      "[0 0 0 0 0 0 0]\n"
     ]
    }
   ],
   "source": [
    "print(n_per_location[0])"
   ]
  },
  {
   "cell_type": "code",
   "execution_count": null,
   "metadata": {},
   "outputs": [],
   "source": []
  }
 ],
 "metadata": {
  "kernelspec": {
   "display_name": "Python 3",
   "language": "python",
   "name": "python3"
  },
  "language_info": {
   "codemirror_mode": {
    "name": "ipython",
    "version": 3
   },
   "file_extension": ".py",
   "mimetype": "text/x-python",
   "name": "python",
   "nbconvert_exporter": "python",
   "pygments_lexer": "ipython3",
   "version": "3.8.5"
  }
 },
 "nbformat": 4,
 "nbformat_minor": 4
}
