{
 "cells": [
  {
   "cell_type": "code",
   "execution_count": 1,
   "metadata": {},
   "outputs": [],
   "source": [
    "import numpy as np\n",
    "from numpy.random import randint,uniform,choice\n",
    "import matplotlib.pyplot as plt\n",
    "import datetime\n",
    "import time\n",
    "from params import *"
   ]
  },
  {
   "cell_type": "code",
   "execution_count": 2,
   "metadata": {},
   "outputs": [
    {
     "name": "stdout",
     "output_type": "stream",
     "text": [
      "0.4\n",
      "0.1\n"
     ]
    }
   ],
   "source": [
    "print(rate[0][1])\n",
    "print(dt)"
   ]
  },
  {
   "cell_type": "code",
   "execution_count": 3,
   "metadata": {},
   "outputs": [],
   "source": [
    "def Tau_Leap_Targetted(Tpars, T, home_loc_state, quarantine_confined, test_frac,target_hcw):\n",
    "    \n",
    "    s = time.time()\n",
    "    \n",
    "    pop = np.copy(quenched_pop)\n",
    "    n_per_location = np.copy(quenched_n_per_location)\n",
    "    link_weight = np.copy(quenched_link_weight)\n",
    "    n = np.copy(n0)\n",
    "    \n",
    "    test = Tpars\n",
    "        \n",
    "    test_result = np.zeros(n_pop,int)                # Array to hold results of test (+1 positive, -1 negative)\n",
    "    \n",
    "    \n",
    "    loc_confined_time = np.zeros(n_loc,float)        # Time when a location was confined\n",
    "    for i in range(0,n_loc):\n",
    "        loc_confined_time[i] = -1000                 # Set the confined time of all locations to be \"\\infty\"\n",
    "    \n",
    "    \n",
    "    next_test_date = np.zeros(n_pop,int)             # Don't conduct a test before this date per person. (Initially all day 0)\n",
    "    \n",
    "    result_declared_date = np.zeros(n_pop,int)       # Declare the result of last test on this day (initiall -1000)    \n",
    "    for i in range(0, n_pop):\n",
    "        next_test_date[i] = randint(7)\n",
    "        result_declared_date[i] = -1000\n",
    "\n",
    "        \n",
    "    locked = []\n",
    "    \n",
    "    hq_tests_conducted = 0\n",
    "    lq_tests_conducted = 0\n",
    "    results_declared= 0\n",
    "    locations_moved = 0\n",
    "    \n",
    "    tests_conducted = 0\n",
    "    \n",
    "    t = 0.0\n",
    "    \n",
    "    v = np.array([[-1, 0, 0, 0, 0, 0],       # Array to denote change per state per event\n",
    "                  [ 1,-1,-1, 0, 0, 0],       # The row indexes the state variables, and the\n",
    "                  [ 0, 1, 0,-1,-1, 0],       # column indexes the events. The number represents\n",
    "                  [ 0, 0, 1, 1, 0, 1],\n",
    "                  [ 0, 0, 0, 0, 1,-1]],int)  # the change in that particular state, given an event.\n",
    "\n",
    "    \n",
    "    transitions = np.zeros((n_states,n_states),int)\n",
    "    r = np.zeros(n_events)             # Empty array to store rates per event\n",
    "    K = np.zeros(n_events,int)         # Empty array to store number of events that occur in dt (Poisson distributed)\n",
    "    \n",
    "    alpha = 1 - Cpars[5]   # Effective reduction in transmissivity of infected individuals (BOTH A and I)\n",
    "    \n",
    "    \n",
    "    #### TESTS #################################\n",
    "    \n",
    "    tests_available_daily = int(test_frac/100 * n_pop)\n",
    "    tests_available_now   = int(test_frac/100 * n_pop)  # test_frac% of population number of tests available\n",
    "    \n",
    "    lq_tests_daily      = int(test[0][3] * tests_available_daily)\n",
    "    lq_tests_available  = int(test[0][3] * tests_available_daily)\n",
    "    \n",
    "    hq_tests_daily      = int(test[1][3] * tests_available_daily)\n",
    "    hq_tests_available  = int(test[1][3] * tests_available_daily)\n",
    "    \n",
    "    if(lq_tests_daily + hq_tests_daily > tests_available_daily):\n",
    "        print(\"More LQ + HQ tests available than total! Are you sure your test fractions for each test type are correct?\")\n",
    "        quit()\n",
    "    \n",
    "    lq_sensitivity = test[0][0]\n",
    "    lq_specificity = test[0][1]\n",
    "    lq_result_delay= test[0][2]\n",
    "    \n",
    "    hq_sensitivity = test[1][0]\n",
    "    hq_specificity = test[1][1]\n",
    "    hq_result_delay= test[0][2]\n",
    "    \n",
    "    ############################################\n",
    "    \n",
    "    output = np.append(np.append(0,n),[hq_tests_conducted,lq_tests_conducted,tests_available_now,len(locked)])\n",
    "    \n",
    "    day = 0\n",
    "    \n",
    "    while(n[1]+n[2]+n[4]>0):\n",
    "#     while(t<T):\n",
    "        \n",
    "        for i in range(0, n_loc):                 # Loop over locations\n",
    "            \n",
    "            indices = np.where(pop[:,3]==i)[0]    # Index in pop of individuals in this location\n",
    "            N = len(indices)\n",
    "            \n",
    "            if(N==0):\n",
    "                continue                           # If no one's in this location, skip this loop\n",
    "            \n",
    "            V = N                                  # Assume one-to-one contact\n",
    "            \n",
    "            \n",
    "            conf_by_state_in_loc = np.zeros(n_states,int) # Number of confined individuals by state in location\n",
    "            \n",
    "            if(quarantine_confined == True):       # If you want to reduce infectivity of confined individuals, find out how many there are\n",
    "                conf_state = is_confined[indices]\n",
    "                \n",
    "                for m in range(0,N):               # Change the new \"confined per state location\" numbers\n",
    "                    if(conf_state[m] == True):     # If the person is confined\n",
    "                        conf_by_state_in_loc[pop[indices[m]][0]] += 1\n",
    "                \n",
    "    \n",
    "            # This part can be done more efficiently using a matrix, but that's for later\n",
    "            \n",
    "            r[0] = rate[0][1] * n_per_location[i][0] * 1/V * (Cpars[1]*(n_per_location[i][1] - conf_by_state_in_loc[1]*alpha)  + Cpars[2]*(n_per_location[i][2]- conf_by_state_in_loc[2]*alpha) + Cpars[4]*n_per_location[i][4])\n",
    "            r[1] = rate[1][2] * n_per_location[i][1]\n",
    "            r[2] = rate[1][3] * n_per_location[i][1]\n",
    "            r[3] = rate[2][3] * n_per_location[i][2]\n",
    "            r[4] = rate[2][4] * n_per_location[i][2]\n",
    "            r[5] = rate[4][3] * n_per_location[i][4]\n",
    "            \n",
    "            flag = False\n",
    "            counter = 0\n",
    "            \n",
    "            while(flag == False):\n",
    "                for j in range(0,n_events):\n",
    "                    K[j] = np.random.poisson(r[j]*dt)\n",
    "\n",
    "                transitions[0][1] = K[0]\n",
    "                transitions[1][2] = K[1]\n",
    "                transitions[1][3] = K[2]\n",
    "                transitions[2][3] = K[3]\n",
    "                transitions[2][4] = K[4]\n",
    "                transitions[4][3] = K[5]\n",
    "\n",
    "                n_removed = np.sum(transitions,axis=1) # Number of people ideally needing to be removed\n",
    "\n",
    "                for j in range(0,n_states):\n",
    "                    if( n_per_location[i][j] < n_removed[j] and n_removed[j]!=0):\n",
    "                        transitions[j,:] = np.round(transitions[j,:]/n_removed[j] * n_per_location[i][j])\n",
    "\n",
    "\n",
    "                K[0] = transitions[0][1]\n",
    "                K[1] = transitions[1][2]\n",
    "                K[2] = transitions[1][3]\n",
    "                K[3] = transitions[2][3]\n",
    "                K[4] = transitions[2][4]\n",
    "                K[5] = transitions[4][3]\n",
    "\n",
    "                n_per_location[i] +=  np.dot(v,K)            # Change number per location by Sum_j v_ij K_j \n",
    "\n",
    "                if(np.any(n_per_location[i]<0)):\n",
    "                    print(\"Negative populations! Shouldn't be happening!\")\n",
    "                    print(transitions)\n",
    "                    print(n_per_location[i])\n",
    "                    print(\"Rolling back\")\n",
    "                    n_per_location[i] -=  np.dot(v,K)\n",
    "                    print(n_per_location[i])\n",
    "                    print(\"Trying again...\")\n",
    "                    counter += 1\n",
    "                    \n",
    "                    if counter == 9:                        # Don't let more than 10 retries occur\n",
    "                        print(\"Fatal error: 10 retries didn't get rid of negative populations\")\n",
    "                        break\n",
    "                else:\n",
    "                    flag = True\n",
    "            \n",
    "\n",
    "            if(np.all(transitions==0)):               # Skip this loop if no transitions need to occur\n",
    "                continue\n",
    "\n",
    "            \n",
    "            done = np.zeros(len(indices),bool)        # Array to make sure same individual isn't shifted more than once\n",
    "            \n",
    "            \n",
    "            for j in range(0,n_states):\n",
    "                for k in range(0,n_states):\n",
    "                    l=0\n",
    "                    for m in range(0,len(indices)): # Go over everyone in this location\n",
    "                        if(l==transitions[j][k]):\n",
    "                            break\n",
    "\n",
    "                        if(pop[indices[m]][0] == j and not done[m]):  # If they are j\n",
    "                            pop[indices[m]][0] = k    # change them to k\n",
    "                            n[j] -= 1                 # Decrement number of j\n",
    "                            n[k] += 1                 # Increment number of k\n",
    "                            \n",
    "                            if(k==3): # If they recover,\n",
    "                                is_confined[indices[m]] = False # Remove any confinement, and\n",
    "                                \n",
    "                                # Shift them home\n",
    "                                if( pop[indices[m]][3] != pop[indices[m]][1] or pop[indices[m]][3] != pop[indices[m]][2] ):\n",
    "                                    \n",
    "                                    n_per_location[pop[indices[m]][3]][k] -= 1\n",
    "                                    pop[indices[m]][3] = pop[indices[m]][1]   # Send them home\n",
    "                                    n_per_location[pop[indices[m]][3]][k] += 1\n",
    "                                    \n",
    "                            elif(k==4):                 # If they are hospitalised\n",
    "                                h = randint(n_hospitals)\n",
    "                                n_per_location[pop[indices[m]][3]][k] -= 1 # Decrement the number of hospitalised in current (HOME or WORK) location\n",
    "                                \n",
    "                                pop[indices[m]][3] = h # Send them to a random hospital\n",
    "                                n_per_location[pop[indices[m]][3]][k] += 1 # Increment the number of hospitalised (4) in current (hospital) location\n",
    "                                \n",
    "                                is_confined[indices[m]] =  False # Remove confinement   \n",
    "                            \n",
    "                            done[m] = True            # Don't repeat this index\n",
    "                            l += 1\n",
    "\n",
    "        \n",
    "        \n",
    "        \n",
    "        \n",
    "        ##### TARGETTED TESTING ###########################################################\n",
    "        \n",
    "        # Test healthcare workers first (if option is chosen)\n",
    "        \n",
    "        \n",
    "        if(target_hcw):\n",
    "            \n",
    "            \n",
    "            np.random.shuffle(hcw)   # Shuffle list of healthcare workers\n",
    "            \n",
    "            \n",
    "            targetted_tests_done_today = min(tests_available_now,n_hcw) # Total number of targetted tests conducted: either there are enough tests\n",
    "                                                                        # in which case all hcw are tested, or all tests are exhausted on hcw\n",
    "                                                                        \n",
    "            \n",
    "            for j in range(0,targetted_tests_done_today):\n",
    "                \n",
    "                i = hcw[j]                                      # Since hcw is shuffled, this is in random order\n",
    "                \n",
    "                if(day >= next_test_date[i] and not being_tested[i] and tests_available_now>0):\n",
    "                    # If so, perform a test.\n",
    "                    being_tested[i] = True            \n",
    "                    tests_conducted += 1\n",
    "                    \n",
    "                    tests_available_now -= 1                    # Reduce number of tests available\n",
    "\n",
    "                    \n",
    "                    ### HCW are tested with HQ tests unless there are none\n",
    "                    \n",
    "                    test_type = 1\n",
    "                    \n",
    "                    if(hq_tests_available<=0):                  # If no HQ tests available\n",
    "                        test_type = 0                           # Do a LQ test\n",
    "                    \n",
    "                    \n",
    "                    if(test_type == 0 and lq_tests_available>0):\n",
    "\n",
    "                        # Do low quality test\n",
    "                        lq_tests_conducted += 1\n",
    "                        lq_tests_available -= 1  # Reduce number of LQ tests\n",
    "                        \n",
    "                        next_test_date[i]       = day + days_bw_lq_tests   # Set date for next test\n",
    "\n",
    "                        result_declared_date[i] = day + lq_result_delay # No of days (from today) to wait to get the result\n",
    "\n",
    "                        if ((pop[i][0]==1 or pop[i][0]==2) \n",
    "                            and uniform(0.0,1.0)<lq_sensitivity) or ((pop[i][0]==0 or pop[i][0]==3) \n",
    "                                                                        and uniform(0.0,1.0)>lq_specificity): # If the person is infected and the test works \n",
    "\n",
    "                            test_result[i] = 1\n",
    "\n",
    "                        else:\n",
    "                            test_result[i] = -1\n",
    "\n",
    "\n",
    "                    elif(test_type == 1 and hq_tests_available>0):\n",
    "\n",
    "                        # Do high quality test\n",
    "                        hq_tests_conducted += 1\n",
    "                        hq_tests_available -= 1\n",
    "\n",
    "                        next_test_date[i]       = day + days_bw_hq_tests# Set date for next test\n",
    "                        \n",
    "                        result_declared_date[i] = day + hq_result_delay # No of days (from today) to wait to get the result\n",
    "\n",
    "                        if ((pop[i][0]==1 or pop[i][0]==2) \n",
    "                            and uniform(0.0,1.0)<hq_sensitivity) or ((pop[i][0]==0 or pop[i][0]==3) \n",
    "                                                                        and uniform(0.0,1.0)>hq_specificity): # If the person is infected and the test works \n",
    "                            test_result[i] = 1\n",
    "\n",
    "                        else:\n",
    "                            test_result[i] = -1\n",
    "        \n",
    "        \n",
    "        ###################################################################################\n",
    "            \n",
    "            \n",
    "        \n",
    "        \n",
    "        \n",
    "        # Test Symptomatics\n",
    "        \n",
    "        list_of_sym = np.where(pop[:,0]==2)[0]\n",
    "        \n",
    "        n_sym = len(list_of_sym)\n",
    "        \n",
    "        if(n_sym>0):\n",
    "            #sym_done = np.zeros(n_sym,bool)\n",
    "            \n",
    "            targetted_tests_done_today = min(tests_available_now,n_sym) # Total number of targetted tests conducted: either there are enough tests\n",
    "                                                                        # in which case all symptomatics are tested, or all tests are exhausted on\n",
    "                                                                        # on symptomatics\n",
    "            \n",
    "            np.random.shuffle(list_of_sym)                              # Shuffle the list of symptomatics so that they are chosen randomly\n",
    "            \n",
    "            for j in range(0,targetted_tests_done_today):\n",
    "                \n",
    "                i = list_of_sym[j]                                      # Since list_of_sym is shuffled, this is in random order\n",
    "                \n",
    "                if(day >= next_test_date[i] and not being_tested[i] and tests_available_now>0):\n",
    "                    # If so, perform a test.\n",
    "                    being_tested[i] = True            \n",
    "                    tests_conducted += 1\n",
    "                    \n",
    "                    tests_available_now -= 1                    # Reduce number of tests available\n",
    "\n",
    "                    \n",
    "                    ### Susceptibles are tested with HQ tests unless there are none\n",
    "                    \n",
    "                    test_type = 1\n",
    "                    \n",
    "                    if(hq_tests_available<=0):                  # If no HQ tests available\n",
    "                        test_type = 0                           # Do a LQ test\n",
    "                    \n",
    "                    \n",
    "                    if(test_type == 0):\n",
    "\n",
    "                        # Do low quality test\n",
    "                        lq_tests_conducted += 1\n",
    "                        lq_tests_available -= 1  # Reduce number of LQ tests\n",
    "                        \n",
    "                        next_test_date[i]       = day + days_bw_lq_tests   # Set date for next test\n",
    "\n",
    "                        result_declared_date[i] = day + lq_result_delay # No of days (from today) to wait to get the result\n",
    "\n",
    "                        if ((pop[i][0]==1 or pop[i][0]==2) \n",
    "                            and uniform(0.0,1.0)<lq_sensitivity) or ((pop[i][0]==0 or pop[i][0]==3) \n",
    "                                                                        and uniform(0.0,1.0)>lq_specificity): # If the person is infected and the test works \n",
    "\n",
    "                            test_result[i] = 1\n",
    "\n",
    "                        else:\n",
    "                            test_result[i] = -1\n",
    "\n",
    "\n",
    "                    elif(test_type == 1):\n",
    "\n",
    "                        # Do high quality test\n",
    "                        hq_tests_conducted += 1\n",
    "                        hq_tests_available -= 1\n",
    "\n",
    "                        next_test_date[i]       = day + days_bw_hq_tests# Set date for next test\n",
    "                        \n",
    "                        result_declared_date[i] = day + hq_result_delay # No of days (from today) to wait to get the result\n",
    "\n",
    "                        if ((pop[i][0]==1 or pop[i][0]==2) \n",
    "                            and uniform(0.0,1.0)<hq_sensitivity) or ((pop[i][0]==0 or pop[i][0]==3) \n",
    "                                                                        and uniform(0.0,1.0)>hq_specificity): # If the person is infected and the test works \n",
    "                            test_result[i] = 1\n",
    "\n",
    "                        else:\n",
    "                            test_result[i] = -1\n",
    "        \n",
    "        \n",
    "        ###################################################################################\n",
    "                            \n",
    "\n",
    "        for i in range(0,n_pop): \n",
    "            \n",
    "            #### TESTING ###########################################\n",
    "            \n",
    "            p = test_frac/100     # Probability of testing someone (random)\n",
    "            \n",
    "            if (day >= next_test_date[i] and not being_tested[i] \n",
    "                and uniform(0.0,1.0) < p and tests_available_now>0): # Check if person i should be tested\n",
    "                \n",
    "                # If so, perform a test.\n",
    "                being_tested[i]   = True            \n",
    "                tests_conducted  += 1\n",
    "                \n",
    "                tests_available_now -= 1                     # Reduce number of tests available\n",
    "                \n",
    "                test_type = choice([0,1])                    # Choose HQ or LQ test randomly\n",
    "                \n",
    "                if(test_type == 0 and lq_tests_available<=0):   # If a LQ test is chosen but no LQ tests available\n",
    "                    test_type = 1                               # Do a HQ test\n",
    "                    \n",
    "                elif(test_type == 1 and hq_tests_available<=0): # If a HQ test is chosen but no HQ tests available\n",
    "                    test_type = 0                               # Do a LQ test\n",
    "                    \n",
    "#                     print(\"Error! There seem to be tests available but no LQ or HQ tests are available.\")\n",
    "                # One of the above must happen: if no tests are available, this condition should not run in the first place\n",
    "                \n",
    "                \n",
    "                if(test_type == 0 and lq_tests_available>0):\n",
    "                    \n",
    "                    # Do low quality test    \n",
    "                    lq_tests_conducted += 1\n",
    "                    lq_tests_available -= 1  # Reduce number of LQ tests\n",
    "                    \n",
    "                    next_test_date[i]       = day + days_bw_lq_tests   # Set date for next test\n",
    "                    \n",
    "                    result_declared_date[i] = day + lq_result_delay # No. of days (from today) to wait to get the result\n",
    "                \n",
    "                    if ((pop[i][0]==1 or pop[i][0]==2) \n",
    "                        and uniform(0.0,1.0)<lq_sensitivity) or ((pop[i][0]==0 or pop[i][0]==3) \n",
    "                                                                    and uniform(0.0,1.0)>lq_specificity): # If the person is infected and the test works \n",
    "\n",
    "                        test_result[i] = 1\n",
    "\n",
    "                    else:\n",
    "                        test_result[i] = -1\n",
    "                    \n",
    "                    \n",
    "                elif(test_type == 1 and hq_tests_available>0):\n",
    "                    \n",
    "                    # Do high quality test\n",
    "                    hq_tests_conducted += 1\n",
    "                    hq_tests_available -= 1  # Reduce number of HQ tests\n",
    "                    \n",
    "                    next_test_date[i]       = day + days_bw_hq_tests  # Set date for next test\n",
    "                    \n",
    "                    result_declared_date[i] = day + hq_result_delay   # No of days (from today) to wait to get the result\n",
    "                    \n",
    "                    if ((pop[i][0]==1 or pop[i][0]==2) \n",
    "                        and uniform(0.0,1.0)<hq_sensitivity) or ((pop[i][0]==0 or pop[i][0]==3) \n",
    "                                                                    and uniform(0.0,1.0)>hq_specificity): # If the person is infected and the test works \n",
    "                        test_result[i] = 1\n",
    "\n",
    "                    else:\n",
    "                        test_result[i] = -1\n",
    "                \n",
    "                \n",
    "            #### DONE TESTING ######################################\n",
    "            \n",
    "            \n",
    "            #### DECLARING RESULTS #################################\n",
    "            \n",
    "            if (day == result_declared_date[i] and being_tested[i]):  # Should we declare the person's results?\n",
    "                \n",
    "                # If so, set them to not being_tested\n",
    "                being_tested[i] = False\n",
    "                \n",
    "                results_declared += 1\n",
    "                \n",
    "                # Declare results\n",
    "                \n",
    "                if (test_result[i] == 1 and pop[i][0]!=4):             # If they tested positive AND are now not in a hospital\n",
    "                    \n",
    "                    is_confined[i] = True                              # Confine them \n",
    "                    \n",
    "                    n_per_location[pop[i][3]][pop[i][0]] -= 1          # Decrement number of person's state in current (NET or HOME) location of person\n",
    "                    \n",
    "                    if(pop[i][3] == pop[i][2]):                        # If they're at work\n",
    "                        pop[i][3] = pop[i][1]                          # send them home\n",
    "                    \n",
    "                    n_per_location[pop[i][3]][pop[i][0]] += 1          # Increment number of person's state in current location (now HOME) of person\n",
    "\n",
    "                    loc_confined[pop[i][1]] = home_loc_state           # Confine their home location for total_loc_confined_time (?) days\n",
    "                    loc_confined_time[pop[i][1]] = t                   # Time when location is confined\n",
    "\n",
    "                elif(test_result[i] == -1 or pop[i][0] == 4):          # If the test result is negative OR if the person's moved to the hospital\n",
    "                    \n",
    "                    is_confined[i] = False                             # If result is negative, let them move about\n",
    "        \n",
    "                test_result[i] = 0                                     # Set test_result back to 0      \n",
    "            \n",
    "            \n",
    "            #### DONE DECLARING RESULTS ############################\n",
    "            \n",
    "        \n",
    "            #### MOVE PEOPLE AROUND ################################  \n",
    "        \n",
    "            if (not is_confined[i] and not loc_confined[pop[i][3]]):  # If they aren't confined AND their CURRENT location isn't confined\n",
    "                # Should this be poisson distributed? (UNSURE ABOUT THIS!)\n",
    "                locs_changed = np.random.poisson( link_weight[i]*dt ) % 2 # Net number of locations changed in time dt. \n",
    "                                                                          # (An even number means you get back to where you were)\n",
    "                \n",
    "                locations_moved += locs_changed\n",
    "                \n",
    "                if(locs_changed==1):\n",
    "                    home_loc = pop[i][1]\n",
    "                    net_loc  = pop[i][2]\n",
    "\n",
    "                    if(pop[i][3]==home_loc):                       # If the person is at home\n",
    "                        pop[i][3] = net_loc                        # move them to their network location\n",
    "                        \n",
    "                        n_per_location[home_loc][pop[i][0]] -= 1   # Reduce number of individual's state at home\n",
    "                        n_per_location[ net_loc][pop[i][0]] += 1   # Increase number of individual's state at work\n",
    "                    \n",
    "                    elif(pop[i][3]==net_loc):\n",
    "                        pop[i][3] = home_loc                       # otherwise move them home\n",
    "                        \n",
    "                        n_per_location[ net_loc][pop[i][0]] -= 1   # Reduce number of individual's state at work\n",
    "                        n_per_location[home_loc][pop[i][0]] += 1   # Increase number of individual's state at home\n",
    "\n",
    "                   # If they're in any other location, keep them there.\n",
    "    \n",
    "        \n",
    "        # Lock or unlock homes\n",
    "        \n",
    "        for i in range(0,n_loc):\n",
    "            if(loc_confined[i]==True and t - loc_confined_time[i] > total_loc_confined_time):  # If the current time - the time it was last confined is > 10 days\n",
    "                loc_confined_time[i] = -1000                        \n",
    "                loc_confined[i] = False                             # Remove confinement restriction\n",
    "                #print(str(i)+\" Un-loc-ed (Haha) at \"+str(t))\n",
    "                locked.append(i)\n",
    "           \n",
    "            \n",
    "        t += dt\n",
    "        \n",
    "        output = np.vstack((output, np.append(np.append(t,n),[hq_tests_conducted,lq_tests_conducted,tests_available_now,len(locked)])))\n",
    "        \n",
    "        if(t>day):\n",
    "            day += 1\n",
    "            tests_available_now = tests_available_daily\n",
    "            lq_tests_available  = lq_tests_daily\n",
    "            hq_tests_available  = hq_tests_daily\n",
    "#             print(day, end=\" \")\n",
    "        \n",
    "    plt.hist(locked)\n",
    "    plt.show()\n",
    "    if(len(locked)!=0):\n",
    "        print(\"# Lowest loc \"+str(min(locked)))\n",
    "        print(\"# Highest loc \"+str(max(locked)))\n",
    "    \n",
    "    print(\"# LQ Tests Done in total  : \"+str(lq_tests_conducted))\n",
    "    print(\"# HQ Tests Done in total  : \"+str(hq_tests_conducted))\n",
    "    print(\"# ALL Tests Done in total : \"+str(tests_conducted))\n",
    "    print(\"# Results Given in total  : \"+str(results_declared))\n",
    "    print(\"# Locations Moved in total: \"+str(locations_moved))\n",
    "    \n",
    "    e = time.time()\n",
    "    print(\"# Time taken              : \"+str(round(e-s,2))+\"s\")\n",
    "    \n",
    "    ### WRITE OUTPUT TO FILE #####################\n",
    "    \n",
    "    date = datetime.datetime.now()\n",
    "    dateString = date.strftime(\"%Y-%b-%d_%H-%M-%S\")\n",
    "    \n",
    "    fileName = \"../data/TargettedTesting/Targetted_Testing_\"+str(round(test_frac,1))+\"_RAT_\"+str(round(test[0][0],1))+\"_\"+str(round(test[0][3],1))+\"_PCR_\"+str(round(test[1][0],2))+\"_\"+str(round(test[1][3],1))+\"_\"+dateString+\".txt\"\n",
    "    \n",
    "    with open(fileName, \"a\") as file:\n",
    "        file.write(\"###### TEST LOG ####################\\n\")\n",
    "        file.write(\"# Time taken               : \"+str(round(e-s,2))+\"s \\n\")\n",
    "        \n",
    "        file.write(\"# Test Parameters: \\n\")\n",
    "        file.write(\"# \"+str(test[0][0])+\" \"+str(test[0][1])+\" \"+str(test[0][2])+\" \"+str(test[0][3])+\"\\n\")\n",
    "        file.write(\"# \"+str(test[1][0])+\" \"+str(test[1][1])+\" \"+str(test[1][2])+\" \"+str(test[1][3])+\"\\n\")\n",
    "        file.write(\"# Homes Quarantined        : \"+ str(home_loc_state)+\"\\n\")\n",
    "        file.write(\"# Confined less Infective  : \"+ str(quarantine_confined)+\"\\n\")\n",
    "        file.write(\"# Target Healthcare Workers: \"+ str(target_hcw)+\"\\n\")\n",
    "        file.write(\"# Fraction Tested Daily    : \"+ str(test_frac)+\"\\n\")\n",
    "        \n",
    "        if(len(locked)!=0):\n",
    "            file.write(\"# Lowest location confined :\"+str(min(locked))+\"\\n\")\n",
    "            file.write(\"# Highest location confined:\"+str(max(locked))+\"\\n\")\n",
    "        file.write(\"# LQ Tests Done in total   : \"+str(lq_tests_conducted)+\"\\n\")\n",
    "        file.write(\"# HQ Tests Done in total   : \"+str(hq_tests_conducted)+\"\\n\")\n",
    "        file.write(\"# ALL Tests Done in total  : \"+str(tests_conducted)+\"\\n\")\n",
    "        file.write(\"# Results Given in total   : \"+str(results_declared)+\"\\n\")\n",
    "        file.write(\"# Locations Moved in total : \"+str(locations_moved)+\"\\n\")\n",
    "        file.write(\"###### END LOG #####################\\n\")\n",
    "        file.write(\"#\\n\")\n",
    "        \n",
    "        np.savetxt(file, output, delimiter=\" \")\n",
    "    \n",
    "    #return output"
   ]
  },
  {
   "cell_type": "code",
   "execution_count": 4,
   "metadata": {},
   "outputs": [
    {
     "name": "stdout",
     "output_type": "stream",
     "text": [
      "[0. 1.]\n"
     ]
    },
    {
     "data": {
      "image/png": "[encoded data removed]",
      "text/plain": [
       "<Figure size 432x288 with 1 Axes>"
      ]
     },
     "metadata": {
      "needs_background": "light"
     },
     "output_type": "display_data"
    },
    {
     "name": "stdout",
     "output_type": "stream",
     "text": [
      "# Lowest loc 413\n",
      "# Highest loc 2456\n",
      "# LQ Tests Done in total  : 0\n",
      "# HQ Tests Done in total  : 20569\n",
      "# ALL Tests Done in total : 20569\n",
      "# Results Given in total  : 20569\n",
      "# Locations Moved in total: 364303\n",
      "# Time taken              : 196.29s\n"
     ]
    },
    {
     "data": {
      "image/png": "[encoded data removed]",
      "text/plain": [
       "<Figure size 432x288 with 1 Axes>"
      ]
     },
     "metadata": {
      "needs_background": "light"
     },
     "output_type": "display_data"
    },
    {
     "name": "stdout",
     "output_type": "stream",
     "text": [
      "# Lowest loc 312\n",
      "# Highest loc 2456\n",
      "# LQ Tests Done in total  : 0\n",
      "# HQ Tests Done in total  : 20383\n",
      "# ALL Tests Done in total : 20383\n",
      "# Results Given in total  : 20383\n",
      "# Locations Moved in total: 245354\n",
      "# Time taken              : 153.9s\n"
     ]
    },
    {
     "data": {
      "image/png": "[encoded data removed]",
      "text/plain": [
       "<Figure size 432x288 with 1 Axes>"
      ]
     },
     "metadata": {
      "needs_background": "light"
     },
     "output_type": "display_data"
    },
    {
     "name": "stdout",
     "output_type": "stream",
     "text": [
      "# Lowest loc 261\n",
      "# Highest loc 2683\n",
      "# LQ Tests Done in total  : 0\n",
      "# HQ Tests Done in total  : 39130\n",
      "# ALL Tests Done in total : 39130\n",
      "# Results Given in total  : 39130\n",
      "# Locations Moved in total: 349463\n",
      "# Time taken              : 231.64s\n"
     ]
    },
    {
     "data": {
      "image/png": "[encoded data removed]",
      "text/plain": [
       "<Figure size 432x288 with 1 Axes>"
      ]
     },
     "metadata": {
      "needs_background": "light"
     },
     "output_type": "display_data"
    },
    {
     "name": "stdout",
     "output_type": "stream",
     "text": [
      "# Lowest loc 261\n",
      "# Highest loc 2732\n",
      "# LQ Tests Done in total  : 0\n",
      "# HQ Tests Done in total  : 297871\n",
      "# ALL Tests Done in total : 297871\n",
      "# Results Given in total  : 297871\n",
      "# Locations Moved in total: 543651\n",
      "# Time taken              : 386.24s\n"
     ]
    },
    {
     "data": {
      "image/png": "[encoded data removed]",
      "text/plain": [
       "<Figure size 432x288 with 1 Axes>"
      ]
     },
     "metadata": {
      "needs_background": "light"
     },
     "output_type": "display_data"
    },
    {
     "name": "stdout",
     "output_type": "stream",
     "text": [
      "# Lowest loc 261\n",
      "# Highest loc 2732\n",
      "# LQ Tests Done in total  : 0\n",
      "# HQ Tests Done in total  : 38064\n",
      "# ALL Tests Done in total : 38064\n",
      "# Results Given in total  : 38064\n",
      "# Locations Moved in total: 680951\n",
      "# Time taken              : 645.54s\n"
     ]
    },
    {
     "data": {
      "image/png": "[encoded data removed]",
      "text/plain": [
       "<Figure size 432x288 with 1 Axes>"
      ]
     },
     "metadata": {
      "needs_background": "light"
     },
     "output_type": "display_data"
    },
    {
     "name": "stdout",
     "output_type": "stream",
     "text": [
      "# Lowest loc 261\n",
      "# Highest loc 2051\n",
      "# LQ Tests Done in total  : 0\n",
      "# HQ Tests Done in total  : 17374\n",
      "# ALL Tests Done in total : 17374\n",
      "# Results Given in total  : 17374\n",
      "# Locations Moved in total: 207843\n",
      "# Time taken              : 193.5s\n"
     ]
    },
    {
     "data": {
      "image/png": "[encoded data removed]",
      "text/plain": [
       "<Figure size 432x288 with 1 Axes>"
      ]
     },
     "metadata": {
      "needs_background": "light"
     },
     "output_type": "display_data"
    },
    {
     "name": "stdout",
     "output_type": "stream",
     "text": [
      "# Lowest loc 261\n",
      "# Highest loc 2622\n",
      "# LQ Tests Done in total  : 0\n",
      "# HQ Tests Done in total  : 59142\n",
      "# ALL Tests Done in total : 59142\n",
      "# Results Given in total  : 59142\n",
      "# Locations Moved in total: 527527\n",
      "# Time taken              : 489.17s\n"
     ]
    },
    {
     "data": {
      "image/png": "[encoded data removed]",
      "text/plain": [
       "<Figure size 432x288 with 1 Axes>"
      ]
     },
     "metadata": {
      "needs_background": "light"
     },
     "output_type": "display_data"
    },
    {
     "name": "stdout",
     "output_type": "stream",
     "text": [
      "# Lowest loc 261\n",
      "# Highest loc 2456\n",
      "# LQ Tests Done in total  : 0\n",
      "# HQ Tests Done in total  : 212814\n",
      "# ALL Tests Done in total : 212814\n",
      "# Results Given in total  : 212814\n",
      "# Locations Moved in total: 384317\n",
      "# Time taken              : 383.42s\n"
     ]
    },
    {
     "data": {
      "image/png": "[encoded data removed]",
      "text/plain": [
       "<Figure size 432x288 with 1 Axes>"
      ]
     },
     "metadata": {
      "needs_background": "light"
     },
     "output_type": "display_data"
    },
    {
     "name": "stdout",
     "output_type": "stream",
     "text": [
      "# Lowest loc 261\n",
      "# Highest loc 2683\n",
      "# LQ Tests Done in total  : 0\n",
      "# HQ Tests Done in total  : 13560\n",
      "# ALL Tests Done in total : 13560\n",
      "# Results Given in total  : 13560\n",
      "# Locations Moved in total: 240145\n",
      "# Time taken              : 249.17s\n"
     ]
    },
    {
     "data": {
      "image/png": "[encoded data removed]",
      "text/plain": [
       "<Figure size 432x288 with 1 Axes>"
      ]
     },
     "metadata": {
      "needs_background": "light"
     },
     "output_type": "display_data"
    },
    {
     "name": "stdout",
     "output_type": "stream",
     "text": [
      "# Lowest loc 627\n",
      "# Highest loc 2632\n",
      "# LQ Tests Done in total  : 0\n",
      "# HQ Tests Done in total  : 42853\n",
      "# ALL Tests Done in total : 42853\n",
      "# Results Given in total  : 42853\n",
      "# Locations Moved in total: 513877\n",
      "# Time taken              : 516.44s\n"
     ]
    },
    {
     "data": {
      "image/png": "[encoded data removed]",
      "text/plain": [
       "<Figure size 432x288 with 1 Axes>"
      ]
     },
     "metadata": {
      "needs_background": "light"
     },
     "output_type": "display_data"
    },
    {
     "name": "stdout",
     "output_type": "stream",
     "text": [
      "# Lowest loc 261\n",
      "# Highest loc 2683\n",
      "# LQ Tests Done in total  : 0\n",
      "# HQ Tests Done in total  : 74138\n",
      "# ALL Tests Done in total : 74138\n",
      "# Results Given in total  : 74138\n",
      "# Locations Moved in total: 664027\n",
      "# Time taken              : 533.52s\n"
     ]
    },
    {
     "data": {
      "image/png": "[encoded data removed]",
      "text/plain": [
       "<Figure size 432x288 with 1 Axes>"
      ]
     },
     "metadata": {
      "needs_background": "light"
     },
     "output_type": "display_data"
    },
    {
     "name": "stdout",
     "output_type": "stream",
     "text": [
      "# Lowest loc 698\n",
      "# Highest loc 2745\n",
      "# LQ Tests Done in total  : 0\n",
      "# HQ Tests Done in total  : 252742\n",
      "# ALL Tests Done in total : 252742\n",
      "# Results Given in total  : 252742\n",
      "# Locations Moved in total: 453611\n",
      "# Time taken              : 340.97s\n"
     ]
    },
    {
     "data": {
      "image/png": "[encoded data removed]",
      "text/plain": [
       "<Figure size 432x288 with 1 Axes>"
      ]
     },
     "metadata": {
      "needs_background": "light"
     },
     "output_type": "display_data"
    },
    {
     "name": "stdout",
     "output_type": "stream",
     "text": [
      "# Lowest loc 261\n",
      "# Highest loc 2696\n",
      "# LQ Tests Done in total  : 0\n",
      "# HQ Tests Done in total  : 48091\n",
      "# ALL Tests Done in total : 48091\n",
      "# Results Given in total  : 48091\n",
      "# Locations Moved in total: 871776\n",
      "# Time taken              : 853.36s\n"
     ]
    },
    {
     "data": {
      "image/png": "[encoded data removed]",
      "text/plain": [
       "<Figure size 432x288 with 1 Axes>"
      ]
     },
     "metadata": {
      "needs_background": "light"
     },
     "output_type": "display_data"
    },
    {
     "name": "stdout",
     "output_type": "stream",
     "text": [
      "# Lowest loc 261\n",
      "# Highest loc 2696\n",
      "# LQ Tests Done in total  : 0\n",
      "# HQ Tests Done in total  : 21868\n",
      "# ALL Tests Done in total : 21868\n",
      "# Results Given in total  : 21868\n",
      "# Locations Moved in total: 257515\n",
      "# Time taken              : 229.27s\n"
     ]
    },
    {
     "data": {
      "image/png": "[encoded data removed]",
      "text/plain": [
       "<Figure size 432x288 with 1 Axes>"
      ]
     },
     "metadata": {
      "needs_background": "light"
     },
     "output_type": "display_data"
    },
    {
     "name": "stdout",
     "output_type": "stream",
     "text": [
      "# Lowest loc 261\n",
      "# Highest loc 2581\n",
      "# LQ Tests Done in total  : 0\n",
      "# HQ Tests Done in total  : 91149\n",
      "# ALL Tests Done in total : 91149\n",
      "# Results Given in total  : 91149\n",
      "# Locations Moved in total: 824651\n",
      "# Time taken              : 18626.11s\n"
     ]
    },
    {
     "data": {
      "image/png": "[encoded data removed]",
      "text/plain": [
       "<Figure size 432x288 with 1 Axes>"
      ]
     },
     "metadata": {
      "needs_background": "light"
     },
     "output_type": "display_data"
    },
    {
     "name": "stdout",
     "output_type": "stream",
     "text": [
      "# Lowest loc 698\n",
      "# Highest loc 2632\n",
      "# LQ Tests Done in total  : 0\n",
      "# HQ Tests Done in total  : 312795\n",
      "# ALL Tests Done in total : 312795\n",
      "# Results Given in total  : 312795\n",
      "# Locations Moved in total: 571218\n",
      "# Time taken              : 332.02s\n"
     ]
    },
    {
     "data": {
      "image/png": "[encoded data removed]",
      "text/plain": [
       "<Figure size 432x288 with 1 Axes>"
      ]
     },
     "metadata": {
      "needs_background": "light"
     },
     "output_type": "display_data"
    },
    {
     "name": "stdout",
     "output_type": "stream",
     "text": [
      "# Lowest loc 261\n",
      "# Highest loc 2696\n",
      "# LQ Tests Done in total  : 0\n",
      "# HQ Tests Done in total  : 64574\n",
      "# ALL Tests Done in total : 64574\n",
      "# Results Given in total  : 64574\n",
      "# Locations Moved in total: 1161891\n",
      "# Time taken              : 585.65s\n"
     ]
    },
    {
     "data": {
      "image/png": "[encoded data removed]",
      "text/plain": [
       "<Figure size 432x288 with 1 Axes>"
      ]
     },
     "metadata": {
      "needs_background": "light"
     },
     "output_type": "display_data"
    },
    {
     "name": "stdout",
     "output_type": "stream",
     "text": [
      "# Lowest loc 261\n",
      "# Highest loc 2732\n",
      "# LQ Tests Done in total  : 0\n",
      "# HQ Tests Done in total  : 36099\n",
      "# ALL Tests Done in total : 36099\n",
      "# Results Given in total  : 36099\n",
      "# Locations Moved in total: 427572\n",
      "# Time taken              : 246.69s\n"
     ]
    },
    {
     "data": {
      "image/png": "[encoded data removed]",
      "text/plain": [
       "<Figure size 432x288 with 1 Axes>"
      ]
     },
     "metadata": {
      "needs_background": "light"
     },
     "output_type": "display_data"
    },
    {
     "name": "stdout",
     "output_type": "stream",
     "text": [
      "# Lowest loc 261\n",
      "# Highest loc 2079\n",
      "# LQ Tests Done in total  : 0\n",
      "# HQ Tests Done in total  : 48155\n",
      "# ALL Tests Done in total : 48155\n",
      "# Results Given in total  : 48155\n",
      "# Locations Moved in total: 427916\n",
      "# Time taken              : 171.22s\n"
     ]
    },
    {
     "data": {
      "image/png": "[encoded data removed]",
      "text/plain": [
       "<Figure size 432x288 with 1 Axes>"
      ]
     },
     "metadata": {
      "needs_background": "light"
     },
     "output_type": "display_data"
    },
    {
     "name": "stdout",
     "output_type": "stream",
     "text": [
      "# Lowest loc 261\n",
      "# Highest loc 2560\n",
      "# LQ Tests Done in total  : 0\n",
      "# HQ Tests Done in total  : 237739\n",
      "# ALL Tests Done in total : 237739\n",
      "# Results Given in total  : 237739\n",
      "# Locations Moved in total: 432479\n",
      "# Time taken              : 143.64s\n"
     ]
    },
    {
     "data": {
      "image/png": "[encoded data removed]",
      "text/plain": [
       "<Figure size 432x288 with 1 Axes>"
      ]
     },
     "metadata": {
      "needs_background": "light"
     },
     "output_type": "display_data"
    },
    {
     "name": "stdout",
     "output_type": "stream",
     "text": [
      "# Lowest loc 261\n",
      "# Highest loc 2683\n",
      "# LQ Tests Done in total  : 0\n",
      "# HQ Tests Done in total  : 17077\n",
      "# ALL Tests Done in total : 17077\n",
      "# Results Given in total  : 17077\n",
      "# Locations Moved in total: 306256\n",
      "# Time taken              : 102.21s\n"
     ]
    },
    {
     "data": {
      "image/png": "[encoded data removed]",
      "text/plain": [
       "<Figure size 432x288 with 1 Axes>"
      ]
     },
     "metadata": {
      "needs_background": "light"
     },
     "output_type": "display_data"
    },
    {
     "name": "stdout",
     "output_type": "stream",
     "text": [
      "# Lowest loc 261\n",
      "# Highest loc 2456\n",
      "# LQ Tests Done in total  : 0\n",
      "# HQ Tests Done in total  : 19603\n",
      "# ALL Tests Done in total : 19603\n",
      "# Results Given in total  : 19603\n",
      "# Locations Moved in total: 234460\n",
      "# Time taken              : 78.95s\n"
     ]
    },
    {
     "data": {
      "image/png": "[encoded data removed]",
      "text/plain": [
       "<Figure size 432x288 with 1 Axes>"
      ]
     },
     "metadata": {
      "needs_background": "light"
     },
     "output_type": "display_data"
    },
    {
     "name": "stdout",
     "output_type": "stream",
     "text": [
      "# Lowest loc 297\n",
      "# Highest loc 2732\n",
      "# LQ Tests Done in total  : 0\n",
      "# HQ Tests Done in total  : 41120\n",
      "# ALL Tests Done in total : 41120\n",
      "# Results Given in total  : 41120\n",
      "# Locations Moved in total: 367329\n",
      "# Time taken              : 123.91s\n"
     ]
    },
    {
     "data": {
      "image/png": "[encoded data removed]",
      "text/plain": [
       "<Figure size 432x288 with 1 Axes>"
      ]
     },
     "metadata": {
      "needs_background": "light"
     },
     "output_type": "display_data"
    },
    {
     "name": "stdout",
     "output_type": "stream",
     "text": [
      "# Lowest loc 261\n",
      "# Highest loc 2632\n",
      "# LQ Tests Done in total  : 0\n",
      "# HQ Tests Done in total  : 392689\n",
      "# ALL Tests Done in total : 392689\n",
      "# Results Given in total  : 392689\n",
      "# Locations Moved in total: 710448\n",
      "# Time taken              : 233.86s\n"
     ]
    },
    {
     "data": {
      "image/png": "[encoded data removed]",
      "text/plain": [
       "<Figure size 432x288 with 1 Axes>"
      ]
     },
     "metadata": {
      "needs_background": "light"
     },
     "output_type": "display_data"
    },
    {
     "name": "stdout",
     "output_type": "stream",
     "text": [
      "# Lowest loc 261\n",
      "# Highest loc 2732\n",
      "# LQ Tests Done in total  : 0\n",
      "# HQ Tests Done in total  : 24071\n",
      "# ALL Tests Done in total : 24071\n",
      "# Results Given in total  : 24071\n",
      "# Locations Moved in total: 426533\n",
      "# Time taken              : 168.25s\n"
     ]
    },
    {
     "data": {
      "image/png": "[encoded data removed]",
      "text/plain": [
       "<Figure size 432x288 with 1 Axes>"
      ]
     },
     "metadata": {
      "needs_background": "light"
     },
     "output_type": "display_data"
    },
    {
     "name": "stdout",
     "output_type": "stream",
     "text": [
      "# Lowest loc 261\n",
      "# Highest loc 2622\n",
      "# LQ Tests Done in total  : 0\n",
      "# HQ Tests Done in total  : 23361\n",
      "# ALL Tests Done in total : 23361\n",
      "# Results Given in total  : 23361\n",
      "# Locations Moved in total: 279756\n",
      "# Time taken              : 158.23s\n"
     ]
    },
    {
     "data": {
      "image/png": "[encoded data removed]",
      "text/plain": [
       "<Figure size 432x288 with 1 Axes>"
      ]
     },
     "metadata": {
      "needs_background": "light"
     },
     "output_type": "display_data"
    },
    {
     "name": "stdout",
     "output_type": "stream",
     "text": [
      "# Lowest loc 261\n",
      "# Highest loc 2745\n",
      "# LQ Tests Done in total  : 0\n",
      "# HQ Tests Done in total  : 36143\n",
      "# ALL Tests Done in total : 36143\n",
      "# Results Given in total  : 36143\n",
      "# Locations Moved in total: 327629\n",
      "# Time taken              : 151.39s\n"
     ]
    },
    {
     "data": {
      "image/png": "[encoded data removed]",
      "text/plain": [
       "<Figure size 432x288 with 1 Axes>"
      ]
     },
     "metadata": {
      "needs_background": "light"
     },
     "output_type": "display_data"
    },
    {
     "name": "stdout",
     "output_type": "stream",
     "text": [
      "# Lowest loc 261\n",
      "# Highest loc 2456\n",
      "# LQ Tests Done in total  : 0\n",
      "# HQ Tests Done in total  : 87804\n",
      "# ALL Tests Done in total : 87804\n",
      "# Results Given in total  : 87804\n",
      "# Locations Moved in total: 163609\n",
      "# Time taken              : 93.87s\n"
     ]
    },
    {
     "data": {
      "image/png": "[encoded data removed]",
      "text/plain": [
       "<Figure size 432x288 with 1 Axes>"
      ]
     },
     "metadata": {
      "needs_background": "light"
     },
     "output_type": "display_data"
    },
    {
     "name": "stdout",
     "output_type": "stream",
     "text": [
      "# Lowest loc 261\n",
      "# Highest loc 2732\n",
      "# LQ Tests Done in total  : 0\n",
      "# HQ Tests Done in total  : 31563\n",
      "# ALL Tests Done in total : 31563\n",
      "# Results Given in total  : 31563\n",
      "# Locations Moved in total: 563910\n",
      "# Time taken              : 195.49s\n"
     ]
    },
    {
     "data": {
      "image/png": "[encoded data removed]",
      "text/plain": [
       "<Figure size 432x288 with 1 Axes>"
      ]
     },
     "metadata": {
      "needs_background": "light"
     },
     "output_type": "display_data"
    },
    {
     "name": "stdout",
     "output_type": "stream",
     "text": [
      "# Lowest loc 261\n",
      "# Highest loc 2722\n",
      "# LQ Tests Done in total  : 0\n",
      "# HQ Tests Done in total  : 60863\n",
      "# ALL Tests Done in total : 60863\n",
      "# Results Given in total  : 60863\n",
      "# Locations Moved in total: 727358\n",
      "# Time taken              : 349.4s\n"
     ]
    },
    {
     "data": {
      "image/png": "[encoded data removed]",
      "text/plain": [
       "<Figure size 432x288 with 1 Axes>"
      ]
     },
     "metadata": {
      "needs_background": "light"
     },
     "output_type": "display_data"
    },
    {
     "name": "stdout",
     "output_type": "stream",
     "text": [
      "# Lowest loc 698\n",
      "# Highest loc 2456\n",
      "# LQ Tests Done in total  : 0\n",
      "# HQ Tests Done in total  : 35134\n",
      "# ALL Tests Done in total : 35134\n",
      "# Results Given in total  : 35134\n",
      "# Locations Moved in total: 314948\n",
      "# Time taken              : 203.53s\n"
     ]
    },
    {
     "data": {
      "image/png": "[encoded data removed]",
      "text/plain": [
       "<Figure size 432x288 with 1 Axes>"
      ]
     },
     "metadata": {
      "needs_background": "light"
     },
     "output_type": "display_data"
    },
    {
     "name": "stdout",
     "output_type": "stream",
     "text": [
      "# Lowest loc 288\n",
      "# Highest loc 2456\n",
      "# LQ Tests Done in total  : 0\n",
      "# HQ Tests Done in total  : 217711\n",
      "# ALL Tests Done in total : 217711\n",
      "# Results Given in total  : 217711\n",
      "# Locations Moved in total: 397435\n",
      "# Time taken              : 192.31s\n"
     ]
    },
    {
     "data": {
      "image/png": "[encoded data removed]",
      "text/plain": [
       "<Figure size 432x288 with 1 Axes>"
      ]
     },
     "metadata": {
      "needs_background": "light"
     },
     "output_type": "display_data"
    },
    {
     "name": "stdout",
     "output_type": "stream",
     "text": [
      "# Lowest loc 261\n",
      "# Highest loc 2732\n",
      "# LQ Tests Done in total  : 0\n",
      "# HQ Tests Done in total  : 23562\n",
      "# ALL Tests Done in total : 23562\n",
      "# Results Given in total  : 23562\n",
      "# Locations Moved in total: 424067\n",
      "# Time taken              : 163.08s\n"
     ]
    },
    {
     "data": {
      "image/png": "[encoded data removed]",
      "text/plain": [
       "<Figure size 432x288 with 1 Axes>"
      ]
     },
     "metadata": {
      "needs_background": "light"
     },
     "output_type": "display_data"
    },
    {
     "name": "stdout",
     "output_type": "stream",
     "text": [
      "# Lowest loc 288\n",
      "# Highest loc 2742\n",
      "# LQ Tests Done in total  : 0\n",
      "# HQ Tests Done in total  : 79598\n",
      "# ALL Tests Done in total : 79598\n",
      "# Results Given in total  : 79598\n",
      "# Locations Moved in total: 960876\n",
      "# Time taken              : 626.54s\n"
     ]
    },
    {
     "data": {
      "image/png": "[encoded data removed]",
      "text/plain": [
       "<Figure size 432x288 with 1 Axes>"
      ]
     },
     "metadata": {
      "needs_background": "light"
     },
     "output_type": "display_data"
    },
    {
     "name": "stdout",
     "output_type": "stream",
     "text": [
      "# Lowest loc 261\n",
      "# Highest loc 2632\n",
      "# LQ Tests Done in total  : 0\n",
      "# HQ Tests Done in total  : 54147\n",
      "# ALL Tests Done in total : 54147\n",
      "# Results Given in total  : 54147\n",
      "# Locations Moved in total: 489167\n",
      "# Time taken              : 238.85s\n"
     ]
    },
    {
     "data": {
      "image/png": "[encoded data removed]",
      "text/plain": [
       "<Figure size 432x288 with 1 Axes>"
      ]
     },
     "metadata": {
      "needs_background": "light"
     },
     "output_type": "display_data"
    },
    {
     "name": "stdout",
     "output_type": "stream",
     "text": [
      "# Lowest loc 317\n",
      "# Highest loc 2683\n",
      "# LQ Tests Done in total  : 0\n",
      "# HQ Tests Done in total  : 142825\n",
      "# ALL Tests Done in total : 142825\n",
      "# Results Given in total  : 142825\n",
      "# Locations Moved in total: 259803\n",
      "# Time taken              : 106.64s\n"
     ]
    },
    {
     "data": {
      "image/png": "[encoded data removed]",
      "text/plain": [
       "<Figure size 432x288 with 1 Axes>"
      ]
     },
     "metadata": {
      "needs_background": "light"
     },
     "output_type": "display_data"
    },
    {
     "name": "stdout",
     "output_type": "stream",
     "text": [
      "# Lowest loc 261\n",
      "# Highest loc 2683\n",
      "# LQ Tests Done in total  : 0\n",
      "# HQ Tests Done in total  : 19069\n",
      "# ALL Tests Done in total : 19069\n",
      "# Results Given in total  : 19069\n",
      "# Locations Moved in total: 342646\n",
      "# Time taken              : 119.48s\n"
     ]
    },
    {
     "data": {
      "image/png": "[encoded data removed]",
      "text/plain": [
       "<Figure size 432x288 with 1 Axes>"
      ]
     },
     "metadata": {
      "needs_background": "light"
     },
     "output_type": "display_data"
    },
    {
     "name": "stdout",
     "output_type": "stream",
     "text": [
      "# Lowest loc 261\n",
      "# Highest loc 2696\n",
      "# LQ Tests Done in total  : 0\n",
      "# HQ Tests Done in total  : 87107\n",
      "# ALL Tests Done in total : 87107\n",
      "# Results Given in total  : 87107\n",
      "# Locations Moved in total: 1051162\n",
      "# Time taken              : 613.03s\n"
     ]
    },
    {
     "ename": "KeyboardInterrupt",
     "evalue": "",
     "output_type": "error",
     "traceback": [
      "\u001b[0;31m---------------------------------------------------------------------------\u001b[0m",
      "\u001b[0;31mKeyboardInterrupt\u001b[0m                         Traceback (most recent call last)",
      "\u001b[0;32m<ipython-input-4-303620371829>\u001b[0m in \u001b[0;36m<module>\u001b[0;34m\u001b[0m\n\u001b[1;32m     31\u001b[0m     \u001b[0;32mfor\u001b[0m \u001b[0mi\u001b[0m \u001b[0;32min\u001b[0m \u001b[0mrange\u001b[0m\u001b[0;34m(\u001b[0m\u001b[0;36m0\u001b[0m\u001b[0;34m,\u001b[0m\u001b[0;36m10\u001b[0m\u001b[0;34m)\u001b[0m\u001b[0;34m:\u001b[0m\u001b[0;34m\u001b[0m\u001b[0;34m\u001b[0m\u001b[0m\n\u001b[1;32m     32\u001b[0m         \u001b[0;32mfor\u001b[0m \u001b[0mdaily_rate\u001b[0m \u001b[0;32min\u001b[0m \u001b[0mtest_rates\u001b[0m\u001b[0;34m:\u001b[0m\u001b[0;34m\u001b[0m\u001b[0;34m\u001b[0m\u001b[0m\n\u001b[0;32m---> 33\u001b[0;31m             \u001b[0mTau_Leap_Targetted\u001b[0m\u001b[0;34m(\u001b[0m\u001b[0mTpars\u001b[0m\u001b[0;34m,\u001b[0m \u001b[0mtf\u001b[0m\u001b[0;34m,\u001b[0m \u001b[0;32mTrue\u001b[0m\u001b[0;34m,\u001b[0m \u001b[0;32mTrue\u001b[0m\u001b[0;34m,\u001b[0m \u001b[0mdaily_rate\u001b[0m\u001b[0;34m,\u001b[0m\u001b[0;32mFalse\u001b[0m\u001b[0;34m)\u001b[0m\u001b[0;34m\u001b[0m\u001b[0;34m\u001b[0m\u001b[0m\n\u001b[0m",
      "\u001b[0;32m<ipython-input-3-45a58eb79c27>\u001b[0m in \u001b[0;36mTau_Leap_Targetted\u001b[0;34m(Tpars, T, home_loc_state, quarantine_confined, test_frac, target_hcw)\u001b[0m\n\u001b[1;32m    369\u001b[0m \u001b[0;34m\u001b[0m\u001b[0m\n\u001b[1;32m    370\u001b[0m             if (day >= next_test_date[i] and not being_tested[i] \n\u001b[0;32m--> 371\u001b[0;31m                 and uniform(0.0,1.0) < p and tests_available_now>0): # Check if person i should be tested\n\u001b[0m\u001b[1;32m    372\u001b[0m \u001b[0;34m\u001b[0m\u001b[0m\n\u001b[1;32m    373\u001b[0m                 \u001b[0;31m# If so, perform a test.\u001b[0m\u001b[0;34m\u001b[0m\u001b[0;34m\u001b[0m\u001b[0;34m\u001b[0m\u001b[0m\n",
      "\u001b[0;31mKeyboardInterrupt\u001b[0m: "
     ]
    }
   ],
   "source": [
    "# IMPORT POPULATION #######################\n",
    "\n",
    "quenched_pop            = np.genfromtxt('./quenched_pop.txt', delimiter=' ',dtype=int,comments=\"#\")\n",
    "quenched_n_per_location = np.genfromtxt('./quenched_n_per_location.txt', delimiter=' ',dtype=int,comments=\"#\")\n",
    "quenched_link_weight    = np.genfromtxt('./quenched_linkweight.txt', delimiter=' ',dtype=int,comments=\"#\")\n",
    "\n",
    "# Getting list of healthcare workers: people whose work location is < n_hospitals\n",
    "\n",
    "hcw = np.where(quenched_pop[:,2]<n_hospitals)[0]\n",
    "n_hcw = len(hcw)\n",
    "\n",
    "\n",
    "\n",
    "###########################################\n",
    "\n",
    "Tpars  = np.array([[0.6, 1, 0, 1],          # Low quality: sensitivity, specificity, result delay, Fraction of tests\n",
    "                   [1.0, 1, 0, 0]])         # High quality: sentitivity, specificity, result delay, Fraction of tests\n",
    "\n",
    "\n",
    "\n",
    "tf=100\n",
    "\n",
    "test_rates = [5, 7.5, 10, 50]\n",
    "\n",
    "p = np.array([0, 0.2, 0.4, 0.6, 0.8, 1])   # Fraction of LQ tests\n",
    "\n",
    "for f in p:\n",
    "    Tpars[:,3] = [f, round(1-f,2)]\n",
    "    print(Tpars[:,3])\n",
    "    \n",
    "    for i in range(0,10):\n",
    "        for daily_rate in test_rates:\n",
    "            Tau_Leap_Targetted(Tpars, tf, True, True, daily_rate,False)\n"
   ]
  },
  {
   "cell_type": "code",
   "execution_count": null,
   "metadata": {},
   "outputs": [],
   "source": []
  },
  {
   "cell_type": "code",
   "execution_count": null,
   "metadata": {},
   "outputs": [],
   "source": []
  }
 ],
 "metadata": {
  "kernelspec": {
   "display_name": "Python 3",
   "language": "python",
   "name": "python3"
  },
  "language_info": {
   "codemirror_mode": {
    "name": "ipython",
    "version": 3
   },
   "file_extension": ".py",
   "mimetype": "text/x-python",
   "name": "python",
   "nbconvert_exporter": "python",
   "pygments_lexer": "ipython3",
   "version": "3.8.2"
  }
 },
 "nbformat": 4,
 "nbformat_minor": 4
}
