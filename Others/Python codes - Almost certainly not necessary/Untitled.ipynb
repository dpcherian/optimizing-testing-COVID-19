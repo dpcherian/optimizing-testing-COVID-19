{
 "cells": [
  {
   "cell_type": "code",
   "execution_count": 1,
   "metadata": {},
   "outputs": [],
   "source": [
    "import numpy as np"
   ]
  },
  {
   "cell_type": "code",
   "execution_count": 2,
   "metadata": {},
   "outputs": [],
   "source": [
    "pop = np.array([[1,0,0,0],[1,0,0,1],[0,0,0,0],[0,1,0,1],[0,0,1,1],[0,1,0,0],[1,0,0,1],[1,0,0,0],[1,1,1,1],[1,0,1,0]])\n",
    "is_confined = np.array([True,True,True,True,False,True,True,False,False,True])\n",
    "next_test_date = np.array([3,4,66,6,4,3,2,1,2,10])\n",
    "\n",
    "hcw = np.array([1,3,4,6])"
   ]
  },
  {
   "cell_type": "code",
   "execution_count": 16,
   "metadata": {},
   "outputs": [],
   "source": [
    "day = 9"
   ]
  },
  {
   "cell_type": "code",
   "execution_count": null,
   "metadata": {},
   "outputs": [],
   "source": [
    "np.logical_and(np.logical_and(sample1[:,0]==0,is_conf==True), day>nex_tes)"
   ]
  },
  {
   "cell_type": "code",
   "execution_count": 11,
   "metadata": {},
   "outputs": [
    {
     "name": "stdout",
     "output_type": "stream",
     "text": [
      "[[1 0 0 0]\n",
      " [1 0 0 1]\n",
      " [0 0 0 0]\n",
      " [0 1 0 1]\n",
      " [0 0 1 1]\n",
      " [0 1 0 0]\n",
      " [1 0 0 1]\n",
      " [1 0 0 0]\n",
      " [1 1 1 1]\n",
      " [1 0 1 0]]\n",
      "[ True  True  True  True False  True  True False False  True]\n"
     ]
    }
   ],
   "source": [
    "print(pop)\n",
    "print(is_confined)"
   ]
  },
  {
   "cell_type": "code",
   "execution_count": null,
   "metadata": {},
   "outputs": [],
   "source": [
    "hcw[np.logical_and(is_conf[hcw]==True,day>nex_tes[hcw])]"
   ]
  },
  {
   "cell_type": "code",
   "execution_count": null,
   "metadata": {},
   "outputs": [],
   "source": [
    "is_conf[hcw]==True"
   ]
  },
  {
   "cell_type": "code",
   "execution_count": 17,
   "metadata": {},
   "outputs": [
    {
     "data": {
      "text/plain": [
       "array([], dtype=int64)"
      ]
     },
     "execution_count": 17,
     "metadata": {},
     "output_type": "execute_result"
    }
   ],
   "source": [
    "hcw[np.logical_and(np.logical_and(is_confined[hcw]==False, day >= next_test_date[hcw] + 6),pop[hcw][:,0]==0)]"
   ]
  },
  {
   "cell_type": "code",
   "execution_count": null,
   "metadata": {},
   "outputs": [],
   "source": []
  }
 ],
 "metadata": {
  "kernelspec": {
   "display_name": "Python 3",
   "language": "python",
   "name": "python3"
  },
  "language_info": {
   "codemirror_mode": {
    "name": "ipython",
    "version": 3
   },
   "file_extension": ".py",
   "mimetype": "text/x-python",
   "name": "python",
   "nbconvert_exporter": "python",
   "pygments_lexer": "ipython3",
   "version": "3.8.5"
  }
 },
 "nbformat": 4,
 "nbformat_minor": 4
}
