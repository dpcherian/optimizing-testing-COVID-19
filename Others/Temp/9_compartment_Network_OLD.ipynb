{
 "cells": [
  {
   "cell_type": "code",
   "execution_count": 1,
   "metadata": {},
   "outputs": [],
   "source": [
    "# 9-Compartment___Network\n",
    "# Philip Cherian; 4th September, 2020\n",
    "\n",
    "import numpy as np\n",
    "import matplotlib.pyplot as plt\n",
    "from scipy.integrate import odeint\n",
    "import random"
   ]
  },
  {
   "cell_type": "markdown",
   "metadata": {},
   "source": [
    "Model details found [here](https://covid-measures.github.io/). Schematic for the model:\n",
    "\n",
    "<img src=\"../images/model_schematic.png\" alt=\"Drawing\" style=\"width: 600px;\"/>"
   ]
  },
  {
   "cell_type": "markdown",
   "metadata": {},
   "source": [
    "Let's start off with the following parameters:\n",
    "\\begin{equation}\n",
    "    \\begin{aligned}\n",
    "        \\dot{S} &= - \\beta \\frac{S}{N} \\left(C_P I_P + C_A I_A + C_S I_S + C_M I_M \\right)\\\\\n",
    "        \\dot{E} &=  \\beta \\frac{S}{N} \\left(C_P I_P + C_A I_A + C_S I_S + C_M I_M  \\right) - \\gamma E \\\\\n",
    "        \\dot{I_P} &= (1 - \\alpha) \\gamma E - \\lambda_P I_P \\\\\n",
    "        \\dot{I_A} &= \\alpha \\gamma E - \\lambda_A I_A\\\\\n",
    "        \\dot{I_S} &= (1-\\mu) \\lambda_P I_P - \\lambda_S I_S\\\\\n",
    "        \\dot{I_M} &= \\mu \\lambda_P I_P - \\lambda_M I_M\\\\\n",
    "        \\dot{H} &= \\lambda_S I_S - \\rho H \\\\\n",
    "        \\dot{R} &= \\lambda_M I_M + \\lambda_A I_A + (1 - \\delta) \\rho H\\\\\n",
    "        \\dot{D} &= \\delta \\rho H\n",
    "    \\end{aligned}\n",
    "\\end{equation}\n"
   ]
  },
  {
   "cell_type": "code",
   "execution_count": 2,
   "metadata": {},
   "outputs": [],
   "source": [
    "# Parameters for the problem ###############################################\n",
    "\n",
    "pars = [0.2,0.2,0,0.9,0,0,0,0.99,0,0]\n",
    "Cpars= [1,0,0,0]\n",
    "\n",
    "# OLD 9-compartment PARAMETERS\n",
    "\n",
    "#pars = [0.5, 0.192, 0.33, 0.5,   0.1428, 0.1736, 0.1428, 0.956, 0.068, 0.2 ]\n",
    "     # [beta,gamma,alpha,lambdaP,lambdaA,lambdaS,lambdaM,  mu,  rho,  delta]\n",
    "\n",
    "#Cpars= [1, 0.66, 1, 1]\n",
    "     # [Cp, Ca, Cs, Cm]\n",
    "\n",
    "#pops = [1000,  0 ,  0 ,  0 ,  0 ,  0 , 0 ,  0 , 10000]\n",
    "     # [ E0,  IP0, IA0, IS0, IM0, IH0, R0,  D0,  N]\n",
    "    \n",
    "#real_fam_dist=[89703, 180455, 314096, 579496, 451932, 289265, 327046/4, 327046/4, 327046/4 , 327046/4,  40397/4, 40397/4, 40397/4, 40397/4, 10855]\n",
    "       # [   1 ,       2 ,     3,      4 ,     5,     6,     7,       8,        9,      10,         11,        12,      13,     14,     15]\n",
    "\n",
    "fam_dist = [1,1,1,1,1,1,1,1,1,1,1,1,1,1,1]\n",
    "    \n",
    "p=0.99\n",
    "\n",
    "labels = [ \"E\",\"IP\",\"IA\",\"IS\",\"IM\",\"H\",\"R\",\"D\",\"N\"]\n",
    "\n"
   ]
  },
  {
   "cell_type": "markdown",
   "metadata": {},
   "source": [
    "# Family size distribution\n",
    "\n",
    "Let's start by first creating a distribution of family sizes for Delhi NCT from data `fam_dist` (Census 2011). We define a `get_fam()` function that returns an arbitrary family size satisfying the above distribution. To check that it works, we run it many times and see that it reproduces the original distribution."
   ]
  },
  {
   "cell_type": "code",
   "execution_count": 3,
   "metadata": {},
   "outputs": [],
   "source": [
    "def create_fam(ID,n,pops,n_networks):               # Create family of size n, with individuals in states defined \n",
    "                                                    # by pops\n",
    "        \n",
    "        labels = [ \"E\",\"IP\",\"IA\",\"IS\",\"IM\",\"H\",\"R\",\"D\",\"N\"]\n",
    "        \n",
    "        if(len(pops)!=len(labels)):\n",
    "            print(\"Something's wrong, pops should look like \"+str(labels))\n",
    "            print(\"Running anyway, at your own peril.\")\n",
    "        \n",
    "        if pops[-1]!=n:\n",
    "            print(\"Something's wrong, family size and number of members don't match!\")\n",
    "            return False\n",
    "        \n",
    "        family = [['S',ID]]*n                        # Initialise family to all susceptible individuals\n",
    "        \n",
    "        counter = 0\n",
    "        for num in range(0,len(pops)-1):             # Start assigning individuals to family.\n",
    "            for i in range(0,pops[num]):\n",
    "                r = random.randint(0,n_networks)     # Each person assigned to random network\n",
    "                family[counter]=[labels[num], ID, r] # Each individual is of the form ['label', ID, 'Network number']\n",
    "                counter = counter + 1\n",
    "        \n",
    "        # Adding network numbers for remaining (susceptible) individuals\n",
    "        \n",
    "        while(counter<len(family)):\n",
    "            r = random.randint(0,n_networks)   # Each person assigned to random network\n",
    "            family[counter]=[\"S\", ID, r]         # Each individual is of the form ['label', ID, 'Network number']\n",
    "            counter = counter + 1\n",
    "            \n",
    "        return family\n",
    "            \n",
    "        \n",
    "                                                  \n",
    "\n",
    "### COULD BE IMPROVED, currently can only create families with one exposed individual, should generalise #######\n",
    "###                    to include probability distribution of finding exposed, infected, etc.            #######\n",
    "            \n",
    "def get_fam(ID,n_networks):                        # Creates a family from a probabilty distribution (Census 2011)\n",
    "    totalPop = np.sum(fam_dist)                    # That has ONE EXPOSED INDIVIDUAL (this can be improved)\n",
    "    w = np.array(fam_dist)/totalPop\n",
    "    \n",
    "    num = np.zeros(len(fam_dist),int)\n",
    "    r = np.random.random()\n",
    "    \n",
    "    if(r < w[0]):\n",
    "        return create_fam(ID,1,[1,0,0,0,0,0,0,0,1],n_networks)\n",
    "    else:\n",
    "        add = w[0]\n",
    "        for j in range(1,len(fam_dist)):\n",
    "            add = add + w[j]\n",
    "            if(r<add):\n",
    "                return create_fam(ID,j+1,[1,0,0,0,0,0,0,0,j+1],n_networks)\n",
    "                break"
   ]
  },
  {
   "cell_type": "code",
   "execution_count": 4,
   "metadata": {},
   "outputs": [],
   "source": [
    "##### ONLY REQUIRED TO TEST get_fam() ###############\n",
    "# _totalPop = np.sum(fam_dist)\n",
    "# _w = np.array(fam_dist)/_totalPop\n",
    "\n",
    "# total_nums =[]\n",
    "# n_iter = 10000\n",
    "# for i in range(0,n_iter):\n",
    "#     total_nums.append(len(get_fam(1)))\n",
    "    \n",
    "# nn = np.zeros(15,int)\n",
    "# total_nums = np.array(total_nums)\n",
    "# for i in range(1,16):\n",
    "#     nn[i-1] = len(total_nums[total_nums==i])\n",
    "\n",
    "# plt.scatter(range(0,len(fam_dist)),nn/n_iter,label=\"Generated Distribution\")\n",
    "# plt.scatter(range(0,len(fam_dist)),_w,marker='x', label=\"Census Data\")\n",
    "# plt.legend()\n",
    "# #plt.savefig('../images/Delhi_NCT_population_dist.png')\n",
    "# plt.show()\n",
    "#########################################################"
   ]
  },
  {
   "cell_type": "code",
   "execution_count": 5,
   "metadata": {},
   "outputs": [],
   "source": [
    "### Creating a list of families each with one EXPOSED individual #######################################\n",
    "\n",
    "n_networks = 100\n",
    "\n",
    "n_population = 10000\n",
    "\n",
    "samplePopulation = n_population                  # Number of people we're distributing into families\n",
    "\n",
    "ID = 0                                           # Counter to store ID number per family\n",
    " \n",
    "fams = []                                        # List (jagged) containing families\n",
    "\n",
    "while(samplePopulation>0):\n",
    "    temp_fam = get_fam(ID,n_networks)\n",
    "    \n",
    "    old_pop = samplePopulation\n",
    "    \n",
    "    samplePopulation = samplePopulation-len(temp_fam)\n",
    "    \n",
    "    if(samplePopulation>0):\n",
    "        fams.append(temp_fam)\n",
    "    else:                                         # If more people are asked for than exist in population, make\n",
    "        fams.append(create_fam(ID,                # a family out of those who remain\n",
    "                               old_pop,\n",
    "                               [1,0,0,0,0,0,0,0,old_pop],\n",
    "                               n_networks))\n",
    "    \n",
    "    ID = ID + 1                         # Increment ID\n",
    "\n",
    "n_families = len(fams)"
   ]
  },
  {
   "cell_type": "code",
   "execution_count": 6,
   "metadata": {},
   "outputs": [],
   "source": [
    "## Function to count numbers of individuals in different states in population, given a list of families\n",
    "\n",
    "def count_families(fam_list):\n",
    "    \n",
    "    nums = np.zeros(len(labels),int)\n",
    "    \n",
    "    #sizes_array = np.zeros(16,int)\n",
    "    \n",
    "    for family in fam_list:\n",
    "        np_family = np.array(family)\n",
    "        \n",
    "        size = len(np_family)\n",
    "        #sizes_array[size] += 1\n",
    "        \n",
    "        for i in range(0,len(nums)-1):\n",
    "            nums[i] = nums[i] + len(np_family[np.where(np_family==labels[i])])  \n",
    "        \n",
    "        nums[len(nums)-1] = nums[len(nums)-1] + size\n",
    "    \n",
    "    return nums.tolist()#,sizes_array\n"
   ]
  },
  {
   "cell_type": "code",
   "execution_count": 7,
   "metadata": {},
   "outputs": [],
   "source": [
    "def Gillespie_Run(pars, Cpars, group,T):\n",
    "    group = np.array(group,dtype=\"object\")\n",
    "    #print(\"Starting Gillespie\")\n",
    "    # Getting numbers of different cases ###\n",
    "    \n",
    "    n_S = len(np.where(group=='S')[0])\n",
    "    n_E = len(np.where(group=='E')[0])\n",
    "    n_IP = len(np.where(group=='IP')[0])\n",
    "    n_IA = len(np.where(group=='IA')[0])\n",
    "    n_IS = len(np.where(group=='IS')[0])\n",
    "    n_IM = len(np.where(group=='IM')[0])\n",
    "    n_H = len(np.where(group=='H')[0])\n",
    "    n_R = len(np.where(group=='R')[0])\n",
    "    n_D = len(np.where(group=='D')[0])\n",
    "    \n",
    "    #print(group)\n",
    "    N = len(group[:,0])\n",
    "    \n",
    "    \n",
    "    # Parameters of the problem ############\n",
    "    \n",
    "    beta    = pars[0]\n",
    "    gamma   = pars[1]\n",
    "    alpha   = pars[2]\n",
    "    lambdaP = pars[3]\n",
    "    lambdaA = pars[4]\n",
    "    lambdaS = pars[5]\n",
    "    lambdaM = pars[6]\n",
    "    mu      = pars[7]\n",
    "    rho     = pars[8]\n",
    "    delta   = pars[9]\n",
    "    \n",
    "    # Contact Parameters ###################\n",
    "    \n",
    "    Cp = Cpars[0]\n",
    "    Ca = Cpars[1]\n",
    "    Cs = Cpars[2]\n",
    "    Cm = Cpars[3]\n",
    "    \n",
    "    #########################################\n",
    "    \n",
    "    _t = 0.0       # float; start time\n",
    "\n",
    "    V = 1          # float; spatial parameter (NOT \"N\"!)\n",
    "    \n",
    "    W = 0\n",
    "    \n",
    "    #########################################\n",
    "    # Initialize results list ###############\n",
    "\n",
    "    S  = []\n",
    "    E  = []\n",
    "    IP = []\n",
    "    IA = []\n",
    "    IS = []\n",
    "    IM = []\n",
    "    H  = []\n",
    "    R  = []\n",
    "    D  = []\n",
    "    t  = []\n",
    "\n",
    "    S.append(n_S)\n",
    "    E.append(n_E)\n",
    "    IP.append(n_IP)\n",
    "    IA.append(n_IA)\n",
    "    IS.append(n_IS)\n",
    "    IM.append(n_IM)\n",
    "    H.append(n_H)\n",
    "    R.append(n_R)\n",
    "    D.append(n_D)\n",
    "    t.append(_t)\n",
    "\n",
    "    #########################################\n",
    "\n",
    "    \n",
    "    # Loop to compute results at every time-step\n",
    "\n",
    "    while _t < T:\n",
    "\n",
    "        ### DECIDE HOW TO END ####################\n",
    "        if n_IP != 0:                           # If a single pre-symptomatic appears\n",
    "          \n",
    "            r,c = np.where(group=='IP')         # Find all pre-symptomatic individuals\n",
    "          \n",
    "            for k in range(0,len(r)):           # For each individual\n",
    "                test = random.uniform(0,1)      # Perform a test with random uniform distribution\n",
    "                \n",
    "                if(test<p):                     # If test is positive\n",
    "                    #print(group)\n",
    "                    group[r[k],2]=0             # Keep the individual at home (network 0)\n",
    "            \n",
    "#             group[:,0] = 'H'                  # OLD STUFF: USED TO HOSPITALISE EVERYONE!\n",
    "#             S.append(0)\n",
    "#             E.append(0)\n",
    "#             IP.append(0)\n",
    "#             IA.append(0)\n",
    "#             IS.append(0)\n",
    "#             IM.append(0)\n",
    "#             H.append(N)\n",
    "#             R.append(0)\n",
    "#             D.append(0)\n",
    "#             t.append(_t -np.log(random.uniform(0.0, 1.0)) / W )\n",
    "            break                                     # Stop the loop if one presymptomatic case appears\n",
    "            \n",
    "        elif n_E + n_IA + n_IP == 0:                  # No one left to infect anyone\n",
    "            break                                     # Stop the loop as no more infections possible\n",
    "        \n",
    "        \n",
    "        w1 = beta * n_S * ((Cp*n_IP + Ca*n_IA + Cs*n_IS + Cm*n_IM) / V +0.01)\n",
    "        w2 = (1 - alpha) * gamma * n_E\n",
    "        w3 = alpha * gamma * n_E\n",
    "        w4 = (1 - mu) * lambdaP * n_IP\n",
    "        w5 = mu * lambdaP * n_IP\n",
    "        w6 = lambdaA * n_IA\n",
    "        w7 = lambdaS * n_IS\n",
    "        w8 = lambdaM * n_IM\n",
    "        w9 = (1 - delta) * rho * n_H\n",
    "        w10= delta * rho * n_H\n",
    "        \n",
    "        W = w1 + w2 + w3 + w4 + w5 + w6 + w7 + w8 + w9 + w10\n",
    "        \n",
    "        dt = -np.log(random.uniform(0.0, 1.0)) / W             # Choose exponentially distributed time interval\n",
    "        _t = _t + dt                                           # Increment time\n",
    "        \n",
    "        \n",
    "        r = random.uniform(0.0, 1.0)                           # Uniformly distributed random variable to choose \n",
    "                                                               # which transition occurs\n",
    "        if r < w1 / W:\n",
    "            r,c = np.where(group=='S')\n",
    "            k = random.randint(0,len(r)-1)\n",
    "            group[r[k],c[k]]='E'\n",
    "            n_S = n_S - 1\n",
    "            n_E = n_E + 1\n",
    "        elif r < (w1+w2) / W:\n",
    "            r,c = np.where(group=='E')\n",
    "            k = random.randint(0,len(r)-1)\n",
    "            group[r[k],c[k]]='IP'\n",
    "            n_E  = n_E - 1\n",
    "            n_IP = n_IP + 1\n",
    "        elif r < (w1+w2+w3) / W:\n",
    "            r,c = np.where(group=='E')\n",
    "            k = random.randint(0,len(r)-1)\n",
    "            group[r[k],c[k]]='IA'\n",
    "            n_E   = n_E - 1\n",
    "            n_IA  = n_IA + 1\n",
    "        elif r < (w1+w2+w3+w4) / W:\n",
    "            r,c = np.where(group=='IP')\n",
    "            k = random.randint(0,len(r)-1)\n",
    "            group[r[k],c[k]]='IS'\n",
    "            n_IP = n_IP - 1 \n",
    "            n_IS = n_IS + 1\n",
    "        elif r < (w1+w2+w3+w4+w5) / W:\n",
    "            r,c = np.where(group=='IP')\n",
    "            k = random.randint(0,len(r)-1)\n",
    "            group[r[k],c[k]]='IM'\n",
    "            n_IP = n_IP - 1\n",
    "            n_IM = n_IM + 1\n",
    "        elif r < (w1+w2+w3+w4+w5+w6) / W:\n",
    "            r,c = np.where(group=='IA')\n",
    "            k = random.randint(0,len(r)-1)\n",
    "            group[r[k],c[k]]='R'\n",
    "            n_IA = n_IA - 1\n",
    "            n_R  = n_R + 1\n",
    "        elif r < (w1+w2+w3+w4+w5+w6+w7) / W:\n",
    "            r,c = np.where(group=='IS')\n",
    "            k = random.randint(0,len(r)-1)\n",
    "            group[r[k],c[k]]='H'\n",
    "            n_IS = n_IS - 1\n",
    "            n_H  = n_H + 1\n",
    "        elif r < (w1+w2+w3+w4+w5+w6+w7+w8) / W:\n",
    "            r,c = np.where(group=='IM')\n",
    "            k = random.randint(0,len(r)-1)\n",
    "            group[r[k],c[k]]='R'\n",
    "            n_IM = n_IM - 1\n",
    "            n_R  = n_R + 1\n",
    "        elif r < (w1+w2+w3+w4+w5+w6+w7+w8+w9) / W:\n",
    "            r,c = np.where(group=='H')\n",
    "            k = random.randint(0,len(r)-1)\n",
    "            group[r[k],c[k]]='R'\n",
    "            n_H  = n_H - 1\n",
    "            n_R  = n_R + 1\n",
    "        else:\n",
    "            r,c = np.where(group=='H')\n",
    "            k = random.randint(0,len(r)-1)\n",
    "            group[r[k],c[k]]='D'\n",
    "            n_H = n_H - 1\n",
    "            n_D = n_D + 1\n",
    "\n",
    "        S.append(n_S)\n",
    "        E.append(n_E)\n",
    "        IP.append(n_IP)\n",
    "        IA.append(n_IA)\n",
    "        IS.append(n_IS)\n",
    "        IM.append(n_IM)\n",
    "        H.append(n_H)\n",
    "        R.append(n_R)\n",
    "        D.append(n_D)\n",
    "        t.append(_t)\n",
    "\n",
    "    return group.tolist() #t,np.array(S),np.array(E),np.array(IP),np.array(IA),np.array(IS),np.array(IM),np.array(H),np.array(R), np.array(D), group"
   ]
  },
  {
   "cell_type": "code",
   "execution_count": 8,
   "metadata": {},
   "outputs": [],
   "source": [
    "time_array = []\n",
    "\n",
    "output = []\n",
    "\n",
    "T_fam = 1  # Time spent with family\n",
    "T_net = 1  # Time spent in network\n",
    "\n",
    "T_total = 5*30 # 3 months\n",
    "\n",
    "time = 0\n",
    "\n",
    "\n",
    "\n",
    "while(time < T_total):\n",
    "    \n",
    "    networks = []\n",
    "    temp_fams= []\n",
    "    \n",
    "    #print(fams[0])\n",
    "\n",
    "    for i in range(0,n_networks+1):                       # Create a bunch of empty networks\n",
    "        networks.append([])\n",
    "    \n",
    "    for i in range(0,n_families):                         # Create a bunch of empty families (for temp storage)\n",
    "        temp_fams.append([])\n",
    "\n",
    "    #### RUN GILLESPIE FOR FAMILIES ########################\n",
    "    \n",
    "    for i in range(0,len(fams)):                           # For each family\n",
    "        fams[i] = Gillespie_Run(pars,Cpars,fams[i],T_fam)  # Replace with family state after running Gillespie for T_fam\n",
    "\n",
    "        for person in fams[i]:                             # Add family members to network\n",
    "            if(person[0]=='IM'):                            # (Hospitalised are in network 0)\n",
    "                networks[0].append(person)\n",
    "            else:\n",
    "                networks[person[2]].append(person)         # Everyon else added to their respective network \n",
    "                                                           # (People in network zero don't have a Gillespie run on them (Stay-at-homes.))\n",
    "    \n",
    "    time = time + T_fam                                    # Incremement time by total elapsed in family\n",
    "    time_array.append(time)\n",
    "    output.append(count_families(fams))\n",
    "    \n",
    "    #### RUN GILLESPIE FOR NETWORKS ########################\n",
    "    \n",
    "    for i in range(1, len(networks)):                      # Now, for each network (except network 0)\n",
    "        networks[i] = Gillespie_Run(pars,Cpars,networks[i],T_net)  # Replace with network state after running Gillespie for T_net\n",
    "        \n",
    "        for person in networks[i]:                         # Split network back up into families\n",
    "            temp_fams[person[1]].append(person)\n",
    "            \n",
    "    for person in networks[0]:                             # Split network[0] back into families\n",
    "        temp_fams[person[1]].append(person)\n",
    "    \n",
    "    \n",
    "    for i in range(0,len(fams)):\n",
    "        if(len(fams[i])!= len(temp_fams[i])):\n",
    "            print(\"ERROR! Temp and old families are not the same length!\")\n",
    "        else:\n",
    "            fams[i] = temp_fams[i]\n",
    "    \n",
    "    time = time + T_net                                    # Incremement time by total elapsed in family\n",
    "    time_array.append(time)\n",
    "    output.append(count_families(fams))"
   ]
  },
  {
   "cell_type": "code",
   "execution_count": 9,
   "metadata": {
    "scrolled": false
   },
   "outputs": [
    {
     "data": {
      "image/png": "[encoded data removed]",
      "text/plain": [
       "<Figure size 432x288 with 1 Axes>"
      ]
     },
     "metadata": {
      "needs_background": "light"
     },
     "output_type": "display_data"
    },
    {
     "data": {
      "image/png": "[encoded data removed]",
      "text/plain": [
       "<Figure size 432x288 with 1 Axes>"
      ]
     },
     "metadata": {
      "needs_background": "light"
     },
     "output_type": "display_data"
    },
    {
     "data": {
      "image/png": "[encoded data removed]",
      "text/plain": [
       "<Figure size 432x288 with 1 Axes>"
      ]
     },
     "metadata": {
      "needs_background": "light"
     },
     "output_type": "display_data"
    },
    {
     "data": {
      "image/png": "[encoded data removed]",
      "text/plain": [
       "<Figure size 432x288 with 1 Axes>"
      ]
     },
     "metadata": {
      "needs_background": "light"
     },
     "output_type": "display_data"
    },
    {
     "data": {
      "image/png": "[encoded data removed]",
      "text/plain": [
       "<Figure size 432x288 with 1 Axes>"
      ]
     },
     "metadata": {
      "needs_background": "light"
     },
     "output_type": "display_data"
    },
    {
     "data": {
      "image/png": "[encoded data removed]",
      "text/plain": [
       "<Figure size 432x288 with 1 Axes>"
      ]
     },
     "metadata": {
      "needs_background": "light"
     },
     "output_type": "display_data"
    },
    {
     "data": {
      "image/png": "[encoded data removed]",
      "text/plain": [
       "<Figure size 432x288 with 1 Axes>"
      ]
     },
     "metadata": {
      "needs_background": "light"
     },
     "output_type": "display_data"
    },
    {
     "data": {
      "image/png": "[encoded data removed]",
      "text/plain": [
       "<Figure size 432x288 with 1 Axes>"
      ]
     },
     "metadata": {
      "needs_background": "light"
     },
     "output_type": "display_data"
    },
    {
     "data": {
      "image/png": "[encoded data removed]",
      "text/plain": [
       "<Figure size 432x288 with 1 Axes>"
      ]
     },
     "metadata": {
      "needs_background": "light"
     },
     "output_type": "display_data"
    },
    {
     "data": {
      "image/png": "[encoded data removed]",
      "text/plain": [
       "<Figure size 432x288 with 1 Axes>"
      ]
     },
     "metadata": {
      "needs_background": "light"
     },
     "output_type": "display_data"
    }
   ],
   "source": [
    "\n",
    "output = np.array(output)\n",
    "susc   = np.zeros(len(output[:,0]),int)\n",
    "\n",
    "for i in range(0,len(output)):\n",
    "    susc[i] = 2*n_population - np.sum(output[i,:])\n",
    "\n",
    "plt.plot(time_array,susc, label='S')\n",
    "plt.xlabel('Time (Days)')\n",
    "plt.ylabel('Number of Individuals')\n",
    "plt.legend()\n",
    "plt.show()\n",
    "    \n",
    "for i in range(0,len(labels)):\n",
    "    plt.plot(time_array,output[:,i], label=labels[i])\n",
    "    plt.xlabel('Time (Days)')\n",
    "    plt.ylabel('Number of Individuals')\n",
    "    plt.legend()\n",
    "    plt.show()\n"
   ]
  },
  {
   "cell_type": "code",
   "execution_count": null,
   "metadata": {},
   "outputs": [],
   "source": []
  }
 ],
 "metadata": {
  "kernelspec": {
   "display_name": "Python 3",
   "language": "python",
   "name": "python3"
  },
  "language_info": {
   "codemirror_mode": {
    "name": "ipython",
    "version": 3
   },
   "file_extension": ".py",
   "mimetype": "text/x-python",
   "name": "python",
   "nbconvert_exporter": "python",
   "pygments_lexer": "ipython3",
   "version": "3.8.2"
  }
 },
 "nbformat": 4,
 "nbformat_minor": 2
}
