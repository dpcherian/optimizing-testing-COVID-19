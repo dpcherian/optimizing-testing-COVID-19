{
 "cells": [
  {
   "cell_type": "code",
   "execution_count": 94,
   "metadata": {},
   "outputs": [],
   "source": [
    "import numpy as np\n",
    "import matplotlib.pyplot as plt\n",
    "import time"
   ]
  },
  {
   "cell_type": "code",
   "execution_count": 95,
   "metadata": {},
   "outputs": [],
   "source": [
    "def SISGil(rate,n0,T):\n",
    "    \n",
    "    n = np.copy(n0)\n",
    "    N = np.sum(n)\n",
    "    change = np.zeros(len(n0),int)\n",
    "    \n",
    "    output = np.append(0,n0)\n",
    "    \n",
    "    t=0.0\n",
    "    \n",
    "    while(t < T):\n",
    "        \n",
    "        a1 = rate[0][1] * n[0] * n[1]/N\n",
    "        a2 = a1 + rate[1][0] * n[1]\n",
    "        \n",
    "        dt = -np.log( np.random.uniform(0.0,1.0) ) / a2\n",
    "        t += dt\n",
    "        \n",
    "        p = np.random.uniform(0.0,1.0)*a2\n",
    "        \n",
    "        if(p<a1):\n",
    "            n[0] = n[0]-1\n",
    "            n[1] = n[1]+1\n",
    "        \n",
    "        else:\n",
    "            n[0] = n[0]+1\n",
    "            n[1] = n[1]-1\n",
    "            \n",
    "        output = np.vstack((output, np.append(t,n)))\n",
    "    \n",
    "    return output\n",
    "    "
   ]
  },
  {
   "cell_type": "code",
   "execution_count": 96,
   "metadata": {},
   "outputs": [],
   "source": [
    "def SISTauLeap(rate, n0, T):\n",
    "    \n",
    "    dt = 1\n",
    "    n = np.copy(n0)\n",
    "    N = np.sum(n)\n",
    "    change = np.zeros(len(n0),int)\n",
    "    \n",
    "    output = np.append(0,n0)\n",
    "    \n",
    "    t=0.0\n",
    "    \n",
    "    while(t < T):\n",
    "        \n",
    "        change[0] = np.random.poisson( rate[0][1] * n[0]* n[1] * dt/N )\n",
    "        change[1] = np.random.poisson( rate[1][0] * n[1] * dt)\n",
    "        \n",
    "        n[0] = n[0] - change[0] + change[1]\n",
    "        n[1] = n[1] + change[0] - change[1]\n",
    "        \n",
    "        t += dt\n",
    "        \n",
    "        output = np.vstack((output, np.append(t,n)))\n",
    "        \n",
    "    \n",
    "    return output\n",
    "    "
   ]
  },
  {
   "cell_type": "code",
   "execution_count": 100,
   "metadata": {},
   "outputs": [
    {
     "name": "stdout",
     "output_type": "stream",
     "text": [
      "Tau Leap took 0.011870384216308594\n",
      "Gillespie took 0.44304990768432617\n"
     ]
    }
   ],
   "source": [
    "n_states = 2\n",
    "\n",
    "rate_array = np.zeros((n_states,n_states))\n",
    "\n",
    "rate_array[1][0] = 0.1\n",
    "rate_array[0][1] = 0.2\n",
    "\n",
    "init = [900,100]\n",
    "\n",
    "n_iter = 10\n",
    "\n",
    "s = time.time()\n",
    "test = SISTauLeap(rate_array, init,100)\n",
    "e = time.time()\n",
    "\n",
    "for i in range(0,n_iter-1):\n",
    "    test = test + SISTauLeap(rate_array, init,100)\n",
    "\n",
    "test = test/n_iter\n",
    "\n",
    "print(\"Tau Leap took \"+str(e-s))\n",
    "\n",
    "\n",
    "s = time.time()\n",
    "testy= SISGil(rate_array,init,100)\n",
    "e = time.time()\n",
    "\n",
    "print(\"Gillespie took \"+str(e-s))"
   ]
  },
  {
   "cell_type": "code",
   "execution_count": 101,
   "metadata": {},
   "outputs": [
    {
     "data": {
      "text/plain": [
       "[<matplotlib.lines.Line2D at 0x7fc873daa7c0>]"
      ]
     },
     "execution_count": 101,
     "metadata": {},
     "output_type": "execute_result"
    },
    {
     "data": {
      "image/png": "[encoded data removed]",
      "text/plain": [
       "<Figure size 432x288 with 1 Axes>"
      ]
     },
     "metadata": {
      "needs_background": "light"
     },
     "output_type": "display_data"
    }
   ],
   "source": [
    "plt.plot(test[:,0],test[:,1])\n",
    "plt.plot(test[:,0],test[:,2])\n",
    "plt.plot(testy[:,0],testy[:,1])\n",
    "plt.plot(testy[:,0],testy[:,2])"
   ]
  },
  {
   "cell_type": "code",
   "execution_count": null,
   "metadata": {},
   "outputs": [],
   "source": []
  }
 ],
 "metadata": {
  "kernelspec": {
   "display_name": "Python 3",
   "language": "python",
   "name": "python3"
  },
  "language_info": {
   "codemirror_mode": {
    "name": "ipython",
    "version": 3
   },
   "file_extension": ".py",
   "mimetype": "text/x-python",
   "name": "python",
   "nbconvert_exporter": "python",
   "pygments_lexer": "ipython3",
   "version": "3.8.2"
  }
 },
 "nbformat": 4,
 "nbformat_minor": 4
}
