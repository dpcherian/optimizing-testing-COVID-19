{
 "cells": [
  {
   "cell_type": "code",
   "execution_count": 1,
   "metadata": {},
   "outputs": [],
   "source": [
    "import numpy as np\n",
    "import matplotlib.pyplot as plt\n",
    "import glob\n",
    "\n",
    "import matplotlib.patches as mpatches\n",
    "from matplotlib.patches import Ellipse"
   ]
  },
  {
   "cell_type": "code",
   "execution_count": 2,
   "metadata": {},
   "outputs": [
    {
     "name": "stdout",
     "output_type": "stream",
     "text": [
      "7055\n",
      "280\n"
     ]
    }
   ],
   "source": [
    "# random_txt_files = np.array(glob.glob('../data/RandomTesting/*.txt'))\n",
    "only_s_txt_files_10 = np.array(glob.glob('../data/TargettedTesting/OnlyI-Targetted_Testing_BeginAt_1*.txt'))\n",
    "only_s_txt_files_1 = np.array(glob.glob('../data/TargettedTesting/StartLater-HalfRun/OnlyI-Targetted_Testing_BeginAt_10*.txt'))\n",
    "# hi_i_h_txt_files = np.array(glob.glob('../data/TargettedTesting/HI-I-H*.txt'))\n",
    "\n",
    "# print(len(random_txt_files))\n",
    "print(len(only_s_txt_files_10))\n",
    "print(len(only_s_txt_files_1))\n",
    "# print(len(hi_i_h_txt_files))"
   ]
  },
  {
   "cell_type": "code",
   "execution_count": 3,
   "metadata": {},
   "outputs": [],
   "source": [
    "def split_begin_rate(files,choice):\n",
    "    \n",
    "    begin_at_1 = []\n",
    "    begin_at_10= []\n",
    "    \n",
    "    for file in files:\n",
    "        if file.split(\"_\")[3] == \"1\":\n",
    "            begin_at_1.append(file)\n",
    "        elif file.split(\"_\")[3] == \"10\":\n",
    "            begin_at_10.append(file)\n",
    "        \n",
    "    if(choice==1):\n",
    "        return begin_at_1\n",
    "    elif(choice==10):\n",
    "        return begin_at_10\n",
    "    else:\n",
    "        print(\"Invalid choice\")"
   ]
  },
  {
   "cell_type": "code",
   "execution_count": 4,
   "metadata": {},
   "outputs": [],
   "source": [
    "def split_daily_rate(files,choice):\n",
    "    \n",
    "    point_one = []\n",
    "    point_five= []\n",
    "    \n",
    "    for file in files:\n",
    "        if file.split(\"_\")[5] == \"0.1\":\n",
    "            point_one.append(file)\n",
    "        elif file.split(\"_\")[5] == \"0.5\":\n",
    "            point_five.append(file)\n",
    "            \n",
    "    if(choice==0.1):\n",
    "        return point_one\n",
    "    elif(choice==0.5):\n",
    "        return point_five\n",
    "    else:\n",
    "        print(\"Invalid choice\")"
   ]
  },
  {
   "cell_type": "code",
   "execution_count": 5,
   "metadata": {},
   "outputs": [],
   "source": [
    "def plot_graph(all_files,cc,choice):\n",
    "#     print(all_files[0])\n",
    "    if cc[0] == 0:\n",
    "        if(cc[2] == 0):\n",
    "            clrs = plt.cm.Blues(np.linspace(0.5,1,6))\n",
    "        elif(cc[2] == 1):\n",
    "            clrs = plt.cm.Greens(np.linspace(0.5,1,6))\n",
    "    elif cc[0] == 1:\n",
    "        if(cc[2] == 0):\n",
    "            clrs = plt.cm.Reds(np.linspace(0.5,1,6))\n",
    "        elif(cc[2] == 1):\n",
    "            clrs = plt.cm.Oranges(np.linspace(0.5,1,6))\n",
    "    \n",
    "    \n",
    "#     cases = [\"0.1%: Retesting Symtomatics, Not testing HCW\", \"0.1%: Not Retesting symptomatics, Not testing HCW\", \"0.1%: Testing HCW after Symptomatics\", \"1%: Testing HCW after Symptomatic\"]\n",
    "    cases = [\"Only Testing Symptomatics\", \"HCW-I-HCW Testing\"]\n",
    "    case_color = [\"darkgoldenrod\", \"darkgreen\", \"firebrick\"]\n",
    "    \n",
    "    p_0_0 = []\n",
    "    p_0_1 = []\n",
    "    p_0_2 = []\n",
    "    p_0_3 = []\n",
    "    p_0_4 = []\n",
    "    p_0_5 = []\n",
    "    p_0_6 = []\n",
    "    p_0_7 = []\n",
    "    p_0_8 = []\n",
    "    p_0_9 = []\n",
    "    p_1_0 = []\n",
    "\n",
    "    p = [p_0_0, p_0_1, p_0_2, p_0_3, p_0_4, p_0_5, p_0_6, p_0_7, p_0_8, p_0_9, p_1_0]\n",
    "    x_axis = np.array([0.0, 0.1, 0.2, 0.3, 0.4, 0.5, 0.6, 0.7, 0.8, 0.9, 1.0])\n",
    "\n",
    "\n",
    "    for i in range(0,len(all_files)):\n",
    "        for j in range(0,len(x_axis)):\n",
    "            if(all_files[i].split(\"_\")[8]==str(x_axis[j])):\n",
    "                p[j].append(all_files[i])\n",
    "    \n",
    "    data = [[],[],[],[],[],[],[],[],[],[],[]]\n",
    "    \n",
    "    cools = ['navy', 'royalblue', 'blue','green','lime','magenta','olive','orange','orangered','maroon','red']\n",
    "\n",
    "    n_pop = 10000\n",
    "    \n",
    "    print(\"*** Data ***\")\n",
    "    \n",
    "    for i in range(0,len(data)):\n",
    "        count = 0\n",
    "        temp_av = np.zeros(120,float)\n",
    "        for j in range(0, len(p[i])):\n",
    "            temp_data = np.genfromtxt(p[i][j],delimiter=\" \", comments=\"#\")[-1][4] # Get number of recovered from data\n",
    "            temp_data += np.genfromtxt(p[i][j],delimiter=\" \", comments=\"#\")[-1][2]+np.genfromtxt(p[i][j],delimiter=\" \", comments=\"#\")[-1][3]+np.genfromtxt(p[i][j],delimiter=\" \", comments=\"#\")[-1][5] # DOING THIS BECAUSE I ONLY PLOTTED TILL 100 days, but infection completely dies out later\n",
    "            \n",
    "            all_inf = np.genfromtxt(p[i][j],delimiter=\" \", comments=\"#\")[:,2]+np.genfromtxt(p[i][j],delimiter=\" \", comments=\"#\")[:,3]+np.genfromtxt(p[i][j],delimiter=\" \", comments=\"#\")[:,5]\n",
    "            tx = np.genfromtxt(p[i][j],delimiter=\" \", comments=\"#\")[:,0]\n",
    "#             plt.plot(tx, all_inf/n_pop,'--',alpha=0.2,color=cools[i])\n",
    "            if(len(temp_av)<len(all_inf)):\n",
    "                for k in range(0,len(temp_av)):\n",
    "                    temp_av[k] += all_inf[k]\n",
    "            else:\n",
    "                temp_av += all_inf\n",
    "            count += 1\n",
    "            data[i].append(temp_data)\n",
    "#         print(\"RAT \"+str(x_axis[i]*100)+\"% \"+str(data[i])+\" \"+ str(len(data[i]))+\" runs\")\n",
    "#         plt.yscale('log')\n",
    "#         print(count,end=\" \")\n",
    "#         tx = np.linspace(0,120,120)\n",
    "#         temp_av = temp_av/(n_pop*count)\n",
    "#         plt.plot(tx,temp_av,color='red',label=\"Daily Testing: \"+str(all_files[0].split(\"_\")[6])+\"% RAT frac:\"+str(round(x_axis[i]*100))+\"%\")\n",
    "#         plt.ylabel(\"Normalised Fraction of Infected\")\n",
    "#         plt.xlabel(\"Time (Days)\")\n",
    "#         plt.legend()\n",
    "# #         plt.savefig(\"../images/Comparing_Sensitivities/Infected Graphs/\"+all_files[i].split(\"_\")[0].split(\"/\")[-1]+\"_\"+\"RAT_sens_\"+str(all_files[i].split(\"_\")[4])+\"_frac\"+str(x_axis[i]*100)+\".png\",facecolor='w')\n",
    "#         plt.show()\n",
    "\n",
    "\n",
    "    avgs = np.zeros(len(p),float)\n",
    "    stds = np.zeros(len(p),float)\n",
    "\n",
    "    \n",
    "\n",
    "    for i in range(0,len(avgs)):\n",
    "        if(len(data[i])>0):\n",
    "            avgs[i] = np.average(data[i])/n_pop\n",
    "            stds[i] = np.std(data[i])/n_pop\n",
    "        else:\n",
    "            avgs[i] = np.nan\n",
    "            stds[i] = np.nan\n",
    "    \n",
    "    if(len(all_files)!=0):\n",
    "        plt.title(\"Begin Testing at - \"+all_files[0].split(\"_\")[3]+\"% infected. Daily Test Rate: \"+all_files[0].split(\"_\")[5]+\"%\")\n",
    "    \n",
    "        plt.xlabel(\"Percentage of total tests that are RAT (%)\")\n",
    "        plt.ylabel(\"Asymptotic Fraction Infected\")\n",
    "        #plt.locator_params(nbins = len(labels),axis='x')\n",
    "    #     plt.xticks(fontsize=20)\n",
    "    #     plt.yticks(fontsize=20)\n",
    "\n",
    "    #     plt.plot(x_axis*100, avgs,'-o',color=clrs[0],label=all_files[0].split(\"_\")[2]+\"% \"+ all_files[i].split(\"_\")[0].split(\"/\")[-1]+\" Testing Daily\")\n",
    "        plt.plot(x_axis*100, avgs,'-o',color=case_color[choice],label=cases[choice],alpha=1)#0.7*cc[1])\n",
    "        plt.errorbar(x_axis*100,avgs,yerr=stds,ls='none',color=case_color[choice],solid_capstyle='projecting', capsize=5,alpha=0.5)\n",
    "    #     plt.legend()\n",
    "    #     plt.savefig(\"../images/Comparing_Sensitivities/\"+all_files[i].split(\"_\")[0].split(\"/\")[-1]+\"_\"+all_files[i].split(\"_\")[1]+all_files[i].split(\"_\")[2]+\"_BETA06_.png\",dpi=500,facecolor='w')\n",
    "    #     plt.show()\n"
   ]
  },
  {
   "cell_type": "code",
   "execution_count": 6,
   "metadata": {},
   "outputs": [],
   "source": [
    "def plot_i_graph(all_files,cc,choice):\n",
    "#     print(all_files[0])\n",
    "#     if cc[0] == 0:\n",
    "#         if(cc[2] == 0):\n",
    "#             clrs = plt.cm.Blues(np.linspace(0.5,1,6))\n",
    "#         elif(cc[2] == 1):\n",
    "#             clrs = plt.cm.Greens(np.linspace(0.5,1,6))\n",
    "#     elif cc[0] == 1:\n",
    "#         if(cc[2] == 0):\n",
    "#             clrs = plt.cm.Reds(np.linspace(0.5,1,6))\n",
    "#         elif(cc[2] == 1):\n",
    "#             clrs = plt.cm.Oranges(np.linspace(0.5,1,6))\n",
    "    \n",
    "    \n",
    "#     cases = [\"0.1%: Retesting Symtomatics, Not testing HCW\", \"0.1%: Not Retesting symptomatics, Not testing HCW\", \"0.1%: Testing HCW after Symptomatics\", \"1%: Testing HCW after Symptomatic\"]\n",
    "    cases = [\"Only Testing Symptomatics\", \"HCW-I-HCW Testing\"]\n",
    "    case_color = [\"darkgoldenrod\", \"darkgreen\", \"firebrick\"]\n",
    "    \n",
    "    p_0_0 = []\n",
    "    p_0_1 = []\n",
    "    p_0_2 = []\n",
    "    p_0_3 = []\n",
    "    p_0_4 = []\n",
    "    p_0_5 = []\n",
    "    p_0_6 = []\n",
    "    p_0_7 = []\n",
    "    p_0_8 = []\n",
    "    p_0_9 = []\n",
    "    p_1_0 = []\n",
    "\n",
    "    p = [p_0_0, p_0_1, p_0_2, p_0_3, p_0_4, p_0_5, p_0_6, p_0_7, p_0_8, p_0_9, p_1_0]\n",
    "    x_axis = np.array([0.0, 0.1, 0.2, 0.3, 0.4, 0.5, 0.6, 0.7, 0.8, 0.9, 1.0])\n",
    "\n",
    "\n",
    "    for i in range(0,len(all_files)):\n",
    "        for j in range(0,len(x_axis)):\n",
    "            if(all_files[i].split(\"_\")[8]==str(x_axis[j])):\n",
    "                p[j].append(all_files[i])\n",
    "    \n",
    "    data = [[],[],[],[],[],[],[],[],[],[],[]]\n",
    "    \n",
    "    cools = ['navy', 'royalblue', 'blue','green','lime','magenta','olive','orange','orangered','maroon','red']\n",
    "\n",
    "    n_pop = 10000\n",
    "    \n",
    "    print(\"*** Data ***\")\n",
    "    \n",
    "#     for i in range(0,len(data)):\n",
    "    i=cc\n",
    "    count = 0\n",
    "    temp_av = np.zeros(120,float)\n",
    "    for j in range(0, len(p[i])):\n",
    "        temp_data = np.genfromtxt(p[i][j],delimiter=\" \", comments=\"#\")[-1][4] # Get number of recovered from data\n",
    "        temp_data += np.genfromtxt(p[i][j],delimiter=\" \", comments=\"#\")[-1][2]+np.genfromtxt(p[i][j],delimiter=\" \", comments=\"#\")[-1][3]+np.genfromtxt(p[i][j],delimiter=\" \", comments=\"#\")[-1][5] # DOING THIS BECAUSE I ONLY PLOTTED TILL 100 days, but infection completely dies out later\n",
    "\n",
    "        all_inf = np.genfromtxt(p[i][j],delimiter=\" \", comments=\"#\")[:,2]+np.genfromtxt(p[i][j],delimiter=\" \", comments=\"#\")[:,3]+np.genfromtxt(p[i][j],delimiter=\" \", comments=\"#\")[:,5]\n",
    "        tx = np.genfromtxt(p[i][j],delimiter=\" \", comments=\"#\")[:,0]\n",
    "        plt.plot(tx, all_inf/n_pop,'--',alpha=0.2,color=case_color[choice])\n",
    "      \n",
    "        if(len(temp_av)<len(all_inf)):\n",
    "            for k in range(0,len(temp_av)):\n",
    "                temp_av[k] += all_inf[k]\n",
    "        else:\n",
    "            temp_av += all_inf\n",
    "        count += 1\n",
    "        data[i].append(temp_data)\n",
    "#         print(\"RAT \"+str(x_axis[i]*100)+\"% \"+str(data[i])+\" \"+ str(len(data[i]))+\" runs\")\n",
    "#         plt.yscale('log')\n",
    "    print(count,end=\" \")\n",
    "    tx = np.linspace(0,120,120)\n",
    "    temp_av = temp_av/(n_pop*count)\n",
    "    if(len(all_files)>0):\n",
    "        plt.title(\"Begin Testing at - \"+all_files[0].split(\"_\")[3]+\"% infected. Daily Test Rate: \"+all_files[0].split(\"_\")[5]+\"%\\nRAT Fraction:\"+p[i][0].split(\"_\")[8])\n",
    "#     plt.plot(tx,temp_av,color='red',label=\"Daily Testing: \"+str(all_files[0].split(\"_\")[6])+\"% RAT frac:\"+str(round(x_axis[i]*100))+\"%\")\n",
    "    plt.plot(tx,temp_av,color=case_color[choice],label=cases[choice],linewidth=3)\n",
    "    plt.ylabel(\"Fraction of Infected\")\n",
    "    plt.xlabel(\"Time (Days)\")\n",
    "#     plt.legend()\n",
    "#         plt.savefig(\"../images/Comparing_Sensitivities/Infected Graphs/\"+all_files[i].split(\"_\")[0].split(\"/\")[-1]+\"_\"+\"RAT_sens_\"+str(all_files[i].split(\"_\")[4])+\"_frac\"+str(x_axis[i]*100)+\".png\",facecolor='w')\n",
    "#     plt.show()"
   ]
  },
  {
   "cell_type": "code",
   "execution_count": null,
   "metadata": {},
   "outputs": [],
   "source": []
  },
  {
   "cell_type": "code",
   "execution_count": 10,
   "metadata": {},
   "outputs": [
    {
     "name": "stdout",
     "output_type": "stream",
     "text": [
      "*** Data ***\n",
      "*** Data ***\n"
     ]
    },
    {
     "data": {
      "image/png": "[encoded data removed]",
      "text/plain": [
       "<Figure size 432x288 with 1 Axes>"
      ]
     },
     "metadata": {
      "needs_background": "light"
     },
     "output_type": "display_data"
    },
    {
     "name": "stdout",
     "output_type": "stream",
     "text": [
      "*** Data ***\n",
      "*** Data ***\n"
     ]
    },
    {
     "data": {
      "image/png": "[encoded data removed]",
      "text/plain": [
       "<Figure size 432x288 with 1 Axes>"
      ]
     },
     "metadata": {
      "needs_background": "light"
     },
     "output_type": "display_data"
    },
    {
     "name": "stdout",
     "output_type": "stream",
     "text": [
      "*** Data ***\n",
      "*** Data ***\n"
     ]
    },
    {
     "data": {
      "image/png": "[encoded data removed]",
      "text/plain": [
       "<Figure size 432x288 with 1 Axes>"
      ]
     },
     "metadata": {
      "needs_background": "light"
     },
     "output_type": "display_data"
    },
    {
     "name": "stdout",
     "output_type": "stream",
     "text": [
      "*** Data ***\n",
      "*** Data ***\n"
     ]
    },
    {
     "data": {
      "image/png": "[encoded data removed]",
      "text/plain": [
       "<Figure size 432x288 with 1 Axes>"
      ]
     },
     "metadata": {
      "needs_background": "light"
     },
     "output_type": "display_data"
    }
   ],
   "source": [
    "dtrs = [0.1,0.5]\n",
    "begin= [1,10]\n",
    "file_list = [only_s_txt_files_1,only_s_txt_files_10]#, hi_i_h_txt_files]\n",
    "\n",
    "for begin_at in begin:\n",
    "    for dtr in dtrs:\n",
    "        for i in range (0,len(file_list)):\n",
    "            file = file_list[i]\n",
    "            plot_graph(split_daily_rate(split_begin_rate(file , begin_at),dtr),[1,1,1],i)\n",
    "        plt.legend()\n",
    "        plt.show()"
   ]
  },
  {
   "cell_type": "code",
   "execution_count": null,
   "metadata": {},
   "outputs": [],
   "source": [
    "dtrs = [0.1,0.5]\n",
    "begin= [1,10]\n",
    "file_list = [only_s_txt_files, hi_i_h_txt_files]\n",
    "\n",
    "for dtr in dtrs:\n",
    "    for begin_at in begin:\n",
    "        for i in range (0,len(file_list)):\n",
    "            file = file_list[i]\n",
    "            plot_i_graph(split_daily_rate(split_begin_rate(file , begin_at),dtr),10,i)\n",
    "        \n",
    "        plt.legend()\n",
    "        plt.show()"
   ]
  },
  {
   "cell_type": "code",
   "execution_count": null,
   "metadata": {},
   "outputs": [],
   "source": [
    "def get_cov_ellipse(cov, centre, nstd, **kwargs):\n",
    "    \"\"\"\n",
    "    Return a matplotlib Ellipse patch representing the covariance matrix\n",
    "    cov centred at centre and scaled by the factor nstd.\n",
    "\n",
    "    \"\"\"\n",
    "\n",
    "    # Find and sort eigenvalues and eigenvectors into descending order\n",
    "    eigvals, eigvecs = np.linalg.eigh(cov)\n",
    "    order = eigvals.argsort()[::-1]\n",
    "    eigvals, eigvecs = eigvals[order], eigvecs[:, order]\n",
    "\n",
    "    # The anti-clockwise angle to rotate our ellipse by \n",
    "    vx, vy = eigvecs[:,0][0], eigvecs[:,0][1]\n",
    "    theta = np.arctan2(vy, vx)\n",
    "\n",
    "    # Width and height of ellipse to draw\n",
    "#     width, height = 2 * nstd * np.sqrt(eigvals)\n",
    "\n",
    "    width = 2 * nstd * np.sqrt(eigvals)[0]\n",
    "    height= 2 * nstd * np.sqrt(eigvals)[1]\n",
    "#     print(width)\n",
    "#     print(height)\n",
    "    return Ellipse(xy=centre, width=width, height=height,\n",
    "                   angle=np.degrees(theta), **kwargs)\n",
    "\n",
    "\n",
    "\n",
    "\n",
    "def plot_scatter(all_files, choice):\n",
    "    \n",
    "    cases = [\"Only Testing Symptomatics\", \"HCW-I-HCW Testing\"]\n",
    "    case_color = [[\"dodgerblue\", \"navy\"],\n",
    "                  [\"firebrick\", \"darkgoldenrod\"]]\n",
    "    \n",
    "    \n",
    "    p_0_0 = []\n",
    "    p_1_0 = []\n",
    "\n",
    "    p = [p_0_0, p_1_0]\n",
    "    x_axis = np.array([0.0, 1.0])\n",
    "\n",
    "    for i in range(0,len(all_files)):\n",
    "        for j in range(0,len(x_axis)):\n",
    "            if(all_files[i].split(\"_\")[8]==str(x_axis[j])):\n",
    "                p[j].append(all_files[i])\n",
    "    \n",
    "    \n",
    "#     print(\"*** Data ***\")\n",
    "    \n",
    "    n_pop = 10000\n",
    "    l = [\"Pure PCR\", \"Pure RAT\"]\n",
    "    for i in range(0, len(p)):\n",
    "        \n",
    "        count = 0\n",
    "        rec_list = []\n",
    "        peak_list= []\n",
    "        \n",
    "        for j in range(0,len(p[i])):\n",
    "            \n",
    "            file = np.genfromtxt(p[i][j],delimiter=\" \", comments=\"#\")\n",
    "            \n",
    "            all_inf = (file[:,2]+file[:,3]+file[:,5])/n_pop\n",
    "            \n",
    "            if(file[-1][4]>100):\n",
    "                n_rec = file[-1][4]/n_pop\n",
    "                rec_list.append(n_rec)\n",
    "\n",
    "                peak_inf = max(all_inf)\n",
    "                peak_list.append(peak_inf)\n",
    "            \n",
    "            plt.scatter(n_rec,peak_inf,color=case_color[i][choice],alpha=0.2)\n",
    "            plt.xlabel(\"Asymptotic Fraction of Recovered\")\n",
    "            plt.ylabel(\"Peak Infected Fraction\")\n",
    "    \n",
    "    \n",
    "        avg_rec = np.average(rec_list)\n",
    "        std_rec = np.std(rec_list)\n",
    "\n",
    "        avg_peak= np.average(peak_list)\n",
    "        std_peak= np.std(peak_list)\n",
    "        \n",
    "        print(\"Fraction of Recovered for\",x_axis[i]*100,\"% RAT, with Daily Testing of\",p[i][j].split(\"_\")[5],\"% :\",avg_rec,r\"$\\pm$\",std_rec,\"Color=\",case_color[i][choice])\n",
    "        print(\"Peak Infected Fraction   \",x_axis[i]*100,\"% RAT, with Daily Testing of\",p[i][j].split(\"_\")[5],\"% :\",avg_peak,r\"$\\pm$\",std_peak,\"Color=\",case_color[i][choice])\n",
    "        \n",
    "#         plt.scatter(avg_rec,avg_peak,s=10000*max(std_rec,std_peak),color=case_color[i][choice],alpha=0.7,label=cases[i])\n",
    "        plt.scatter(avg_rec,avg_peak, marker='o', edgecolor='w', color=case_color[i][choice],s=100)\n",
    "        \n",
    "        cov = np.cov(rec_list, peak_list)\n",
    "        e = get_cov_ellipse(cov, (avg_rec, avg_peak), 2, fc=case_color[i][choice], alpha=0.2,label=l[i])\n",
    "        plt.gca().add_patch(e)\n",
    "        \n",
    "#         plt.vlines( avg_rec ,0,avg_peak,color=case_color[i][choice])\n",
    "#         plt.show()"
   ]
  },
  {
   "cell_type": "code",
   "execution_count": null,
   "metadata": {},
   "outputs": [],
   "source": [
    "only_s_txt_files[0].split(\"_\")"
   ]
  },
  {
   "cell_type": "code",
   "execution_count": null,
   "metadata": {
    "scrolled": false
   },
   "outputs": [],
   "source": [
    "dtrs = [0.1,0.5]\n",
    "begin= [1,10]\n",
    "file_list = [only_s_txt_files, hi_i_h_txt_files]\n",
    "\n",
    "for begin_at in begin:\n",
    "    for dtr in dtrs:\n",
    "        for i in range (0,len(file_list)):\n",
    "            plt.title(\"Begin testing at \"+str(begin_at)+\"% total infected, Daily Testing: \"+str(dtr)+\"%\")\n",
    "            file = file_list[i]\n",
    "            print(file[0].split(\"_\")[0].split(\"/\")[-1])\n",
    "            plot_scatter(split_daily_rate(split_begin_rate(file , begin_at),dtr),i)\n",
    "        \n",
    "            plt.legend()\n",
    "            plt.show()"
   ]
  },
  {
   "cell_type": "code",
   "execution_count": null,
   "metadata": {},
   "outputs": [],
   "source": []
  },
  {
   "cell_type": "code",
   "execution_count": null,
   "metadata": {},
   "outputs": [],
   "source": [
    "no_test = np.array(glob.glob('../data/RandomTesting/Full Run (4th October)/Random_Testing_0_*.txt'))\n",
    "\n",
    "plot_scatter(no_test,0)"
   ]
  },
  {
   "cell_type": "code",
   "execution_count": null,
   "metadata": {},
   "outputs": [],
   "source": []
  },
  {
   "cell_type": "code",
   "execution_count": null,
   "metadata": {},
   "outputs": [],
   "source": []
  }
 ],
 "metadata": {
  "kernelspec": {
   "display_name": "Python 3",
   "language": "python",
   "name": "python3"
  },
  "language_info": {
   "codemirror_mode": {
    "name": "ipython",
    "version": 3
   },
   "file_extension": ".py",
   "mimetype": "text/x-python",
   "name": "python",
   "nbconvert_exporter": "python",
   "pygments_lexer": "ipython3",
   "version": "3.8.5"
  }
 },
 "nbformat": 4,
 "nbformat_minor": 4
}
