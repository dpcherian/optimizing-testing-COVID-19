{
 "cells": [
  {
   "cell_type": "code",
   "execution_count": 1,
   "metadata": {},
   "outputs": [],
   "source": [
    "# Asymptomatic Spread with Testing\n",
    "# Philip Cherian; 7th April, 2020\n",
    "\n",
    "import numpy as np\n",
    "import matplotlib.pyplot as plt\n",
    "from scipy.integrate import odeint\n",
    "import random"
   ]
  },
  {
   "cell_type": "markdown",
   "metadata": {},
   "source": [
    "Let's start off with the following parameters:\n",
    "\n",
    "\\begin{equation}\n",
    "\\begin{aligned}\n",
    "\\dot{S}   &= - \\beta \\frac{S}{V} \\left( C_A I_A + C_S I_S \\right)\\\\\n",
    "\\dot{E}   &=  \\beta \\frac{S}{V} \\left( C_A I_A + C_S I_S \\right) + \\gamma_E E \\\\\n",
    "\\dot{I}_S &=  (1-p) \\gamma_E E - \\gamma_S I_S\\\\\n",
    "\\dot{I}_A &=  p \\gamma_E E - \\gamma_A I_A\\\\\n",
    "\\dot{R}   &=  \\gamma_S I_S + \\gamma_A I_A\n",
    "\\end{aligned}\n",
    "\\end{equation}\n",
    "\n",
    "Let's take the spatial parameter $V=1$."
   ]
  },
  {
   "cell_type": "code",
   "execution_count": 2,
   "metadata": {},
   "outputs": [],
   "source": [
    "# # VG code parameters ########################\n",
    "\n",
    "# tau_a = 3;  # Number of days people remain asymptomatic\n",
    "# tau_s = 15; # Number of days people remain symptomatic (since we are not considering hospitatlisation, etc)\n",
    "# tau_e = 5;  # Incubation time for viral load to increase\n",
    "\n",
    "# beta_a = 0.4; # Transmission rate from asymptomatic to susceptible\n",
    "# beta_s = 0.8; # Transmission rate from symptomatic to susceptible\n",
    "\n",
    "# gamma_e = 1.0/tau_e; #rate at which exposed become infected\n",
    "# gamma_a = 1.0/tau_a; #rate at which asymptomatic recover\n",
    "# gamma_s = 1.0/tau_s; #rate at which symptomatic recover\n",
    "\n",
    "# p = 0.5;             #fraction whom become asymptomatic\n",
    "\n",
    "# My Parameters #############################\n",
    "\n",
    "beta = 1 \n",
    "C_A  = 0.4   # beta * C_A is beta_A\n",
    "C_S  = 0.8   # beta * C_S is beta_S\n",
    "\n",
    "tau_E = 5    # Incubation time for viral load to increase\n",
    "tau_A = 3    # Number of days people remain asymptomatic\n",
    "tau_S = 15   # Number of days people remain symptomatic (since we are not considering hospitatlisation, etc)\n",
    "\n",
    "gamma_E = 1/tau_E\n",
    "gamma_A = 1/tau_A\n",
    "gamma_S = 1/tau_S\n",
    "\n",
    "p = 0.5       # Fraction who become asymptomatic\n",
    "\n",
    "T_max = 21;   # Number of lockdown days\n",
    "\n",
    "############################################"
   ]
  },
  {
   "cell_type": "code",
   "execution_count": 7,
   "metadata": {},
   "outputs": [],
   "source": [
    "def Gil(E0,N):\n",
    "    # Input parameters ####################\n",
    "\n",
    "    # N: int; family size\n",
    "    \n",
    "    n_E = E0         # int; initial exposed population in a family\n",
    "    n_IA = 0         # int; initial infected populations in a family\n",
    "    n_IS = 0\n",
    "    n_R = 0          # int; recovered population\n",
    "\n",
    "    T = T_max        # float; maximum elapsed time\n",
    "    _t = 0.0         # float; start time\n",
    "\n",
    "\n",
    "    V = 1            # float; spatial parameter (NOT \"N\"! now)\n",
    "\n",
    "    \n",
    "\n",
    "    #########################################\n",
    "\n",
    "\n",
    "    n_S = N - n_IA - n_IS - n_E  # Computing susceptible population\n",
    "\n",
    "\n",
    "    # Initialize results list ###############\n",
    "\n",
    "    S  = []\n",
    "    E  = []\n",
    "    IA = []\n",
    "    IS = []\n",
    "    R  = []\n",
    "    t  = []\n",
    "\n",
    "    S.append(n_S)\n",
    "    E.append(n_E)\n",
    "    IA.append(n_IA)\n",
    "    IS.append(n_IS)\n",
    "    R.append(n_R)\n",
    "    t.append(_t)\n",
    "\n",
    "    #########################################\n",
    "\n",
    "\n",
    "    # Loop to compute results at every time-step\n",
    "\n",
    "    while _t < T:                                        \n",
    "        if n_IS != 0:   # There is atleast one symptomatic case (will be detected)\n",
    "            \n",
    "            #print(\"Family of \"+str(N)+ \" tested\")\n",
    "            S.append(0)                                        # Set all populations to 0\n",
    "            E.append(0)\n",
    "            IS.append(0)\n",
    "            IA.append(0)                              \n",
    "            R.append(0)  #<--- Actually I could make all of them recover too, but it doesn't matter here.\n",
    "            t.append(_t -np.log(random.uniform(0.0, 1.0)) / W) # increment time\n",
    "            \n",
    "            break                                              # Stop the loop if family is tested\n",
    "        \n",
    "        elif n_E + n_IA == 0:                         # No one left to infect anyone\n",
    "            break                                     # Stop the loop as no more infections possible\n",
    "\n",
    "            \n",
    "            \n",
    "        w1 = beta * n_S * (C_A * n_IA + C_S * n_IS) / V\n",
    "        w2 = (1-p) * gamma_E * n_E\n",
    "        w3 = p * gamma_E * n_E\n",
    "        w4 = gamma_S * n_IS\n",
    "        w5 = gamma_A * n_IA\n",
    "        W = w1 + w2 + w3 + w4 + w5\n",
    "\n",
    "        dt = -np.log(random.uniform(0.0, 1.0)) / W\n",
    "        _t = _t + dt\n",
    "        \n",
    "        r = random.uniform(0.0, 1.0)\n",
    "        \n",
    "        if r < w1 / W:\n",
    "            n_S = n_S - 1\n",
    "            n_E = n_E + 1\n",
    "        elif r < (w1+w2) / W:\n",
    "            n_E = n_E - 1\n",
    "            n_IS = n_IS + 1\n",
    "        elif r < (w1+w2+w3) / W:\n",
    "            n_E = n_E - 1\n",
    "            n_IA = n_IA + 1    \n",
    "        elif r < (w1+w2+w3+w4) / W:\n",
    "            n_IS = n_IS - 1\n",
    "            n_R = n_R + 1\n",
    "        else:\n",
    "            n_IA = n_IA - 1\n",
    "            n_R = n_R + 1\n",
    "\n",
    "        S.append(n_S)\n",
    "        E.append(n_E)\n",
    "        IS.append(n_IS)\n",
    "        IA.append(n_IA)\n",
    "        R.append(n_R)\n",
    "        t.append(_t)\n",
    "    \n",
    "    return t,np.array(S),np.array(E),np.array(IS), np.array(IA),np.array(R)"
   ]
  },
  {
   "cell_type": "code",
   "execution_count": 8,
   "metadata": {},
   "outputs": [],
   "source": [
    "n_iter = 100000                      # Total iterations per family\n",
    "n_fam  = 21                          # Maximum family size\n",
    "\n",
    "# List of arrays to plot result ######\n",
    "fam_size = [] \n",
    "fam_risk = []\n",
    "fam_mean = []\n",
    "\n",
    "#######################################\n",
    "\n",
    "\n",
    "for i in range(1,n_fam):             # loop over i (the family size)\n",
    "    time_survived = []\n",
    "    no_of_asymp   = []\n",
    "    \n",
    "    for j in range(0,n_iter):        # Run n_iter loops with i as family size\n",
    "        t,S,E,IS,IA,R = Gil(1,i)     # Assuming 1 exposed individual initially\n",
    "        time_survived.append(t[-1])  # Take last element of time array (the time survived)\n",
    "        no_of_asymp.append(IA[-1])   # Take last element of IA (the final number of asymptomatics)\n",
    "\n",
    "    time_survived = np.array(time_survived)\n",
    "    no_of_asymp   = np.array(no_of_asymp)\n",
    "    \n",
    "#     plt.scatter(time_survived,no_of_asymp)\n",
    "#     plt.show()\n",
    "    \n",
    "    non_zero_asymp = no_of_asymp[no_of_asymp!=0]  # Consider only those runs where there are \n",
    "                                                  # non-zero asymptomatics\n",
    "    \n",
    "    fam_size.append(i)                            # Set of family sizes\n",
    "    fam_risk.append(len(non_zero_asymp)/n_iter)   # Total number of asymptomatics per iteration\n",
    "    #fam_mean.append(np.mean(non_zero_asymp))     # Mean number of asymptomatics"
   ]
  },
  {
   "cell_type": "markdown",
   "metadata": {},
   "source": [
    "## Plotting the results\n",
    "\n",
    "#### Total infections in $n_\\text{iter}$ iterations/ $n_\\text{iter}$ vs. family size"
   ]
  },
  {
   "cell_type": "code",
   "execution_count": 9,
   "metadata": {},
   "outputs": [
    {
     "data": {
      "image/png": "[encoded data removed]",
      "text/plain": [
       "<Figure size 432x288 with 1 Axes>"
      ]
     },
     "metadata": {
      "needs_background": "light"
     },
     "output_type": "display_data"
    }
   ],
   "source": [
    "plt.scatter(fam_size,fam_risk)\n",
    "plt.xlabel('Family size')\n",
    "plt.ylabel('Risk')\n",
    "plt.savefig('../images/Asymptomatic_with_testing_Modified_SEIR_1.png')\n",
    "plt.show()"
   ]
  },
  {
   "cell_type": "markdown",
   "metadata": {},
   "source": [
    "#### Average number of (non-zero) asymptomatics in $n_\\text{iter}$ iterations per $n_\\text{iter}$ vs. family size"
   ]
  },
  {
   "cell_type": "code",
   "execution_count": 6,
   "metadata": {},
   "outputs": [],
   "source": [
    "# plt.scatter(fam_size,fam_mean)\n",
    "# plt.xlabel('Family size')\n",
    "# plt.ylabel('Mean number of (non-zero) asymptomatics')\n",
    "# plt.show()"
   ]
  },
  {
   "cell_type": "code",
   "execution_count": null,
   "metadata": {},
   "outputs": [],
   "source": []
  }
 ],
 "metadata": {
  "kernelspec": {
   "display_name": "Python 3",
   "language": "python",
   "name": "python3"
  },
  "language_info": {
   "codemirror_mode": {
    "name": "ipython",
    "version": 3
   },
   "file_extension": ".py",
   "mimetype": "text/x-python",
   "name": "python",
   "nbconvert_exporter": "python",
   "pygments_lexer": "ipython3",
   "version": "3.6.9"
  }
 },
 "nbformat": 4,
 "nbformat_minor": 2
}
