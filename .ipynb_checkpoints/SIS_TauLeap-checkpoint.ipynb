{
 "cells": [
  {
   "cell_type": "code",
   "execution_count": 1,
   "metadata": {},
   "outputs": [],
   "source": [
    "import numpy as np\n",
    "import matplotlib.pyplot as plt"
   ]
  },
  {
   "cell_type": "code",
   "execution_count": null,
   "metadata": {},
   "outputs": [],
   "source": [
    "def SISGil(rate,n0,T):\n",
    "    \n",
    "    n = np.copy(n0)\n",
    "    N = np.sum(n)\n",
    "    change = np.zeros(len(n0),int)\n",
    "    \n",
    "    output = np.append(0,n0)\n",
    "    \n",
    "    t=0.0\n",
    "    \n",
    "    while(t < T):\n",
    "        \n",
    "        a1 = rate[0][1] * n[0] * n[1]\n",
    "        a2 = a1 + rate[1][0] * n[1]\n",
    "        \n",
    "        dt = -np.log( np.random.uniform(0.0,1.0) ) / a2\n",
    "        t += dt\n",
    "        \n",
    "        p = np.random.uniform(0.0,1.0)*a2\n",
    "        \n",
    "        if(p<a1):\n",
    "            n[0] = n[0]-1\n",
    "            n[1] = n[1]+1\n",
    "        \n",
    "        else:\n",
    "            n[0] = n[0]+1\n",
    "            n[1] = n[1]-1\n",
    "    "
   ]
  },
  {
   "cell_type": "code",
   "execution_count": 48,
   "metadata": {},
   "outputs": [],
   "source": [
    "def SISTauLeap(rate, n0, T):\n",
    "    \n",
    "    dt = 1\n",
    "    n = np.copy(n0)\n",
    "    N = np.sum(n)\n",
    "    change = np.zeros(len(n0),int)\n",
    "    \n",
    "    output = np.append(0,n0)\n",
    "    \n",
    "    t=0.0\n",
    "    \n",
    "    while(t < T):\n",
    "        \n",
    "        change[0] = np.random.poisson( rate[0][1] * n[0]* n[1] * dt/N )\n",
    "        change[1] = np.random.poisson( rate[1][0] * n[1] * dt)\n",
    "        \n",
    "        n[0] = n[0] - change[0] + change[1]\n",
    "        n[1] = n[1] + change[0] - change[1]\n",
    "        \n",
    "        t += dt\n",
    "        \n",
    "        output = np.vstack((output, np.append(t,n)))\n",
    "        \n",
    "    \n",
    "    return output\n",
    "    "
   ]
  },
  {
   "cell_type": "code",
   "execution_count": 49,
   "metadata": {},
   "outputs": [],
   "source": [
    "n_states = 2\n",
    "\n",
    "rate_array = np.zeros((n_states,n_states))\n",
    "\n",
    "rate_array[1][0] = 0.1\n",
    "rate_array[0][1] = 0.2\n",
    "\n",
    "test = SISTauLeap(rate_array, [900,100],100)"
   ]
  },
  {
   "cell_type": "code",
   "execution_count": 50,
   "metadata": {},
   "outputs": [
    {
     "data": {
      "text/plain": [
       "[<matplotlib.lines.Line2D at 0x7fc876559b20>]"
      ]
     },
     "execution_count": 50,
     "metadata": {},
     "output_type": "execute_result"
    },
    {
     "data": {
      "image/png": "[encoded data removed]",
      "text/plain": [
       "<Figure size 432x288 with 1 Axes>"
      ]
     },
     "metadata": {
      "needs_background": "light"
     },
     "output_type": "display_data"
    }
   ],
   "source": [
    "plt.plot(test[:,0],test[:,1])\n",
    "plt.plot(test[:,0],test[:,2])"
   ]
  },
  {
   "cell_type": "code",
   "execution_count": null,
   "metadata": {},
   "outputs": [],
   "source": []
  }
 ],
 "metadata": {
  "kernelspec": {
   "display_name": "Python 3",
   "language": "python",
   "name": "python3"
  },
  "language_info": {
   "codemirror_mode": {
    "name": "ipython",
    "version": 3
   },
   "file_extension": ".py",
   "mimetype": "text/x-python",
   "name": "python",
   "nbconvert_exporter": "python",
   "pygments_lexer": "ipython3",
   "version": "3.8.2"
  }
 },
 "nbformat": 4,
 "nbformat_minor": 4
}
