{
 "cells": [
  {
   "cell_type": "code",
   "execution_count": 1,
   "metadata": {},
   "outputs": [],
   "source": [
    "import numpy as np\n",
    "from numpy.random import randint,uniform,choice\n",
    "import matplotlib.pyplot as plt\n",
    "import datetime\n",
    "import time\n",
    "\n",
    "from numba import jit,njit,vectorize"
   ]
  },
  {
   "cell_type": "code",
   "execution_count": null,
   "metadata": {},
   "outputs": [],
   "source": [
    "@vectorize\n",
    "def setval(l,m):\n",
    "    return np.int64(m)\n",
    "\n",
    "@vectorize\n",
    "def randdate(l):\n",
    "    return randint(np.int64(l))\n",
    "\n",
    "@njit\n",
    "def rnd(x, decimals, out):\n",
    "    return np.round_(x, decimals, out)\n",
    "\n",
    "@njit\n",
    "def log_output(lq_tests_conducted, hq_tests_conducted, tests_conducted, results_declared, locations_moved):\n",
    "    \n",
    "    print(\"# LQ Tests Done in total  : \"+str(lq_tests_conducted))\n",
    "    print(\"# HQ Tests Done in total  : \"+str(hq_tests_conducted))\n",
    "    print(\"# ALL Tests Done in total : \"+str(tests_conducted))\n",
    "    print(\"# Results Given in total  : \"+str(results_declared))\n",
    "    print(\"# Locations Moved in total: \"+str(locations_moved))\n",
    "\n",
    "@njit\n",
    "def TLR(rate, Tpars, T, home_loc_state, quarantine_confined, test_frac):\n",
    "    \n",
    "    pop = np.copy(quenched_pop)\n",
    "    n_per_location = np.copy(quenched_n_per_location)\n",
    "    link_weight = np.copy(quenched_link_weight)\n",
    "    n = np.copy(n0)\n",
    "    \n",
    "    is_confined = np.zeros(n_pop,np.bool_)               # Boolean array, is confined? (Initial values, all \"no\".)\n",
    "    being_tested= np.zeros(n_pop,np.bool_)               # Boolean array, is being tested?\n",
    "    loc_confined= np.zeros(n_loc,np.bool_)               # Boolean array, is the location confined? <---NEW\n",
    "\n",
    "    test = Tpars\n",
    "    test_result = np.zeros(n_pop,dtype=np.int64)                # Array to hold results of test (+1 positive, -1 negative)\n",
    "\n",
    "    loc_confined_time = setval(np.zeros(n_loc), -1000)\n",
    "    next_test_date = setval(np.zeros(n_pop), 7)                # Don't conduct a test before this date per person. (Initially all day 0)    \n",
    "    result_declared_date = setval(np.zeros(n_pop),-1000)       # Declare the result of last test on this day (initiall -1000)    \n",
    "    \n",
    "    \n",
    "    tests_conducted    = 0\n",
    "    hq_tests_conducted = 0\n",
    "    lq_tests_conducted = 0\n",
    "    results_declared   = 0\n",
    "    locations_moved    = 0\n",
    "    \n",
    "    t = 0.0\n",
    "    \n",
    "    v = np.array([[-1, 0, 0, 0, 0, 0],              # Array to denote change per state per event\n",
    "                  [ 1,-1,-1, 0, 0, 0],              # The row indexes the state variables, and the\n",
    "                  [ 0, 1, 0,-1,-1, 0],              # column indexes the events. The number represents\n",
    "                  [ 0, 0, 1, 1, 0, 1],\n",
    "                  [ 0, 0, 0, 0, 1,-1]],np.float64)  # the change in that particular state, given an event.\n",
    "\n",
    "    \n",
    "    transitions = np.zeros((n_states,n_states),np.int64)\n",
    "    r = np.zeros(n_events)                          # Empty array to store rates per event\n",
    "    K = np.zeros(n_events,np.float64)               # Empty array to store number of events that occur in dt (Poisson distributed)\n",
    "    \n",
    "    alpha = 1 - Cpars[5]   # Effective reduction in transmissivity of infected individuals (BOTH A and I)\n",
    "    \n",
    "    \n",
    "#     #### TESTS #################################\n",
    "    \n",
    "    tests_available_daily =np.int64(test_frac/100 * n_pop)\n",
    "    tests_available_now   =np.int64(test_frac/100 * n_pop)  # test_frac% of population number of tests available\n",
    "    \n",
    "    lq_tests_daily      =np.int64(test[0][3] * tests_available_daily)\n",
    "    lq_tests_available  =np.int64(test[0][3] * tests_available_daily)\n",
    "    \n",
    "    hq_tests_daily      =np.int64(test[1][3] * tests_available_daily)\n",
    "    hq_tests_available  =np.int64(test[1][3] * tests_available_daily)\n",
    "    \n",
    "    if(lq_tests_daily + hq_tests_daily > tests_available_daily):\n",
    "        print(\"More LQ + HQ tests available than total! Are you sure your test fractions for each test type are correct?\")\n",
    "    \n",
    "    lq_sensitivity = test[0][0]\n",
    "    lq_specificity = test[0][1]\n",
    "    lq_result_delay= test[0][2]\n",
    "    \n",
    "    hq_sensitivity = test[1][0]\n",
    "    hq_specificity = test[1][1]\n",
    "    hq_result_delay= test[1][2]\n",
    "    \n",
    "#     ############################################\n",
    "        \n",
    "    output = np.zeros((np.int64(T+1),9),dtype=np.int64)\n",
    "    \n",
    "    output[0] = np.array([t,n[0],n[1],n[2],n[3],n[4], hq_tests_conducted, lq_tests_conducted, tests_available_now])\n",
    "    \n",
    "    day = np.int64(0)\n",
    "    \n",
    "    op_counter = np.int64(0)\n",
    "    \n",
    "    dot_data = np.zeros((np.int64(4*T/10),n_pop),dtype=np.int64)\n",
    "    \n",
    "    \n",
    "    while(t<T):\n",
    "       \n",
    "        for i in range(0, n_loc):                 # Loop over locations\n",
    "            \n",
    "            indices = np.where(pop[:,3]==i)[0]    # Index in pop of individuals in this location\n",
    "            N = len(indices)\n",
    "            \n",
    "            if(N==0):\n",
    "                continue                           # If no one's in this location, skip this loop\n",
    "            \n",
    "            V = N - alpha*n_per_location[i][4]                                  # Assume one-to-one contact \n",
    "            \n",
    "            conf_by_state_in_loc = np.zeros(n_states,np.int64) # Number of confined individuals by state in location\n",
    "            \n",
    "            if(quarantine_confined == True):       # If you want to reduce infectivity of confined individuals, find out how many there are\n",
    "                conf_state = is_confined[indices]\n",
    "                \n",
    "                for m in range(0,N):               # Change the new \"confined per state location\" numbers\n",
    "                    if(conf_state[m] == True):     # If the person is confined\n",
    "                        conf_by_state_in_loc[pop[indices[m]][0]] += 1\n",
    "                \n",
    "            # This part can be done more efficiently using a matrix, but that's for later\n",
    "            \n",
    "            r[0] = rate[0][1] * n_per_location[i][0] * 1/V * (Cpars[1]*(n_per_location[i][1] - conf_by_state_in_loc[1]*alpha)  + Cpars[2]*(n_per_location[i][2]- conf_by_state_in_loc[2]*alpha) + Cpars[4]*n_per_location[i][4])\n",
    "            r[1] = rate[1][2] * n_per_location[i][1]\n",
    "            r[2] = rate[1][3] * n_per_location[i][1]\n",
    "            r[3] = rate[2][3] * n_per_location[i][2]\n",
    "            r[4] = rate[2][4] * n_per_location[i][2]\n",
    "            r[5] = rate[4][3] * n_per_location[i][4]\n",
    "            \n",
    "            flag = False\n",
    "            counter = 0\n",
    "            \n",
    "            while(flag == False):\n",
    "                for j in range(0,n_events):\n",
    "                    K[j] = np.random.poisson(r[j]*dt)\n",
    "                \n",
    "                transitions[0][1] = K[0]\n",
    "                transitions[1][2] = K[1]\n",
    "                transitions[1][3] = K[2]\n",
    "                transitions[2][3] = K[3]\n",
    "                transitions[2][4] = K[4]\n",
    "                transitions[4][3] = K[5]\n",
    "\n",
    "                n_removed = np.sum(transitions,axis=1) # Number of people ideally needing to be removed\n",
    "\n",
    "                for j in range(0,n_states):\n",
    "                    if( n_per_location[i][j] < n_removed[j] and n_removed[j] != 0):\n",
    "                        y=np.empty_like(transitions[j,:])\n",
    "                        transitions[j,:] = rnd(transitions[j,:]/n_removed[j] * n_per_location[i][j],0,y)\n",
    "\n",
    "                K[0] = transitions[0][1]\n",
    "                K[1] = transitions[1][2]\n",
    "                K[2] = transitions[1][3]\n",
    "                K[3] = transitions[2][3]\n",
    "                K[4] = transitions[2][4]\n",
    "                K[5] = transitions[4][3]\n",
    "\n",
    "                n_per_location[i] +=  rnd(np.dot(v,K),0,np.empty_like(n_per_location[i]))            # Change number per location by Sum_j v_ij K_j \n",
    "                \n",
    "                \n",
    "                if(np.any(n_per_location[i]<0)):\n",
    "                    print(\"Negative populations! Shouldn't be happening!\")\n",
    "                    print(transitions)\n",
    "                    print(n_per_location[i])\n",
    "                    print(\"Rolling back\")\n",
    "                    n_per_location[i] -=  rnd(np.dot(v,K),0,np.empty_like(n_per_location[i]))\n",
    "                    print(n_per_location[i])\n",
    "                    print(\"Trying again...\")\n",
    "                    counter += 1\n",
    "                    \n",
    "                    if counter == 9:                        # Don't let more than 10 retries occur\n",
    "                        print(\"Fatal error: 10 retries didn't get rid of negative populations\")\n",
    "                        break\n",
    "                else:\n",
    "                    flag = True\n",
    "            \n",
    "\n",
    "            if(np.all(transitions==0)):               # Skip this loop if no transitions need to occur\n",
    "                continue\n",
    "            \n",
    "            \n",
    "            done = np.zeros(len(indices),np.bool_)        # Array to make sure same individual isn't shifted more than once \n",
    "            for j in range(0,n_states):\n",
    "                for k in range(0,n_states):\n",
    "                    l=0\n",
    "                    for m in range(0,len(indices)): # Go over everyone in this location\n",
    "                        if(l==transitions[j][k]):\n",
    "                            break\n",
    "\n",
    "                        if(pop[indices[m]][0] == j and not done[m]):  # If they are j\n",
    "                            pop[indices[m]][0] = k    # change them to k\n",
    "                            n[j] -= 1                 # Decrement number of j\n",
    "                            n[k] += 1                 # Increment number of k\n",
    "                            \n",
    "                            if(k==3): # If they recover,\n",
    "                                is_confined[indices[m]] = False # Remove any confinement, and\n",
    "                                \n",
    "                                # Shift them home\n",
    "                                if( pop[indices[m]][3] != pop[indices[m]][1] or pop[indices[m]][3] != pop[indices[m]][2] ):\n",
    "                                    \n",
    "                                    n_per_location[pop[indices[m]][3]][k] -= 1\n",
    "                                    pop[indices[m]][3] = pop[indices[m]][1]   # Send them home\n",
    "                                    n_per_location[pop[indices[m]][3]][k] += 1\n",
    "                                    \n",
    "                            elif(k==4):                 # If they are hospitalised\n",
    "                                h = randint(n_hospitals)\n",
    "                                n_per_location[pop[indices[m]][3]][k] -= 1 # Decrement the number of hospitalised in current (HOME or WORK) location\n",
    "                                \n",
    "                                pop[indices[m]][3] = h # Send them to a random hospital\n",
    "                                n_per_location[pop[indices[m]][3]][k] += 1 # Increment the number of hospitalised (4) in current (hospital) location\n",
    "                                \n",
    "                                is_confined[indices[m]] =  False # Remove confinement   \n",
    "                            \n",
    "                            done[m] = True            # Don't repeat this index\n",
    "                            l += 1\n",
    "\n",
    "        for i in range(0,n_pop): \n",
    "            \n",
    "            #### TESTING ###########################################\n",
    "            \n",
    "            p = test_frac/100 * dt     # Probability of testing someone (random) in time dt\n",
    "            \n",
    "            if (day >= next_test_date[i] and not being_tested[i] \n",
    "                and uniform(0.0,1.0) < p and tests_available_now>0): # Check if person i should be tested\n",
    "                \n",
    "                # If so, perform a test.\n",
    "                being_tested[i]   = True            \n",
    "                tests_conducted += 1\n",
    "                \n",
    "                tests_available_now -= 1                     # Reduce number of tests available\n",
    "                \n",
    "                test_type = choice(np.array([0,1]))                    # Choose HQ or LQ test randomly                \n",
    "               \n",
    "                if(test_type == 0 and lq_tests_available<=0):   # If a LQ test is chosen but no LQ tests available\n",
    "                    test_type = 1                               # Do a HQ test\n",
    "                elif(test_type == 1 and hq_tests_available<=0): # Or if a HQ test is chosen but no HQ tests available\n",
    "                    test_type = 0                               # Do a LQ test\n",
    "                    \n",
    "                    \n",
    "                if(test_type == 0 and lq_tests_available>0):\n",
    "                    \n",
    "                    # Do low quality test    \n",
    "                    lq_tests_conducted += 1\n",
    "                    lq_tests_available -= 1  # Reduce number of LQ tests\n",
    "                    \n",
    "                    next_test_date[i]       = day + days_bw_lq_tests   # Set date for next test\n",
    "                    result_declared_date[i] = day + lq_result_delay # No. of days (from today) to wait to get the result\n",
    "                \n",
    "                    if ((pop[i][0]==1 or pop[i][0]==2) \n",
    "                        and uniform(0.0,1.0)<lq_sensitivity) or ((pop[i][0]==0 or pop[i][0]==3) \n",
    "                                                                    and uniform(0.0,1.0)>lq_specificity): # If the person is infected and the test works \n",
    "                        test_result[i] = 1\n",
    "                    else:\n",
    "                        test_result[i] = -1\n",
    "                    \n",
    "                elif(test_type == 1 and hq_tests_available>0):\n",
    "                    \n",
    "                    # Do high quality test\n",
    "                    hq_tests_conducted += 1\n",
    "                    hq_tests_available -= 1  # Reduce number of HQ tests\n",
    "                    \n",
    "                    next_test_date[i]       = day + days_bw_hq_tests  # Set date for next test\n",
    "                    result_declared_date[i] = day + hq_result_delay   # No of days (from today) to wait to get the result\n",
    "                    \n",
    "                    if ((pop[i][0]==1 or pop[i][0]==2) \n",
    "                        and uniform(0.0,1.0)<hq_sensitivity) or ((pop[i][0]==0 or pop[i][0]==3) \n",
    "                                                                    and uniform(0.0,1.0)>hq_specificity): # If the person is infected and the test works \n",
    "                        test_result[i] = 1\n",
    "                    else:\n",
    "                        test_result[i] = -1\n",
    "                        \n",
    "            #### DONE TESTING ######################################\n",
    "            \n",
    "            #### DECLARING RESULTS #################################\n",
    "            \n",
    "            if (day == result_declared_date[i] and being_tested[i]):  # Should we declare the person's results?\n",
    "                \n",
    "                # If so, set them to not being_tested\n",
    "                being_tested[i] = False\n",
    "                results_declared += 1\n",
    "                \n",
    "                # Declare results\n",
    "                \n",
    "                if (test_result[i] == 1 and pop[i][0]!=4):             # If they tested positive AND are now not in a hospital\n",
    "                    \n",
    "                    is_confined[i] = True                              # Confine them \n",
    "                    \n",
    "                    n_per_location[pop[i][3]][pop[i][0]] -= 1          # Decrement number of person's state in current (NET or HOME) location of person\n",
    "                    \n",
    "                    if(pop[i][3] == pop[i][2]):                        # If they're at work\n",
    "                        pop[i][3] = pop[i][1]                          # send them home\n",
    "                    \n",
    "                    n_per_location[pop[i][3]][pop[i][0]] += 1          # Increment number of person's state in current location (now HOME) of person\n",
    "\n",
    "                    loc_confined[pop[i][1]] = home_loc_state           # Confine their home location for total_loc_confined_time (?) days\n",
    "                    loc_confined_time[pop[i][1]] = t                   # Time when location is confined\n",
    "\n",
    "                elif(test_result[i] == -1 or pop[i][0] == 4):          # If the test result is negative OR if the person's moved to the hospital\n",
    "                    \n",
    "                    is_confined[i] = False                             # If result is negative, let them move about\n",
    "        \n",
    "                test_result[i] = 0                                     # Set test_result back to 0      \n",
    "            \n",
    "            #### DONE DECLARING RESULTS ############################\n",
    "            \n",
    "            #### MOVE PEOPLE AROUND ################################  \n",
    "        \n",
    "            if (not is_confined[i] and not loc_confined[pop[i][3]]):  # If they aren't confined AND their CURRENT location isn't confined\n",
    "\n",
    "                locs_changed = np.random.poisson( link_weight[i]*dt ) % 2 # Net number of locations changed in time dt. \n",
    "                                                                          # (An even number means you get back to where you were)\n",
    "                \n",
    "                locations_moved += locs_changed\n",
    "                \n",
    "                if(locs_changed==1):\n",
    "                    home_loc = pop[i][1]\n",
    "                    net_loc  = pop[i][2]\n",
    "\n",
    "                    if(pop[i][3]==home_loc):                       # If the person is at home\n",
    "                        pop[i][3] = net_loc                        # move them to their network location\n",
    "                        \n",
    "                        n_per_location[home_loc][pop[i][0]] -= 1   # Reduce number of individual's state at home\n",
    "                        n_per_location[ net_loc][pop[i][0]] += 1   # Increase number of individual's state at work\n",
    "                    \n",
    "                    elif(pop[i][3]==net_loc):\n",
    "                        pop[i][3] = home_loc                       # otherwise move them home\n",
    "                        \n",
    "                        n_per_location[ net_loc][pop[i][0]] -= 1   # Reduce number of individual's state at work\n",
    "                        n_per_location[home_loc][pop[i][0]] += 1   # Increase number of individual's state at home\n",
    "\n",
    "                   # If they're in any other location, keep them there.\n",
    "    \n",
    "        # Lock or unlock homes\n",
    "        \n",
    "        for i in range(0,n_loc):\n",
    "            if(loc_confined[i]==True and t - loc_confined_time[i] > total_loc_confined_time):  # If the current time - the time it was last confined is > 10 days\n",
    "                loc_confined_time[i] = -1000                        \n",
    "                loc_confined[i] = False                             # Remove confinement restriction\n",
    "        \n",
    "        \n",
    "        if(t>day):\n",
    "            day += 1\n",
    "            output[day] = np.array([day,n[0],n[1],n[2],n[3],n[4], hq_tests_conducted, lq_tests_conducted, tests_available_now])\n",
    "            tests_available_now = tests_available_daily\n",
    "            lq_tests_available  = lq_tests_daily\n",
    "            hq_tests_available  = hq_tests_daily\n",
    "#             print(day)\n",
    "\n",
    "            if(day%10==0):\n",
    "                dot_data[op_counter:op_counter+4] = np.copy(np.transpose(pop))\n",
    "                op_counter+=4\n",
    "        \n",
    "        t += dt\n",
    "        # while loop ends\n",
    "    \n",
    "    # Counting recovered Healthcare Workers    \n",
    "    hcw_recovered = 0\n",
    "    for i in range(0, n_pop):  \n",
    "        if(pop[i][2]<n_hospitals and pop[i][0] == 3): # If a healthcare worker is recovered\n",
    "            hcw_recovered += 1\n",
    "    \n",
    "    return dot_data, output, test, np.array([home_loc_state,quarantine_confined,test_frac, lq_tests_conducted, hq_tests_conducted, tests_conducted, results_declared, locations_moved, hcw_recovered])"
   ]
  },
  {
   "cell_type": "code",
   "execution_count": null,
   "metadata": {},
   "outputs": [],
   "source": [
    "\n",
    "def write_to_file(output, test, details, rate_to_print,eval_time):\n",
    "#     ### WRITE OUTPUT TO FILE #####################\n",
    "    \n",
    "    date = datetime.datetime.now()\n",
    "    dateString = date.strftime(\"%y%m%d%H%M%S%f\")\n",
    "    \n",
    "    fileName = \"../data/RandomTesting/Random_Testing_\"+str(round(details[2],2))+\"_RAT_\"+str(round(test[0][0],2))+\"_\"+str(round(test[0][3],2))+\"_PCR_\"+str(round(test[1][0],2))+\"_\"+str(round(test[1][3],2))+\"_\"+dateString+\".txt\"\n",
    "    \n",
    "    def int_to_bool(bstate):\n",
    "        if(bstate == 0):\n",
    "            return False\n",
    "        elif(bstate == 1):\n",
    "            return True\n",
    "    \n",
    "    with open(fileName, \"a\") as file:\n",
    "        file.write(\"###### TEST LOG ####################\\n\")\n",
    "        file.write(\"# Time taken               : \"+str(round(eval_time,2))+\"s \\n\")\n",
    "        \n",
    "        file.write(\"# Test Parameters: \\n\")\n",
    "        file.write(\"# \"+str(test[0][0])+\" \"+str(test[0][1])+\" \"+str(test[0][2])+\" \"+str(test[0][3])+\"\\n\")\n",
    "        file.write(\"# \"+str(test[1][0])+\" \"+str(test[1][1])+\" \"+str(test[1][2])+\" \"+str(test[1][3])+\"\\n\")\n",
    "        file.write(\"# Homes Quarantined?       : \"+ str(int_to_bool(details[0]))+\"\\n\")\n",
    "        file.write(\"# Confined less Infective? : \"+ str(int_to_bool(details[1]))+\"\\n\")\n",
    "        file.write(\"# Fraction Tested Daily    : \"+ str(details[2])+\"\\n\")\n",
    "        \n",
    "        file.write(\"# LQ Tests Done in total   : \"+str(details[3])+\"\\n\")\n",
    "        file.write(\"# HQ Tests Done in total   : \"+str(details[4])+\"\\n\")\n",
    "        file.write(\"# ALL Tests Done in total  : \"+str(details[5])+\"\\n\")\n",
    "        file.write(\"# Results Given in total   : \"+str(details[6])+\"\\n\")\n",
    "        file.write(\"# Locations Moved in total : \"+str(details[7])+\"\\n\")\n",
    "        file.write(\"# Total recovered HCW      : \"+str(details[8])+\"\\n\")\n",
    "        \n",
    "        file.write(\"# Rate Array: \\n\")\n",
    "        file.write(\"# \"+str(rate_to_print[0])+\"\\n\")\n",
    "        file.write(\"# \"+str(rate_to_print[1])+\"\\n\")\n",
    "        file.write(\"# \"+str(rate_to_print[2])+\"\\n\")\n",
    "        file.write(\"# \"+str(rate_to_print[3])+\"\\n\")\n",
    "        file.write(\"# \"+str(rate_to_print[4])+\"\\n\")\n",
    "        file.write(\"###### END LOG #####################\\n\")\n",
    "        file.write(\"#\\n\")\n",
    "        \n",
    "        np.savetxt(file, output, delimiter=\" \",fmt=\"%i\")"
   ]
  },
  {
   "cell_type": "code",
   "execution_count": 2,
   "metadata": {},
   "outputs": [],
   "source": [
    "# IMPORT POPULATION #######################\n",
    "\n",
    "quenched_pop            = np.genfromtxt('./quenched_pop.txt', delimiter=' ',dtype=int,comments=\"#\")\n",
    "quenched_n_per_location = np.genfromtxt('./quenched_n_per_location.txt', delimiter=' ',dtype=int,comments=\"#\")\n",
    "quenched_link_weight    = np.genfromtxt('./quenched_linkweight.txt', delimiter=' ',dtype=int,comments=\"#\")\n",
    "\n",
    "###########################################\n",
    "\n",
    "Tpars  = np.array([[0.74, 0.98, 0, 0],          # Low quality: sensitivity, specificity, result delay, Fraction of tests\n",
    "                   [1.0, 1, 0, 1]])         # High quality: sentitivity, specificity, result delay, Fraction of tests\n",
    "\n",
    "tf=120"
   ]
  },
  {
   "cell_type": "code",
   "execution_count": null,
   "metadata": {},
   "outputs": [],
   "source": [
    "%%time\n",
    "\n",
    "from params import *\n",
    "\n",
    "rate = np.copy(rate_array)\n",
    "\n",
    "# dotd1,op1,test,details = TLR(rate, Tpars, tf, True, True, 0)\n",
    "# writing(dotd1,0)\n",
    "             \n",
    "dotd5,op5,test,details = TLR(rate, Tpars, tf, True, True, 5)\n",
    "writing(dotd5,5)"
   ]
  },
  {
   "cell_type": "code",
   "execution_count": null,
   "metadata": {},
   "outputs": [],
   "source": [
    "# writing(dotd1,0)\n",
    "writing(dotd5,5)"
   ]
  },
  {
   "cell_type": "code",
   "execution_count": null,
   "metadata": {},
   "outputs": [],
   "source": [
    "ender = np.empty(n_loc+1,dtype=object)\n",
    "for i in range(0,n_loc):\n",
    "    if(0<=i<n_hospitals):\n",
    "        ender[i] = str(i)+\" [color=\\\"#aa0044\\\"];\"\n",
    "    elif(n_hospitals<=i<n_overlap-1):\n",
    "        ender[i] = str(i)+\" [color=\\\"#000000e6\\\"];\"\n",
    "    elif(n_overlap-1<=i<n_loc):\n",
    "        ender[i] = str(i)+\" [color=\\\"#b3b3b3\\\"];\"\n",
    "ender[n_loc]=\"}\""
   ]
  },
  {
   "cell_type": "code",
   "execution_count": null,
   "metadata": {},
   "outputs": [],
   "source": [
    "print(ender)"
   ]
  },
  {
   "cell_type": "code",
   "execution_count": null,
   "metadata": {},
   "outputs": [],
   "source": [
    "def writing(dd,trate):\n",
    "    #clrs = np.array([\"\\\"#005500\\\"\",\"\\\"#808000\\\"\",\"\\\"#800000\\\"\",\"\\\"#6c5353\\\"\",\"\\\"#216778\\\"\"])\n",
    "    clrs = np.array([\"\\\"#ffcb001a\\\"\",\"\\\"#a0892c\\\"\",\"\\\"#800000\\\"\",\"\\\"#5fd35f59\\\"\",\"\\\"#5555ff\\\"\"])\n",
    "    cc = 0\n",
    "\n",
    "    something = np.empty((n_pop,4),dtype=object)\n",
    "    cs =[\"[color=\"]*n_pop\n",
    "    cend = [\"];\"]*n_pop\n",
    "    mid = [\"--\"]*n_pop\n",
    "\n",
    "    # ender = np.empty((n_loc,2),dtype=object)\n",
    "\n",
    "    for i in range(0,int(tf/10)):\n",
    "        with open(\"./For Network Visualisation/\"+str(trate)+\"/random_network_test_rate_\"+str(trate)+\"_day_\"+str(i*10)+\".dot\",'ab') as f:\n",
    "            np.savetxt(f,[\"graph location_network {\\ngraph [overlap=prism1000 outputorder=edgesfirst];\\n node [shape=point];\\n\"],fmt=\"%s\")\n",
    "            something[:,0] = dd[cc:cc+4][1]\n",
    "            something[:,1] = mid\n",
    "            something[:,2] = dd[cc:cc+4][2]\n",
    "            hexcol = clrs[dd[cc:cc+4][0]]\n",
    "\n",
    "            something[:,3] = np.char.add(np.char.add(cs,hexcol),cend)\n",
    "\n",
    "            np.savetxt(f,something,delimiter=\" \",fmt=\"%s\")\n",
    "            np.savetxt(f,ender,delimiter=\" \",fmt=\"%s\")\n",
    "        cc = cc+4\n"
   ]
  },
  {
   "cell_type": "code",
   "execution_count": null,
   "metadata": {},
   "outputs": [],
   "source": [
    "print(ender)"
   ]
  },
  {
   "cell_type": "code",
   "execution_count": null,
   "metadata": {},
   "outputs": [],
   "source": [
    "np.char.add(clrs[dd[0:4][0]],clrs[dd[0:4][0]])"
   ]
  },
  {
   "cell_type": "code",
   "execution_count": null,
   "metadata": {},
   "outputs": [],
   "source": [
    "str(dd[8:10][1])"
   ]
  },
  {
   "cell_type": "code",
   "execution_count": null,
   "metadata": {},
   "outputs": [],
   "source": [
    "print(ender)"
   ]
  },
  {
   "cell_type": "code",
   "execution_count": null,
   "metadata": {},
   "outputs": [],
   "source": [
    "num_rec = []\n",
    "\n",
    "for i in range(0,10):\n",
    "    dd,op,test,details = TLR(rate, Tpars, tf, True, True, 0)\n",
    "    num_rec.append(op[:,4])\n"
   ]
  },
  {
   "cell_type": "code",
   "execution_count": null,
   "metadata": {},
   "outputs": [],
   "source": [
    "for i in range(0,10):\n",
    "    plt.plot(np.linspace(0,120,121),num_rec[i],'--',color='mediumvioletred',alpha=0.6)\n",
    "\n",
    "plt.plot(np.linspace(0,120,121),np.average(num_rec,axis=0),color='firebrick')\n",
    "plt.xlabel(\"Time (Days)\")\n",
    "plt.ylabel(\"Number of individuals\")"
   ]
  },
  {
   "cell_type": "code",
   "execution_count": null,
   "metadata": {},
   "outputs": [],
   "source": []
  },
  {
   "cell_type": "code",
   "execution_count": 85,
   "metadata": {},
   "outputs": [
    {
     "ename": "NameError",
     "evalue": "name 'num_rec' is not defined",
     "output_type": "error",
     "traceback": [
      "\u001b[0;31m---------------------------------------------------------------------------\u001b[0m",
      "\u001b[0;31mNameError\u001b[0m                                 Traceback (most recent call last)",
      "\u001b[0;32m<ipython-input-85-d5b2f24ce364>\u001b[0m in \u001b[0;36m<module>\u001b[0;34m\u001b[0m\n\u001b[0;32m----> 1\u001b[0;31m \u001b[0mnp\u001b[0m\u001b[0;34m.\u001b[0m\u001b[0maverage\u001b[0m\u001b[0;34m(\u001b[0m\u001b[0mnum_rec\u001b[0m\u001b[0;34m,\u001b[0m\u001b[0maxis\u001b[0m\u001b[0;34m=\u001b[0m\u001b[0;36m0\u001b[0m\u001b[0;34m)\u001b[0m\u001b[0;34m[\u001b[0m\u001b[0;34m-\u001b[0m\u001b[0;36m1\u001b[0m\u001b[0;34m]\u001b[0m\u001b[0;34m\u001b[0m\u001b[0;34m\u001b[0m\u001b[0m\n\u001b[0m",
      "\u001b[0;31mNameError\u001b[0m: name 'num_rec' is not defined"
     ]
    }
   ],
   "source": [
    "np.average(num_rec,axis=0)[-1]"
   ]
  },
  {
   "cell_type": "code",
   "execution_count": 54,
   "metadata": {},
   "outputs": [],
   "source": [
    "n_p = np.sum(quenched_n_per_location,axis=1)[250:2750]"
   ]
  },
  {
   "cell_type": "code",
   "execution_count": 118,
   "metadata": {},
   "outputs": [
    {
     "name": "stdout",
     "output_type": "stream",
     "text": [
      "41\n"
     ]
    },
    {
     "data": {
      "text/plain": [
       "45.8"
      ]
     },
     "execution_count": 118,
     "metadata": {},
     "output_type": "execute_result"
    }
   ],
   "source": [
    "print(np.count_nonzero(np.where(n_p==0)))\n"
   ]
  },
  {
   "cell_type": "code",
   "execution_count": 125,
   "metadata": {},
   "outputs": [
    {
     "data": {
      "image/png": "[encoded data removed]",
      "text/plain": [
       "<Figure size 432x288 with 1 Axes>"
      ]
     },
     "metadata": {
      "needs_background": "light"
     },
     "output_type": "display_data"
    }
   ],
   "source": [
    "\n",
    "plt.hist(n_p,bins=100,label=\"Population Data\",color='steelblue')\n",
    "l=4\n",
    "k_array = np.arange(0,15,1)\n",
    "pdis = np.zeros(len(k_array))\n",
    "\n",
    "for k in k_array:\n",
    "    \n",
    "    pdis[k] = 2500*l**k * np.exp(-l)/np.math.factorial(k)\n",
    "\n",
    "    \n",
    "plt.plot(k_array,pdis,'-o',label=\"Poisson Distribution, $\\lambda=4$\",color='tomato')\n",
    "plt.xlabel(\"Number of people per home\")\n",
    "plt.ylabel(\"Number of homes\")\n",
    "plt.legend()\n",
    "\n",
    "plt.savefig(\"./poisson_distribution_of_home_sizes.png\",dpi=100,facecolor='w')\n"
   ]
  },
  {
   "cell_type": "code",
   "execution_count": 99,
   "metadata": {},
   "outputs": [
    {
     "name": "stdout",
     "output_type": "stream",
     "text": [
      "[249 360 470 886 260 136 113  19   4   3]\n",
      "[ 0.   1.3  2.6  3.9  5.2  6.5  7.8  9.1 10.4 11.7 13. ]\n"
     ]
    }
   ],
   "source": [
    "hh,bb=np.histogram(n_p)\n",
    "print(hh)\n",
    "print(bb)"
   ]
  },
  {
   "cell_type": "code",
   "execution_count": 100,
   "metadata": {},
   "outputs": [
    {
     "data": {
      "text/plain": [
       "[<matplotlib.lines.Line2D at 0x7fde25ade250>]"
      ]
     },
     "execution_count": 100,
     "metadata": {},
     "output_type": "execute_result"
    },
    {
     "data": {
      "image/png": "[encoded data removed]",
      "text/plain": [
       "<Figure size 432x288 with 1 Axes>"
      ]
     },
     "metadata": {
      "needs_background": "light"
     },
     "output_type": "display_data"
    }
   ],
   "source": [
    "plt.bar(bb[1:],hh)\n",
    "plt.plot(k_array,pdis)"
   ]
  },
  {
   "cell_type": "code",
   "execution_count": 102,
   "metadata": {},
   "outputs": [
    {
     "data": {
      "text/plain": [
       "(array([0.06307692, 0.        , 0.        , 0.32      , 0.        ,\n",
       "        0.        , 0.        , 0.55384615, 0.        , 0.        ,\n",
       "        0.        , 0.72307692, 0.        , 0.        , 0.        ,\n",
       "        0.75230769, 0.        , 0.        , 0.        , 0.61076923,\n",
       "        0.        , 0.        , 0.        , 0.4       , 0.        ,\n",
       "        0.        , 0.20923077, 0.        , 0.        , 0.        ,\n",
       "        0.12153846, 0.        , 0.        , 0.        , 0.05230769,\n",
       "        0.        , 0.        , 0.        , 0.02923077, 0.        ,\n",
       "        0.        , 0.        , 0.00615385, 0.        , 0.        ,\n",
       "        0.        , 0.00307692, 0.        , 0.        , 0.00153846]),\n",
       " array([ 0.  ,  0.26,  0.52,  0.78,  1.04,  1.3 ,  1.56,  1.82,  2.08,\n",
       "         2.34,  2.6 ,  2.86,  3.12,  3.38,  3.64,  3.9 ,  4.16,  4.42,\n",
       "         4.68,  4.94,  5.2 ,  5.46,  5.72,  5.98,  6.24,  6.5 ,  6.76,\n",
       "         7.02,  7.28,  7.54,  7.8 ,  8.06,  8.32,  8.58,  8.84,  9.1 ,\n",
       "         9.36,  9.62,  9.88, 10.14, 10.4 , 10.66, 10.92, 11.18, 11.44,\n",
       "        11.7 , 11.96, 12.22, 12.48, 12.74, 13.  ]),\n",
       " <BarContainer object of 50 artists>)"
      ]
     },
     "execution_count": 102,
     "metadata": {},
     "output_type": "execute_result"
    },
    {
     "data": {
      "image/png": "[encoded data removed]",
      "text/plain": [
       "<Figure size 432x288 with 1 Axes>"
      ]
     },
     "metadata": {
      "needs_background": "light"
     },
     "output_type": "display_data"
    }
   ],
   "source": [
    "plt.hist(n_p,bins=50,label=\"Population Data\",color='navy',density=True)"
   ]
  },
  {
   "cell_type": "code",
   "execution_count": 108,
   "metadata": {},
   "outputs": [
    {
     "data": {
      "text/plain": [
       "500.0"
      ]
     },
     "execution_count": 108,
     "metadata": {},
     "output_type": "execute_result"
    }
   ],
   "source": [
    "0.2*2500"
   ]
  },
  {
   "cell_type": "code",
   "execution_count": null,
   "metadata": {},
   "outputs": [],
   "source": []
  }
 ],
 "metadata": {
  "kernelspec": {
   "display_name": "Python 3",
   "language": "python",
   "name": "python3"
  },
  "language_info": {
   "codemirror_mode": {
    "name": "ipython",
    "version": 3
   },
   "file_extension": ".py",
   "mimetype": "text/x-python",
   "name": "python",
   "nbconvert_exporter": "python",
   "pygments_lexer": "ipython3",
   "version": "3.8.2"
  }
 },
 "nbformat": 4,
 "nbformat_minor": 4
}
