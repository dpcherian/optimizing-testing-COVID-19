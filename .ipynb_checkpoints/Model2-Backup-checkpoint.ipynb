{
 "cells": [
  {
   "cell_type": "code",
   "execution_count": 2,
   "metadata": {},
   "outputs": [],
   "source": [
    "import numpy as np\n",
    "from scipy.integrate import odeint\n",
    "import matplotlib.pyplot as plt\n",
    "from datetime import datetime\n",
    "from matplotlib import dates as pltdates"
   ]
  },
  {
   "cell_type": "code",
   "execution_count": 3,
   "metadata": {},
   "outputs": [],
   "source": [
    "airlineCode, airlineID, source, sourceID, destination, destinationID, codeshare, stops, equipment = np.loadtxt(\"../data/routes.csv\",delimiter=\",\",unpack=True,dtype='U',encoding='utf8')\n",
    "\n",
    "ap_city,ap_country,iata,icao = np.loadtxt(\"../data/airports.csv\",delimiter=\",\",usecols=[2,3,4,5],unpack=True,dtype='U',encoding='utf8')\n",
    "\n",
    "ind_airports_iata = iata[(ap_country==\"India\")]  # List of all Indian airports\n",
    "\n",
    "# Some extra commas are causing trouble, should fix it\n",
    "ind_airports_iata = np.array([w.replace('\"', '') for w in ind_airports_iata])\n",
    "ap_city = np.array([w.replace('\"', '') for w in ap_city])\n",
    "ap_country = np.array([w.replace('\"', '') for w in ap_country])\n",
    "iata = np.array([w.replace('\"', '') for w in iata])\n",
    "icao = np.array([w.replace('\"', '') for w in icao])\n",
    "\n",
    "list_iap = [] ## List of Indian Airports\n",
    "\n",
    "for i in range(0,len(ind_airports_iata)):\n",
    "    if(ind_airports_iata[i]!=\"\\\\N\"):\n",
    "        list_iap.append(ind_airports_iata[i])\n",
    "\n",
    "\n",
    "list_fap = []\n",
    "\n",
    "for i in range(0,len(list_iap)):\n",
    "    all_origins = source[(destination==list_iap[i])] # Find all flights to an Indian airport i\n",
    "    \n",
    "    temp_list=[]\n",
    "    for o in all_origins:\n",
    "        if (o not in list_iap):\n",
    "            temp_list.append(o)\n",
    "    \n",
    "    list_fap.append(temp_list)\n",
    "\n",
    "list_fc = []\n",
    "\n",
    "for i in range(0,len(list_fap)):\n",
    "    temp_list=[]\n",
    "    for j in range(0,len(list_fap[i])):\n",
    "        temp_name = ap_country[np.where(iata==list_fap[i][j])]\n",
    "        if(len(temp_name)== 0):\n",
    "            print(\"Airport with code\" + list_fap[i][j] + \" not found!\")\n",
    "        else:\n",
    "            temp_list.append(temp_name[0])\n",
    "    list_fc.append(temp_list)\n",
    "\n",
    "    \n",
    "## Collect the country-wise ban data\n",
    "\n",
    "ban_country, ban_date = np.loadtxt(\"../data/ban_data.csv\",delimiter=\",\",usecols=[0,1],unpack=True,dtype='U',encoding='utf8')\n",
    "\n",
    "# ### Today's date ###\n",
    "\n",
    "# today = datetime.now().strftime(\"%Y\")+now.strftime(\"%m\")+now.strftime(\"%d\")\n",
    "\n",
    "# print(today)\n",
    "\n",
    "ppl_per_flt = 200\n",
    "\n",
    "def Dij(fcs,t):\n",
    "    temp_list = []\n",
    "    for j in range(0,len(fcs)):\n",
    "        if(fcs[j]==\"Hong Kong\"):\n",
    "            ctry = \"China\"\n",
    "        elif(fcs[j]==\"Yemen\" or fcs[j]==\"Burma\"  or fcs[j]==\"Turkmenistan\" or fcs[j]==\"Tajikistan\" or fcs[j]==\"Reunion\"):\n",
    "            ctry = \"Other\"\n",
    "        else:\n",
    "            ctry = fcs[j]\n",
    "        \n",
    "        ctry_ind = np.where(ban_country==ctry)\n",
    "        #print(ctry)\n",
    "\n",
    "        if(len(ctry_ind[0])==0):\n",
    "            print(\"Country \" + ctry + \" not found.\")\n",
    "            temp_list.append(\"-\")\n",
    "        else:\n",
    "            index = ctry_ind[0][0]\n",
    "            #temp_list.append(ban_date[index])\n",
    "            #print(int(ban_date[index]))\n",
    "            \n",
    "            if(int(ban_date[index])<t):\n",
    "                temp_list.append(int(ppl_per_flt))\n",
    "            else:\n",
    "                temp_list.append(int(0))\n",
    "    \n",
    "    return np.array(temp_list)\n",
    "        \n",
    "\n",
    "## Collect the day-wise confirmed cases data\n",
    "\n",
    "# Finding total number of columns N\n",
    "\n",
    "with open(\"../data/infected_data.csv\", 'rb') as f:\n",
    "    line = next(f) # read 1 line\n",
    "    N = len(line.split(b','))\n",
    "\n",
    "#######\n",
    "\n",
    "\n",
    "dates = np.loadtxt(\"../data/infected_data.csv\",delimiter=\",\",usecols=np.arange(1,N-1),unpack=True,dtype='int64')[:,0]\n",
    "countries = np.loadtxt(\"../data/infected_data.csv\",delimiter=\",\",skiprows=1,usecols=(0),unpack=True,dtype='U')\n",
    "countrywise_infected = np.loadtxt(\"../data/infected_data.csv\",delimiter=\",\",skiprows=1,usecols=np.arange(1,N-1),unpack=True,dtype='U')\n",
    "\n",
    "pop_country, pop_travelling = np.loadtxt(\"../data/pop_data.csv\",delimiter=\",\",usecols=(0,1),unpack=True,dtype='U')\n",
    "\n",
    "def pj(fcs, t):\n",
    "    temp_list = []\n",
    "    \n",
    "    try:\n",
    "        col = np.where(dates==t)[0][0]\n",
    "        \n",
    "        for j in range(0,len(fcs)):\n",
    "            if(fcs[j]==\"Hong Kong\"):\n",
    "                ctry = \"China\"\n",
    "            elif(fcs[j]==\"Yemen\" or fcs[j]==\"Burma\" or fcs[j]==\"Turkmenistan\"or fcs[j]==\"Tajikistan\" or fcs[j]==\"Maldives\"  or fcs[j]==\"Reunion\"):\n",
    "                ctry = \"Other\"\n",
    "            else:\n",
    "                ctry = fcs[j]\n",
    "        \n",
    "            try:\n",
    "                \n",
    "                row = np.where(countries==ctry)[0][0]\n",
    "                \n",
    "                total_pop_index = np.where(pop_country==ctry)[0][0]\n",
    "                total_pop = float(pop_travelling[total_pop_index])\n",
    "                #print(total_pop)\n",
    "                \n",
    "                temp_list.append(float(countrywise_infected[col][row])/total_pop)\n",
    "            except IndexError:\n",
    "                print(\"Country \" + ctry + \" not found!\")\n",
    "            \n",
    "    except IndexError:\n",
    "        print(\"Date invalid!\")\n",
    "    \n",
    "    return np.array(temp_list)\n",
    "\n",
    "\n",
    "### Defining the detection probability at Indian airports\n",
    "\n",
    "def q(t):\n",
    "    if(t<=20200131):\n",
    "        return 0                # Detection probability in Jan\n",
    "    elif(20200131<t<=20200229):\n",
    "        return 0.25             # Detection probability in Feb\n",
    "    elif(20200229<t<=20200331):\n",
    "        return 0.50             # Detection probability in Feb\n",
    "    \n",
    "\n",
    "inf_at_t = []\n",
    "\n",
    "for t in dates:\n",
    "    ans = 0.0\n",
    "    for i in range(0,len(list_fc)):\n",
    "        if(len(list_fc[i])==0):\n",
    "            ans = ans + 0\n",
    "        else:\n",
    "            Dijpj = np.sum(Dij(list_fc[i],t)*pj(list_fc[i],t))\n",
    "            ans = ans+Dijpj\n",
    "            \n",
    "    inf_at_t.append(ans*(1-q(t)))\n",
    "\n",
    "#print(inf_at_t)\n",
    "        "
   ]
  },
  {
   "cell_type": "code",
   "execution_count": 4,
   "metadata": {
    "scrolled": true
   },
   "outputs": [
    {
     "data": {
      "image/png": "[encoded data removed]",
      "text/plain": [
       "<Figure size 432x288 with 1 Axes>"
      ]
     },
     "metadata": {
      "needs_background": "light"
     },
     "output_type": "display_data"
    }
   ],
   "source": [
    "datelist=[]\n",
    "\n",
    "for d in dates:\n",
    "    datelist.append(str(d))\n",
    "\n",
    "converted_dates = list(map(datetime.strptime, datelist, len(datelist)*['%Y%m%d']))\n",
    "x_axis = converted_dates\n",
    "formatter = pltdates.DateFormatter('%Y%m%d')\n",
    "\n",
    "y_axis = inf_at_t\n",
    "\n",
    "plt.plot(x_axis,y_axis,linestyle='--')\n",
    "plt.scatter(x_axis,y_axis)\n",
    "\n",
    "\n",
    "ax = plt.gcf().axes[0] \n",
    "ax.xaxis.set_major_formatter(formatter)\n",
    "plt.gcf().autofmt_xdate(rotation=25)\n",
    "plt.show()"
   ]
  },
  {
   "cell_type": "code",
   "execution_count": 6,
   "metadata": {},
   "outputs": [],
   "source": [
    "def SIR(inf):\n",
    "    # Total population, N.\n",
    "    N = 2e9\n",
    "    # Initial number of infected and recovered individuals, I0 and R0.\n",
    "    I0, R0 = inf, 0\n",
    "    # Everyone else, S0, is susceptible to infection initially.\n",
    "    S0 = N - I0 - R0\n",
    "    # Contact rate, beta, and mean recovery rate, gamma, (in 1/days).\n",
    "    beta, gamma = 2.4/20, 1./20 \n",
    "    # A grid of time points (in days)\n",
    "    t = np.linspace(0, 500, 500)\n",
    "\n",
    "    # The SIR model differential equations.\n",
    "    def deriv(y, t, N, beta, gamma):\n",
    "        S, I, R = y\n",
    "        dSdt = -beta * S * I / N\n",
    "        dIdt = beta * S * I / N - gamma * I\n",
    "        dRdt = gamma * I\n",
    "        return dSdt, dIdt, dRdt\n",
    "\n",
    "    # Initial conditions vector\n",
    "    y0 = S0, I0, R0\n",
    "    # Integrate the SIR equations over the time grid, t.\n",
    "    ret = odeint(deriv, y0, t, args=(N, beta, gamma))\n",
    "    S, I, R = ret.T\n",
    "\n",
    "    return S/N,I/N,R/N,t"
   ]
  },
  {
   "cell_type": "code",
   "execution_count": 12,
   "metadata": {},
   "outputs": [
    {
     "name": "stderr",
     "output_type": "stream",
     "text": [
      "No handles with labels found to put in legend.\n"
     ]
    },
    {
     "name": "stdout",
     "output_type": "stream",
     "text": [
      "59\n"
     ]
    },
    {
     "data": {
      "image/png": "[encoded data removed]",
      "text/plain": [
       "<Figure size 432x288 with 1 Axes>"
      ]
     },
     "metadata": {},
     "output_type": "display_data"
    }
   ],
   "source": [
    "# Plot the data on three separate curves for S(t), I(t) and R(t)\n",
    "fig = plt.figure(facecolor='w')\n",
    "\n",
    "ax = fig.add_subplot(111, facecolor='#dddddd', axisbelow=True)\n",
    "ax.set_xlabel('Time /days')\n",
    "ax.set_ylabel('Number (fraction of $N$)')\n",
    "#ax.set_ylim(0,3.2)#ax.set_ylim(0,1.2)\n",
    "ax.yaxis.set_tick_params(length=0)\n",
    "ax.xaxis.set_tick_params(length=0)\n",
    "ax.grid(b=True, which='major', c='w', lw=2, ls='-')\n",
    "legend = ax.legend()\n",
    "legend.get_frame().set_alpha(0.5)\n",
    "for spine in ('top', 'right', 'bottom', 'left'):\n",
    "    ax.spines[spine].set_visible(False)\n",
    "# ax.plot(t+i, S/N, 'b', alpha=0.5, lw=2, label='Susceptible')\n",
    "# ax.plot(t+i, I/N, 'r', alpha=0.5, lw=2, label='Infected')\n",
    "# ax.plot(t+i, R/N, 'g', alpha=0.5, lw=2, label='Recovered with immunity')\n",
    "\n",
    "final_sus = np.zeros((500,len(dates)),float)\n",
    "final_inf = np.zeros((500,len(dates)),float)\n",
    "final_rec = np.zeros((500,len(dates)),float)\n",
    "sum_sus = []\n",
    "sum_inf = []\n",
    "sum_rec = []\n",
    "\n",
    "for i in range(0,len(dates)):\n",
    "    S,I,R,t=SIR(inf_at_t[i])\n",
    "    #final_sus[:,i] = S\n",
    "    final_inf[:,i] = I\n",
    "    #final_rec[:,i] = R\n",
    "\n",
    "for i in range(0,500):\n",
    "    #sum_sus.append(np.sum(final_sus[i,:]))\n",
    "    sum_inf.append(np.sum(final_inf[i,:]))\n",
    "    #sum_rec.append(np.sum(final_rec[i,:]))\n",
    "\n",
    "#plt.plot(sum_sus)\n",
    "plt.plot(sum_inf)\n",
    "#plt.plot(sum_rec)\n",
    "\n",
    "\n",
    "plt.show()"
   ]
  },
  {
   "cell_type": "code",
   "execution_count": 135,
   "metadata": {},
   "outputs": [
    {
     "ename": "TypeError",
     "evalue": "SIR() takes 1 positional argument but 2 were given",
     "output_type": "error",
     "traceback": [
      "\u001b[0;31m---------------------------------------------------------------------------\u001b[0m",
      "\u001b[0;31mTypeError\u001b[0m                                 Traceback (most recent call last)",
      "\u001b[0;32m<ipython-input-135-f41525b847c5>\u001b[0m in \u001b[0;36m<module>\u001b[0;34m\u001b[0m\n\u001b[1;32m      1\u001b[0m \u001b[0;32mfor\u001b[0m \u001b[0mi\u001b[0m \u001b[0;32min\u001b[0m \u001b[0mrange\u001b[0m\u001b[0;34m(\u001b[0m\u001b[0;36m0\u001b[0m\u001b[0;34m,\u001b[0m\u001b[0mlen\u001b[0m\u001b[0;34m(\u001b[0m\u001b[0minf_at_t\u001b[0m\u001b[0;34m)\u001b[0m\u001b[0;34m)\u001b[0m\u001b[0;34m:\u001b[0m\u001b[0;34m\u001b[0m\u001b[0;34m\u001b[0m\u001b[0m\n\u001b[0;32m----> 2\u001b[0;31m     \u001b[0mSIR\u001b[0m\u001b[0;34m(\u001b[0m\u001b[0mi\u001b[0m\u001b[0;34m,\u001b[0m\u001b[0mdates\u001b[0m\u001b[0;34m[\u001b[0m\u001b[0mi\u001b[0m\u001b[0;34m]\u001b[0m\u001b[0;34m)\u001b[0m\u001b[0;34m\u001b[0m\u001b[0;34m\u001b[0m\u001b[0m\n\u001b[0m\u001b[1;32m      3\u001b[0m \u001b[0mplt\u001b[0m\u001b[0;34m.\u001b[0m\u001b[0mshow\u001b[0m\u001b[0;34m(\u001b[0m\u001b[0;34m)\u001b[0m\u001b[0;34m\u001b[0m\u001b[0;34m\u001b[0m\u001b[0m\n",
      "\u001b[0;31mTypeError\u001b[0m: SIR() takes 1 positional argument but 2 were given"
     ]
    }
   ],
   "source": [
    "for i in range(0,len(inf_at_t)):\n",
    "    SIR(i,dates[i])\n",
    "plt.show()\n"
   ]
  },
  {
   "cell_type": "code",
   "execution_count": 54,
   "metadata": {},
   "outputs": [],
   "source": [
    "S,I,R,t = SIR(3,0)\n",
    "#print(t)\n",
    "\n",
    "#plt.plot(t,S)\n",
    "#plt.plot(t,I)\n",
    "#plt.plot(t,R)\n"
   ]
  },
  {
   "cell_type": "code",
   "execution_count": null,
   "metadata": {},
   "outputs": [],
   "source": []
  },
  {
   "cell_type": "code",
   "execution_count": 127,
   "metadata": {},
   "outputs": [
    {
     "data": {
      "text/plain": [
       "59"
      ]
     },
     "execution_count": 127,
     "metadata": {},
     "output_type": "execute_result"
    }
   ],
   "source": [
    "len(final_sum)"
   ]
  },
  {
   "cell_type": "code",
   "execution_count": null,
   "metadata": {},
   "outputs": [],
   "source": []
  }
 ],
 "metadata": {
  "kernelspec": {
   "display_name": "Python 3",
   "language": "python",
   "name": "python3"
  },
  "language_info": {
   "codemirror_mode": {
    "name": "ipython",
    "version": 3
   },
   "file_extension": ".py",
   "mimetype": "text/x-python",
   "name": "python",
   "nbconvert_exporter": "python",
   "pygments_lexer": "ipython3",
   "version": "3.6.9"
  }
 },
 "nbformat": 4,
 "nbformat_minor": 4
}
