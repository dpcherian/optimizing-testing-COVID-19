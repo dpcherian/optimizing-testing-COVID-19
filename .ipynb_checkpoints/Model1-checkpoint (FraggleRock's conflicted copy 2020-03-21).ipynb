{
 "cells": [
  {
   "cell_type": "code",
   "execution_count": 2,
   "metadata": {},
   "outputs": [],
   "source": [
    "import numpy as np\n",
    "from scipy.integrate import odeint\n",
    "import matplotlib.pyplot as plt"
   ]
  },
  {
   "cell_type": "code",
   "execution_count": 3,
   "metadata": {},
   "outputs": [],
   "source": [
    "# Let's start off by assuming that there's a CSV file with some data\n",
    "# that we unpack into some variables below\n",
    "\n",
    "# Data from OpenFlights regarding all international routes\n",
    "airlineCode, airlineID, source, sourceID, destination, destinationID, codeshare, stops, equipment = np.loadtxt(\"../data/routes.csv\",delimiter=\",\",unpack=True,dtype='U')\n",
    "\n",
    "# Data from OpenFlights regarding all international Airports amd their associated cities\n",
    "ap_city,ap_country,iata,icao = np.loadtxt(\"../data/airports.csv\",delimiter=\",\",usecols=[2,3,4,5],unpack=True,dtype='U')\n",
    "\n",
    "ind_airports_iata = iata[(ap_country=='\"India\"')]  # List of all Indian airports\n",
    "\n",
    "# Replace all quotation marks in the collected data\n",
    "ind_airports_iata = [w.replace('\"', '') for w in ind_airports_iata]\n",
    "ap_city = [w.replace('\"', '') for w in ap_city]\n",
    "ap_country = [w.replace('\"', '') for w in ap_country]\n",
    "iata = [w.replace('\"', '') for w in iata]\n",
    "icao = [w.replace('\"', '') for w in icao]\n",
    "\n",
    "\n",
    "# List of all indian airports\n",
    "ind_airports = [\"DEL\", \"BOM\",\"MAA\",\"BLR\",\"CCU\",\"HYD\",\"COK\"]\n",
    "\n",
    "# Foreign flights arriving to an Indian airport (may contain duplicates i.e. two flights or more from the same aiport)\n",
    "origins_data = []\n",
    "\n",
    "for ap in ind_airports:\n",
    "    all_origins_to_i = source[(destination==ap)] # Find all flights to an Indian airport i\n",
    "    \n",
    "    for o in all_origins_to_i:                   # For each of these flights,\n",
    "        if(o not in ind_airports_iata):          # If the airport is not in India (i.e. \"foreign\")\n",
    "            for i in range(0,len(iata)):         # Append the origin city and country to the origins_with_dup list\n",
    "                if(o==iata[i]):\n",
    "                    origins_data.append(([airlineCode[i],o,ap_city[i],ap_country[i]]))\n",
    "                    break;\n",
    "            \n",
    "origins_data=np.array(origins_data)\n",
    "\n",
    "origin_airlineCode = origins_data[:,0]\n",
    "origin_city = origins_data[:,2]\n",
    "origin_country = origins_data[:,3]\n",
    "\n",
    "#print(origin_city)\n",
    "\n",
    "cities, city_num_dup = np.unique(origin_city, return_counts=True)\n",
    "countries, country_num_dup = np.unique(origin_country,return_counts=True)\n",
    "\n",
    "# print(cities)\n",
    "# print(city_num_dup)\n",
    "\n",
    "# print(countries)\n",
    "# print(country_num_dup)   # WARNING!!! cities[i] and countries[i] don't represent the same data point!\n",
    "#                          # Use EITHER countries or cities!\n"
   ]
  },
  {
   "cell_type": "markdown",
   "metadata": {},
   "source": [
    "I now have a list of countries feeding into India, and the number of flights per country."
   ]
  },
  {
   "cell_type": "markdown",
   "metadata": {},
   "source": [
    "### Estimating $D_{ij} (t)$\n",
    "\n",
    "We now have a list of all the flights per airport $i$, and from which countries they come, per day. The problem right now is that we have the same data for every day.\n",
    "\n",
    "This essentially gives us $D_{ij}$, since the number of passengers in a day from an airport will be `no. of flights from airport j x average number of people per flight (200?) x isBanned (0 or 1)`.\n",
    "\n",
    "**Note:** $D_{ij}(t)$ is a *constant* without daily data.\n",
    "\n",
    "Since we're assuming all airports in India, we can sum over all $i$, and get a number $D_j(t)$ which is the number of people entering India as whole from country $j$. The time dependence only takes into consideration whether the country has been banned or not.\n",
    "\n",
    "I now have two arrays, one with a list of cities and the other with the number of flights from that city,\n",
    "\n",
    "\n",
    "### What about $p_j(t)$\n",
    "\n",
    "Let's start off by assuming some random-ish value of $p_j(t)$. It should clearly be indexed by city."
   ]
  },
  {
   "cell_type": "code",
   "execution_count": null,
   "metadata": {},
   "outputs": [],
   "source": []
  },
  {
   "cell_type": "code",
   "execution_count": 23,
   "metadata": {},
   "outputs": [
    {
     "name": "stdout",
     "output_type": "stream",
     "text": [
      "Total number of infected cases on day t is 32699.221182804707 out of a total of 68400\n"
     ]
    }
   ],
   "source": [
    "# This assumes that pj.csv has no duplicate city-names\n",
    "\n",
    "pj_city,pj_country,pj = np.loadtxt(\"../data/pj.csv\",delimiter=\",\",usecols=[0,1,2],unpack=True,dtype='U')\n",
    "\n",
    "no_of_flts = country_num_dup\n",
    "\n",
    "# Calculating D_ij x p_j\n",
    "\n",
    "### Calculating Dij ###\n",
    "\n",
    "Dij = set_Dij(countries,no_of_flts,)\n",
    "\n",
    "\n",
    "people_per_flight = 200\n",
    "Dijpj = 0\n",
    "total_pass = 0\n",
    "\n",
    "for n in range(0,len(countries)):\n",
    "    index = np.where(pj_country==countries[n])\n",
    "    if (len(index)==0):\n",
    "        print(\"Country name: ___\"+countries[n]+ \"___ not found\")\n",
    "    else:\n",
    "        #print(str(no_of_flts[n]) + \" flights from \" + countries[n] +  \" carrying \" + str(int(no_of_flts[n])*people_per_flight) + \" people. Number of infected individuals is: \" + str(int(no_of_flts[n])*people_per_flight*float(pj[index[0][0]])))\n",
    "        Dijpj = Dijpj + int(no_of_flts[n])*people_per_flight*float(pj[index[0][0]])\n",
    "        total_pass = total_pass + int(no_of_flts[n])*people_per_flight\n",
    "\n",
    "print(\"Total number of infected cases on day t is \"+ str(Dijpj)+ \" out of a total of \"+str(total_pass))"
   ]
  },
  {
   "cell_type": "markdown",
   "metadata": {},
   "source": [
    "Later code from:\n",
    "https://scipython.com/book/chapter-8-scipy/additional-examples/the-sir-epidemic-model/"
   ]
  },
  {
   "cell_type": "code",
   "execution_count": 24,
   "metadata": {},
   "outputs": [
    {
     "data": {
      "image/png": "[encoded data removed]",
      "text/plain": [
       "<Figure size 432x288 with 1 Axes>"
      ]
     },
     "metadata": {},
     "output_type": "display_data"
    }
   ],
   "source": [
    "# Total population, N.\n",
    "N = 2e7\n",
    "# Initial number of infected and recovered individuals, I0 and R0.\n",
    "I0, R0 = Dijpj, 0\n",
    "# Everyone else, S0, is susceptible to infection initially.\n",
    "S0 = N - I0 - R0\n",
    "# Contact rate, beta, and mean recovery rate, gamma, (in 1/days).\n",
    "beta, gamma = 0.2, 1./10 \n",
    "# A grid of time points (in days)\n",
    "t = np.linspace(0, 160, 160)\n",
    "\n",
    "# The SIR model differential equations.\n",
    "def deriv(y, t, N, beta, gamma):\n",
    "    S, I, R = y\n",
    "    dSdt = -beta * S * I / N\n",
    "    dIdt = beta * S * I / N - gamma * I\n",
    "    dRdt = gamma * I\n",
    "    return dSdt, dIdt, dRdt\n",
    "\n",
    "# Initial conditions vector\n",
    "y0 = S0, I0, R0\n",
    "# Integrate the SIR equations over the time grid, t.\n",
    "ret = odeint(deriv, y0, t, args=(N, beta, gamma))\n",
    "S, I, R = ret.T\n",
    "\n",
    "# Plot the data on three separate curves for S(t), I(t) and R(t)\n",
    "fig = plt.figure(facecolor='w')\n",
    "ax = fig.add_subplot(111, facecolor='#dddddd', axisbelow=True)\n",
    "ax.plot(t, S/N, 'b', alpha=0.5, lw=2, label='Susceptible')\n",
    "ax.plot(t, I/N, 'r', alpha=0.5, lw=2, label='Infected')\n",
    "ax.plot(t, R/N, 'g', alpha=0.5, lw=2, label='Recovered with immunity')\n",
    "ax.set_xlabel('Time /days')\n",
    "ax.set_ylabel('Number (fraction of $N$)')\n",
    "ax.set_ylim(0,1.2)\n",
    "ax.yaxis.set_tick_params(length=0)\n",
    "ax.xaxis.set_tick_params(length=0)\n",
    "ax.grid(b=True, which='major', c='w', lw=2, ls='-')\n",
    "legend = ax.legend()\n",
    "legend.get_frame().set_alpha(0.5)\n",
    "for spine in ('top', 'right', 'bottom', 'left'):\n",
    "    ax.spines[spine].set_visible(False)\n",
    "plt.show()"
   ]
  },
  {
   "cell_type": "code",
   "execution_count": null,
   "metadata": {},
   "outputs": [],
   "source": []
  }
 ],
 "metadata": {
  "kernelspec": {
   "display_name": "Python 3",
   "language": "python",
   "name": "python3"
  },
  "language_info": {
   "codemirror_mode": {
    "name": "ipython",
    "version": 3
   },
   "file_extension": ".py",
   "mimetype": "text/x-python",
   "name": "python",
   "nbconvert_exporter": "python",
   "pygments_lexer": "ipython3",
   "version": "3.6.9"
  }
 },
 "nbformat": 4,
 "nbformat_minor": 4
}
